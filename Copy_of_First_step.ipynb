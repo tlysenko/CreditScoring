{
  "nbformat": 4,
  "nbformat_minor": 0,
  "metadata": {
    "colab": {
      "name": "Copy of First step.ipynb",
      "provenance": [],
      "include_colab_link": true
    },
    "kernelspec": {
      "name": "python3",
      "display_name": "Python 3"
    },
    "language_info": {
      "name": "python"
    }
  },
  "cells": [
    {
      "cell_type": "markdown",
      "metadata": {
        "id": "view-in-github",
        "colab_type": "text"
      },
      "source": [
        "<a href=\"https://colab.research.google.com/github/tlysenko/CreditScoring/blob/master/Copy_of_First_step.ipynb\" target=\"_parent\"><img src=\"https://colab.research.google.com/assets/colab-badge.svg\" alt=\"Open In Colab\"/></a>"
      ]
    },
    {
      "cell_type": "markdown",
      "metadata": {
        "id": "qCZjHQWTorAK"
      },
      "source": [
        "  #                                Знакомство с Pandas\n"
      ]
    },
    {
      "cell_type": "code",
      "metadata": {
        "id": "d5APtlNgXXo6"
      },
      "source": [
        "import pandas as pd"
      ],
      "execution_count": null,
      "outputs": []
    },
    {
      "cell_type": "code",
      "metadata": {
        "id": "IAZVyKDNlzSO"
      },
      "source": [
        "frame = pd.DataFrame({\"numbers\": range(10), \"chars\": [\"a\"]*10})"
      ],
      "execution_count": null,
      "outputs": []
    },
    {
      "cell_type": "code",
      "metadata": {
        "colab": {
          "base_uri": "https://localhost:8080/",
          "height": 357
        },
        "id": "1LC_5hr8lzHn",
        "outputId": "c4f681ae-89ae-4195-9d0c-b74d3f86809f"
      },
      "source": [
        "frame"
      ],
      "execution_count": null,
      "outputs": [
        {
          "output_type": "execute_result",
          "data": {
            "text/html": [
              "<div>\n",
              "<style scoped>\n",
              "    .dataframe tbody tr th:only-of-type {\n",
              "        vertical-align: middle;\n",
              "    }\n",
              "\n",
              "    .dataframe tbody tr th {\n",
              "        vertical-align: top;\n",
              "    }\n",
              "\n",
              "    .dataframe thead th {\n",
              "        text-align: right;\n",
              "    }\n",
              "</style>\n",
              "<table border=\"1\" class=\"dataframe\">\n",
              "  <thead>\n",
              "    <tr style=\"text-align: right;\">\n",
              "      <th></th>\n",
              "      <th>numbers</th>\n",
              "      <th>chars</th>\n",
              "    </tr>\n",
              "  </thead>\n",
              "  <tbody>\n",
              "    <tr>\n",
              "      <th>0</th>\n",
              "      <td>0</td>\n",
              "      <td>a</td>\n",
              "    </tr>\n",
              "    <tr>\n",
              "      <th>1</th>\n",
              "      <td>1</td>\n",
              "      <td>a</td>\n",
              "    </tr>\n",
              "    <tr>\n",
              "      <th>2</th>\n",
              "      <td>2</td>\n",
              "      <td>a</td>\n",
              "    </tr>\n",
              "    <tr>\n",
              "      <th>3</th>\n",
              "      <td>3</td>\n",
              "      <td>a</td>\n",
              "    </tr>\n",
              "    <tr>\n",
              "      <th>4</th>\n",
              "      <td>4</td>\n",
              "      <td>a</td>\n",
              "    </tr>\n",
              "    <tr>\n",
              "      <th>5</th>\n",
              "      <td>5</td>\n",
              "      <td>a</td>\n",
              "    </tr>\n",
              "    <tr>\n",
              "      <th>6</th>\n",
              "      <td>6</td>\n",
              "      <td>a</td>\n",
              "    </tr>\n",
              "    <tr>\n",
              "      <th>7</th>\n",
              "      <td>7</td>\n",
              "      <td>a</td>\n",
              "    </tr>\n",
              "    <tr>\n",
              "      <th>8</th>\n",
              "      <td>8</td>\n",
              "      <td>a</td>\n",
              "    </tr>\n",
              "    <tr>\n",
              "      <th>9</th>\n",
              "      <td>9</td>\n",
              "      <td>a</td>\n",
              "    </tr>\n",
              "  </tbody>\n",
              "</table>\n",
              "</div>"
            ],
            "text/plain": [
              "   numbers chars\n",
              "0        0     a\n",
              "1        1     a\n",
              "2        2     a\n",
              "3        3     a\n",
              "4        4     a\n",
              "5        5     a\n",
              "6        6     a\n",
              "7        7     a\n",
              "8        8     a\n",
              "9        9     a"
            ]
          },
          "metadata": {
            "tags": []
          },
          "execution_count": 5
        }
      ]
    },
    {
      "cell_type": "code",
      "metadata": {
        "id": "GDKxKLFkkctu"
      },
      "source": [
        "frame = pd.read_csv(\"dataset.tsv\", header=0, sep=\"\\t\")"
      ],
      "execution_count": null,
      "outputs": []
    },
    {
      "cell_type": "code",
      "metadata": {
        "colab": {
          "base_uri": "https://localhost:8080/",
          "height": 234
        },
        "id": "Om85V7c-kmIa",
        "outputId": "493283d2-a863-49ef-ed9c-5178e9f82e3b"
      },
      "source": [
        "frame"
      ],
      "execution_count": null,
      "outputs": [
        {
          "output_type": "execute_result",
          "data": {
            "text/html": [
              "<div>\n",
              "<style scoped>\n",
              "    .dataframe tbody tr th:only-of-type {\n",
              "        vertical-align: middle;\n",
              "    }\n",
              "\n",
              "    .dataframe tbody tr th {\n",
              "        vertical-align: top;\n",
              "    }\n",
              "\n",
              "    .dataframe thead th {\n",
              "        text-align: right;\n",
              "    }\n",
              "</style>\n",
              "<table border=\"1\" class=\"dataframe\">\n",
              "  <thead>\n",
              "    <tr style=\"text-align: right;\">\n",
              "      <th></th>\n",
              "      <th>Name</th>\n",
              "      <th>Birth</th>\n",
              "      <th>City</th>\n",
              "      <th>Position</th>\n",
              "    </tr>\n",
              "  </thead>\n",
              "  <tbody>\n",
              "    <tr>\n",
              "      <th>0</th>\n",
              "      <td>Иванов А.А.</td>\n",
              "      <td>22.03.1980</td>\n",
              "      <td>Москва</td>\n",
              "      <td>NaN</td>\n",
              "    </tr>\n",
              "    <tr>\n",
              "      <th>1</th>\n",
              "      <td>Сорокин И.В.</td>\n",
              "      <td>07.08.1965</td>\n",
              "      <td>Волгоград</td>\n",
              "      <td>инженер</td>\n",
              "    </tr>\n",
              "    <tr>\n",
              "      <th>2</th>\n",
              "      <td>Белов М.М.</td>\n",
              "      <td>13.02.1980</td>\n",
              "      <td>Ростов</td>\n",
              "      <td>менеджер</td>\n",
              "    </tr>\n",
              "    <tr>\n",
              "      <th>3</th>\n",
              "      <td>Мельникова Д.С.</td>\n",
              "      <td>15.04.1985</td>\n",
              "      <td>Ростов</td>\n",
              "      <td>NaN</td>\n",
              "    </tr>\n",
              "    <tr>\n",
              "      <th>4</th>\n",
              "      <td>Рыбина Е.П.</td>\n",
              "      <td>19.11.1985</td>\n",
              "      <td>Москва</td>\n",
              "      <td>инженер</td>\n",
              "    </tr>\n",
              "    <tr>\n",
              "      <th>5</th>\n",
              "      <td>Костров С.О.</td>\n",
              "      <td>31.05.1985</td>\n",
              "      <td>Москва</td>\n",
              "      <td>стажер</td>\n",
              "    </tr>\n",
              "  </tbody>\n",
              "</table>\n",
              "</div>"
            ],
            "text/plain": [
              "              Name       Birth       City  Position\n",
              "0      Иванов А.А.  22.03.1980     Москва       NaN\n",
              "1     Сорокин И.В.  07.08.1965  Волгоград   инженер\n",
              "2       Белов М.М.  13.02.1980     Ростов  менеджер\n",
              "3  Мельникова Д.С.  15.04.1985     Ростов       NaN\n",
              "4      Рыбина Е.П.  19.11.1985     Москва   инженер\n",
              "5     Костров С.О.  31.05.1985     Москва    стажер"
            ]
          },
          "metadata": {
            "tags": []
          },
          "execution_count": 8
        }
      ]
    },
    {
      "cell_type": "code",
      "metadata": {
        "colab": {
          "base_uri": "https://localhost:8080/"
        },
        "id": "9cI3tAComgl7",
        "outputId": "fe186307-e5a0-46d8-ee80-012361939986"
      },
      "source": [
        "frame.columns"
      ],
      "execution_count": null,
      "outputs": [
        {
          "output_type": "execute_result",
          "data": {
            "text/plain": [
              "Index(['Name', 'Birth', 'City', 'Position'], dtype='object')"
            ]
          },
          "metadata": {
            "tags": []
          },
          "execution_count": 9
        }
      ]
    },
    {
      "cell_type": "code",
      "metadata": {
        "colab": {
          "base_uri": "https://localhost:8080/"
        },
        "id": "IollWiN1mmkD",
        "outputId": "c9da003b-d67d-446f-eccf-c4bafc5cb355"
      },
      "source": [
        "frame.shape"
      ],
      "execution_count": null,
      "outputs": [
        {
          "output_type": "execute_result",
          "data": {
            "text/plain": [
              "(6, 4)"
            ]
          },
          "metadata": {
            "tags": []
          },
          "execution_count": 10
        }
      ]
    },
    {
      "cell_type": "code",
      "metadata": {
        "id": "2WG-wuMbmoX4"
      },
      "source": [
        "new_line = {\"Name\": \"Perov\", \"Birth\": \"22.03.1990\", \"City\": \"Penza\"}"
      ],
      "execution_count": null,
      "outputs": []
    },
    {
      "cell_type": "code",
      "metadata": {
        "colab": {
          "base_uri": "https://localhost:8080/",
          "height": 265
        },
        "id": "y0orFo1CnCDd",
        "outputId": "2a206ad7-fbdf-4d1c-ba9a-35c75cb7abc8"
      },
      "source": [
        "frame.append(new_line, ignore_index=True)"
      ],
      "execution_count": null,
      "outputs": [
        {
          "output_type": "execute_result",
          "data": {
            "text/html": [
              "<div>\n",
              "<style scoped>\n",
              "    .dataframe tbody tr th:only-of-type {\n",
              "        vertical-align: middle;\n",
              "    }\n",
              "\n",
              "    .dataframe tbody tr th {\n",
              "        vertical-align: top;\n",
              "    }\n",
              "\n",
              "    .dataframe thead th {\n",
              "        text-align: right;\n",
              "    }\n",
              "</style>\n",
              "<table border=\"1\" class=\"dataframe\">\n",
              "  <thead>\n",
              "    <tr style=\"text-align: right;\">\n",
              "      <th></th>\n",
              "      <th>Name</th>\n",
              "      <th>Birth</th>\n",
              "      <th>City</th>\n",
              "      <th>Position</th>\n",
              "    </tr>\n",
              "  </thead>\n",
              "  <tbody>\n",
              "    <tr>\n",
              "      <th>0</th>\n",
              "      <td>Иванов А.А.</td>\n",
              "      <td>22.03.1980</td>\n",
              "      <td>Москва</td>\n",
              "      <td>NaN</td>\n",
              "    </tr>\n",
              "    <tr>\n",
              "      <th>1</th>\n",
              "      <td>Сорокин И.В.</td>\n",
              "      <td>07.08.1965</td>\n",
              "      <td>Волгоград</td>\n",
              "      <td>инженер</td>\n",
              "    </tr>\n",
              "    <tr>\n",
              "      <th>2</th>\n",
              "      <td>Белов М.М.</td>\n",
              "      <td>13.02.1980</td>\n",
              "      <td>Ростов</td>\n",
              "      <td>менеджер</td>\n",
              "    </tr>\n",
              "    <tr>\n",
              "      <th>3</th>\n",
              "      <td>Мельникова Д.С.</td>\n",
              "      <td>15.04.1985</td>\n",
              "      <td>Ростов</td>\n",
              "      <td>NaN</td>\n",
              "    </tr>\n",
              "    <tr>\n",
              "      <th>4</th>\n",
              "      <td>Рыбина Е.П.</td>\n",
              "      <td>19.11.1985</td>\n",
              "      <td>Москва</td>\n",
              "      <td>инженер</td>\n",
              "    </tr>\n",
              "    <tr>\n",
              "      <th>5</th>\n",
              "      <td>Костров С.О.</td>\n",
              "      <td>31.05.1985</td>\n",
              "      <td>Москва</td>\n",
              "      <td>стажер</td>\n",
              "    </tr>\n",
              "    <tr>\n",
              "      <th>6</th>\n",
              "      <td>Perov</td>\n",
              "      <td>22.03.1990</td>\n",
              "      <td>Penza</td>\n",
              "      <td>NaN</td>\n",
              "    </tr>\n",
              "  </tbody>\n",
              "</table>\n",
              "</div>"
            ],
            "text/plain": [
              "              Name       Birth       City  Position\n",
              "0      Иванов А.А.  22.03.1980     Москва       NaN\n",
              "1     Сорокин И.В.  07.08.1965  Волгоград   инженер\n",
              "2       Белов М.М.  13.02.1980     Ростов  менеджер\n",
              "3  Мельникова Д.С.  15.04.1985     Ростов       NaN\n",
              "4      Рыбина Е.П.  19.11.1985     Москва   инженер\n",
              "5     Костров С.О.  31.05.1985     Москва    стажер\n",
              "6            Perov  22.03.1990      Penza       NaN"
            ]
          },
          "metadata": {
            "tags": []
          },
          "execution_count": 12
        }
      ]
    },
    {
      "cell_type": "code",
      "metadata": {
        "colab": {
          "base_uri": "https://localhost:8080/",
          "height": 234
        },
        "id": "3VYntq8lnJfa",
        "outputId": "6fbe68aa-d094-4c12-aa83-e32dc9e6306d"
      },
      "source": [
        "frame"
      ],
      "execution_count": null,
      "outputs": [
        {
          "output_type": "execute_result",
          "data": {
            "text/html": [
              "<div>\n",
              "<style scoped>\n",
              "    .dataframe tbody tr th:only-of-type {\n",
              "        vertical-align: middle;\n",
              "    }\n",
              "\n",
              "    .dataframe tbody tr th {\n",
              "        vertical-align: top;\n",
              "    }\n",
              "\n",
              "    .dataframe thead th {\n",
              "        text-align: right;\n",
              "    }\n",
              "</style>\n",
              "<table border=\"1\" class=\"dataframe\">\n",
              "  <thead>\n",
              "    <tr style=\"text-align: right;\">\n",
              "      <th></th>\n",
              "      <th>Name</th>\n",
              "      <th>Birth</th>\n",
              "      <th>City</th>\n",
              "      <th>Position</th>\n",
              "    </tr>\n",
              "  </thead>\n",
              "  <tbody>\n",
              "    <tr>\n",
              "      <th>0</th>\n",
              "      <td>Иванов А.А.</td>\n",
              "      <td>22.03.1980</td>\n",
              "      <td>Москва</td>\n",
              "      <td>NaN</td>\n",
              "    </tr>\n",
              "    <tr>\n",
              "      <th>1</th>\n",
              "      <td>Сорокин И.В.</td>\n",
              "      <td>07.08.1965</td>\n",
              "      <td>Волгоград</td>\n",
              "      <td>инженер</td>\n",
              "    </tr>\n",
              "    <tr>\n",
              "      <th>2</th>\n",
              "      <td>Белов М.М.</td>\n",
              "      <td>13.02.1980</td>\n",
              "      <td>Ростов</td>\n",
              "      <td>менеджер</td>\n",
              "    </tr>\n",
              "    <tr>\n",
              "      <th>3</th>\n",
              "      <td>Мельникова Д.С.</td>\n",
              "      <td>15.04.1985</td>\n",
              "      <td>Ростов</td>\n",
              "      <td>NaN</td>\n",
              "    </tr>\n",
              "    <tr>\n",
              "      <th>4</th>\n",
              "      <td>Рыбина Е.П.</td>\n",
              "      <td>19.11.1985</td>\n",
              "      <td>Москва</td>\n",
              "      <td>инженер</td>\n",
              "    </tr>\n",
              "    <tr>\n",
              "      <th>5</th>\n",
              "      <td>Костров С.О.</td>\n",
              "      <td>31.05.1985</td>\n",
              "      <td>Москва</td>\n",
              "      <td>стажер</td>\n",
              "    </tr>\n",
              "  </tbody>\n",
              "</table>\n",
              "</div>"
            ],
            "text/plain": [
              "              Name       Birth       City  Position\n",
              "0      Иванов А.А.  22.03.1980     Москва       NaN\n",
              "1     Сорокин И.В.  07.08.1965  Волгоград   инженер\n",
              "2       Белов М.М.  13.02.1980     Ростов  менеджер\n",
              "3  Мельникова Д.С.  15.04.1985     Ростов       NaN\n",
              "4      Рыбина Е.П.  19.11.1985     Москва   инженер\n",
              "5     Костров С.О.  31.05.1985     Москва    стажер"
            ]
          },
          "metadata": {
            "tags": []
          },
          "execution_count": 13
        }
      ]
    },
    {
      "cell_type": "code",
      "metadata": {
        "id": "dV2aO3EYnKnt"
      },
      "source": [
        "frame = frame.append(new_line, ignore_index=True)"
      ],
      "execution_count": null,
      "outputs": []
    },
    {
      "cell_type": "code",
      "metadata": {
        "colab": {
          "base_uri": "https://localhost:8080/",
          "height": 265
        },
        "id": "JPMp5rvanUH-",
        "outputId": "995c2cb5-82bb-41aa-bda9-a126efb95c77"
      },
      "source": [
        "frame"
      ],
      "execution_count": null,
      "outputs": [
        {
          "output_type": "execute_result",
          "data": {
            "text/html": [
              "<div>\n",
              "<style scoped>\n",
              "    .dataframe tbody tr th:only-of-type {\n",
              "        vertical-align: middle;\n",
              "    }\n",
              "\n",
              "    .dataframe tbody tr th {\n",
              "        vertical-align: top;\n",
              "    }\n",
              "\n",
              "    .dataframe thead th {\n",
              "        text-align: right;\n",
              "    }\n",
              "</style>\n",
              "<table border=\"1\" class=\"dataframe\">\n",
              "  <thead>\n",
              "    <tr style=\"text-align: right;\">\n",
              "      <th></th>\n",
              "      <th>Name</th>\n",
              "      <th>Birth</th>\n",
              "      <th>City</th>\n",
              "      <th>Position</th>\n",
              "    </tr>\n",
              "  </thead>\n",
              "  <tbody>\n",
              "    <tr>\n",
              "      <th>0</th>\n",
              "      <td>Иванов А.А.</td>\n",
              "      <td>22.03.1980</td>\n",
              "      <td>Москва</td>\n",
              "      <td>NaN</td>\n",
              "    </tr>\n",
              "    <tr>\n",
              "      <th>1</th>\n",
              "      <td>Сорокин И.В.</td>\n",
              "      <td>07.08.1965</td>\n",
              "      <td>Волгоград</td>\n",
              "      <td>инженер</td>\n",
              "    </tr>\n",
              "    <tr>\n",
              "      <th>2</th>\n",
              "      <td>Белов М.М.</td>\n",
              "      <td>13.02.1980</td>\n",
              "      <td>Ростов</td>\n",
              "      <td>менеджер</td>\n",
              "    </tr>\n",
              "    <tr>\n",
              "      <th>3</th>\n",
              "      <td>Мельникова Д.С.</td>\n",
              "      <td>15.04.1985</td>\n",
              "      <td>Ростов</td>\n",
              "      <td>NaN</td>\n",
              "    </tr>\n",
              "    <tr>\n",
              "      <th>4</th>\n",
              "      <td>Рыбина Е.П.</td>\n",
              "      <td>19.11.1985</td>\n",
              "      <td>Москва</td>\n",
              "      <td>инженер</td>\n",
              "    </tr>\n",
              "    <tr>\n",
              "      <th>5</th>\n",
              "      <td>Костров С.О.</td>\n",
              "      <td>31.05.1985</td>\n",
              "      <td>Москва</td>\n",
              "      <td>стажер</td>\n",
              "    </tr>\n",
              "    <tr>\n",
              "      <th>6</th>\n",
              "      <td>Perov</td>\n",
              "      <td>22.03.1990</td>\n",
              "      <td>Penza</td>\n",
              "      <td>NaN</td>\n",
              "    </tr>\n",
              "  </tbody>\n",
              "</table>\n",
              "</div>"
            ],
            "text/plain": [
              "              Name       Birth       City  Position\n",
              "0      Иванов А.А.  22.03.1980     Москва       NaN\n",
              "1     Сорокин И.В.  07.08.1965  Волгоград   инженер\n",
              "2       Белов М.М.  13.02.1980     Ростов  менеджер\n",
              "3  Мельникова Д.С.  15.04.1985     Ростов       NaN\n",
              "4      Рыбина Е.П.  19.11.1985     Москва   инженер\n",
              "5     Костров С.О.  31.05.1985     Москва    стажер\n",
              "6            Perov  22.03.1990      Penza       NaN"
            ]
          },
          "metadata": {
            "tags": []
          },
          "execution_count": 15
        }
      ]
    },
    {
      "cell_type": "code",
      "metadata": {
        "id": "tISzAWZVnVTJ"
      },
      "source": [
        "frame[\"IsStudent\"] = False*5 + True*2"
      ],
      "execution_count": null,
      "outputs": []
    },
    {
      "cell_type": "code",
      "metadata": {
        "colab": {
          "base_uri": "https://localhost:8080/",
          "height": 265
        },
        "id": "vm1bYYBVnlBp",
        "outputId": "175cb53c-dc58-4e6d-c3c3-74121d7d0608"
      },
      "source": [
        "frame"
      ],
      "execution_count": null,
      "outputs": [
        {
          "output_type": "execute_result",
          "data": {
            "text/html": [
              "<div>\n",
              "<style scoped>\n",
              "    .dataframe tbody tr th:only-of-type {\n",
              "        vertical-align: middle;\n",
              "    }\n",
              "\n",
              "    .dataframe tbody tr th {\n",
              "        vertical-align: top;\n",
              "    }\n",
              "\n",
              "    .dataframe thead th {\n",
              "        text-align: right;\n",
              "    }\n",
              "</style>\n",
              "<table border=\"1\" class=\"dataframe\">\n",
              "  <thead>\n",
              "    <tr style=\"text-align: right;\">\n",
              "      <th></th>\n",
              "      <th>Name</th>\n",
              "      <th>Birth</th>\n",
              "      <th>City</th>\n",
              "      <th>Position</th>\n",
              "      <th>IsStudent</th>\n",
              "    </tr>\n",
              "  </thead>\n",
              "  <tbody>\n",
              "    <tr>\n",
              "      <th>0</th>\n",
              "      <td>Иванов А.А.</td>\n",
              "      <td>22.03.1980</td>\n",
              "      <td>Москва</td>\n",
              "      <td>NaN</td>\n",
              "      <td>2</td>\n",
              "    </tr>\n",
              "    <tr>\n",
              "      <th>1</th>\n",
              "      <td>Сорокин И.В.</td>\n",
              "      <td>07.08.1965</td>\n",
              "      <td>Волгоград</td>\n",
              "      <td>инженер</td>\n",
              "      <td>2</td>\n",
              "    </tr>\n",
              "    <tr>\n",
              "      <th>2</th>\n",
              "      <td>Белов М.М.</td>\n",
              "      <td>13.02.1980</td>\n",
              "      <td>Ростов</td>\n",
              "      <td>менеджер</td>\n",
              "      <td>2</td>\n",
              "    </tr>\n",
              "    <tr>\n",
              "      <th>3</th>\n",
              "      <td>Мельникова Д.С.</td>\n",
              "      <td>15.04.1985</td>\n",
              "      <td>Ростов</td>\n",
              "      <td>NaN</td>\n",
              "      <td>2</td>\n",
              "    </tr>\n",
              "    <tr>\n",
              "      <th>4</th>\n",
              "      <td>Рыбина Е.П.</td>\n",
              "      <td>19.11.1985</td>\n",
              "      <td>Москва</td>\n",
              "      <td>инженер</td>\n",
              "      <td>2</td>\n",
              "    </tr>\n",
              "    <tr>\n",
              "      <th>5</th>\n",
              "      <td>Костров С.О.</td>\n",
              "      <td>31.05.1985</td>\n",
              "      <td>Москва</td>\n",
              "      <td>стажер</td>\n",
              "      <td>2</td>\n",
              "    </tr>\n",
              "    <tr>\n",
              "      <th>6</th>\n",
              "      <td>Perov</td>\n",
              "      <td>22.03.1990</td>\n",
              "      <td>Penza</td>\n",
              "      <td>NaN</td>\n",
              "      <td>2</td>\n",
              "    </tr>\n",
              "  </tbody>\n",
              "</table>\n",
              "</div>"
            ],
            "text/plain": [
              "              Name       Birth       City  Position  IsStudent\n",
              "0      Иванов А.А.  22.03.1980     Москва       NaN          2\n",
              "1     Сорокин И.В.  07.08.1965  Волгоград   инженер          2\n",
              "2       Белов М.М.  13.02.1980     Ростов  менеджер          2\n",
              "3  Мельникова Д.С.  15.04.1985     Ростов       NaN          2\n",
              "4      Рыбина Е.П.  19.11.1985     Москва   инженер          2\n",
              "5     Костров С.О.  31.05.1985     Москва    стажер          2\n",
              "6            Perov  22.03.1990      Penza       NaN          2"
            ]
          },
          "metadata": {
            "tags": []
          },
          "execution_count": 17
        }
      ]
    },
    {
      "cell_type": "code",
      "metadata": {
        "colab": {
          "base_uri": "https://localhost:8080/",
          "height": 203
        },
        "id": "6MQVTZijnnHP",
        "outputId": "dfab7052-ef1e-4cdb-bc17-5069798fb62e"
      },
      "source": [
        "frame.drop([5,6], axis=0)"
      ],
      "execution_count": null,
      "outputs": [
        {
          "output_type": "execute_result",
          "data": {
            "text/html": [
              "<div>\n",
              "<style scoped>\n",
              "    .dataframe tbody tr th:only-of-type {\n",
              "        vertical-align: middle;\n",
              "    }\n",
              "\n",
              "    .dataframe tbody tr th {\n",
              "        vertical-align: top;\n",
              "    }\n",
              "\n",
              "    .dataframe thead th {\n",
              "        text-align: right;\n",
              "    }\n",
              "</style>\n",
              "<table border=\"1\" class=\"dataframe\">\n",
              "  <thead>\n",
              "    <tr style=\"text-align: right;\">\n",
              "      <th></th>\n",
              "      <th>Name</th>\n",
              "      <th>Birth</th>\n",
              "      <th>City</th>\n",
              "      <th>Position</th>\n",
              "      <th>IsStudent</th>\n",
              "    </tr>\n",
              "  </thead>\n",
              "  <tbody>\n",
              "    <tr>\n",
              "      <th>0</th>\n",
              "      <td>Иванов А.А.</td>\n",
              "      <td>22.03.1980</td>\n",
              "      <td>Москва</td>\n",
              "      <td>NaN</td>\n",
              "      <td>2</td>\n",
              "    </tr>\n",
              "    <tr>\n",
              "      <th>1</th>\n",
              "      <td>Сорокин И.В.</td>\n",
              "      <td>07.08.1965</td>\n",
              "      <td>Волгоград</td>\n",
              "      <td>инженер</td>\n",
              "      <td>2</td>\n",
              "    </tr>\n",
              "    <tr>\n",
              "      <th>2</th>\n",
              "      <td>Белов М.М.</td>\n",
              "      <td>13.02.1980</td>\n",
              "      <td>Ростов</td>\n",
              "      <td>менеджер</td>\n",
              "      <td>2</td>\n",
              "    </tr>\n",
              "    <tr>\n",
              "      <th>3</th>\n",
              "      <td>Мельникова Д.С.</td>\n",
              "      <td>15.04.1985</td>\n",
              "      <td>Ростов</td>\n",
              "      <td>NaN</td>\n",
              "      <td>2</td>\n",
              "    </tr>\n",
              "    <tr>\n",
              "      <th>4</th>\n",
              "      <td>Рыбина Е.П.</td>\n",
              "      <td>19.11.1985</td>\n",
              "      <td>Москва</td>\n",
              "      <td>инженер</td>\n",
              "      <td>2</td>\n",
              "    </tr>\n",
              "  </tbody>\n",
              "</table>\n",
              "</div>"
            ],
            "text/plain": [
              "              Name       Birth       City  Position  IsStudent\n",
              "0      Иванов А.А.  22.03.1980     Москва       NaN          2\n",
              "1     Сорокин И.В.  07.08.1965  Волгоград   инженер          2\n",
              "2       Белов М.М.  13.02.1980     Ростов  менеджер          2\n",
              "3  Мельникова Д.С.  15.04.1985     Ростов       NaN          2\n",
              "4      Рыбина Е.П.  19.11.1985     Москва   инженер          2"
            ]
          },
          "metadata": {
            "tags": []
          },
          "execution_count": 18
        }
      ]
    },
    {
      "cell_type": "code",
      "metadata": {
        "colab": {
          "base_uri": "https://localhost:8080/",
          "height": 265
        },
        "id": "8uYvtTC4nyPq",
        "outputId": "25d6bf5e-a0d6-4932-9341-ac77386ef712"
      },
      "source": [
        "frame"
      ],
      "execution_count": null,
      "outputs": [
        {
          "output_type": "execute_result",
          "data": {
            "text/html": [
              "<div>\n",
              "<style scoped>\n",
              "    .dataframe tbody tr th:only-of-type {\n",
              "        vertical-align: middle;\n",
              "    }\n",
              "\n",
              "    .dataframe tbody tr th {\n",
              "        vertical-align: top;\n",
              "    }\n",
              "\n",
              "    .dataframe thead th {\n",
              "        text-align: right;\n",
              "    }\n",
              "</style>\n",
              "<table border=\"1\" class=\"dataframe\">\n",
              "  <thead>\n",
              "    <tr style=\"text-align: right;\">\n",
              "      <th></th>\n",
              "      <th>Name</th>\n",
              "      <th>Birth</th>\n",
              "      <th>City</th>\n",
              "      <th>Position</th>\n",
              "      <th>IsStudent</th>\n",
              "    </tr>\n",
              "  </thead>\n",
              "  <tbody>\n",
              "    <tr>\n",
              "      <th>0</th>\n",
              "      <td>Иванов А.А.</td>\n",
              "      <td>22.03.1980</td>\n",
              "      <td>Москва</td>\n",
              "      <td>NaN</td>\n",
              "      <td>2</td>\n",
              "    </tr>\n",
              "    <tr>\n",
              "      <th>1</th>\n",
              "      <td>Сорокин И.В.</td>\n",
              "      <td>07.08.1965</td>\n",
              "      <td>Волгоград</td>\n",
              "      <td>инженер</td>\n",
              "      <td>2</td>\n",
              "    </tr>\n",
              "    <tr>\n",
              "      <th>2</th>\n",
              "      <td>Белов М.М.</td>\n",
              "      <td>13.02.1980</td>\n",
              "      <td>Ростов</td>\n",
              "      <td>менеджер</td>\n",
              "      <td>2</td>\n",
              "    </tr>\n",
              "    <tr>\n",
              "      <th>3</th>\n",
              "      <td>Мельникова Д.С.</td>\n",
              "      <td>15.04.1985</td>\n",
              "      <td>Ростов</td>\n",
              "      <td>NaN</td>\n",
              "      <td>2</td>\n",
              "    </tr>\n",
              "    <tr>\n",
              "      <th>4</th>\n",
              "      <td>Рыбина Е.П.</td>\n",
              "      <td>19.11.1985</td>\n",
              "      <td>Москва</td>\n",
              "      <td>инженер</td>\n",
              "      <td>2</td>\n",
              "    </tr>\n",
              "    <tr>\n",
              "      <th>5</th>\n",
              "      <td>Костров С.О.</td>\n",
              "      <td>31.05.1985</td>\n",
              "      <td>Москва</td>\n",
              "      <td>стажер</td>\n",
              "      <td>2</td>\n",
              "    </tr>\n",
              "    <tr>\n",
              "      <th>6</th>\n",
              "      <td>Perov</td>\n",
              "      <td>22.03.1990</td>\n",
              "      <td>Penza</td>\n",
              "      <td>NaN</td>\n",
              "      <td>2</td>\n",
              "    </tr>\n",
              "  </tbody>\n",
              "</table>\n",
              "</div>"
            ],
            "text/plain": [
              "              Name       Birth       City  Position  IsStudent\n",
              "0      Иванов А.А.  22.03.1980     Москва       NaN          2\n",
              "1     Сорокин И.В.  07.08.1965  Волгоград   инженер          2\n",
              "2       Белов М.М.  13.02.1980     Ростов  менеджер          2\n",
              "3  Мельникова Д.С.  15.04.1985     Ростов       NaN          2\n",
              "4      Рыбина Е.П.  19.11.1985     Москва   инженер          2\n",
              "5     Костров С.О.  31.05.1985     Москва    стажер          2\n",
              "6            Perov  22.03.1990      Penza       NaN          2"
            ]
          },
          "metadata": {
            "tags": []
          },
          "execution_count": 19
        }
      ]
    },
    {
      "cell_type": "code",
      "metadata": {
        "id": "fMzU7KgQn1Ye"
      },
      "source": [
        "frame.drop([5,6], axis=0, inplace=True)"
      ],
      "execution_count": null,
      "outputs": []
    },
    {
      "cell_type": "code",
      "metadata": {
        "colab": {
          "base_uri": "https://localhost:8080/",
          "height": 203
        },
        "id": "QJGDRdBSn5F-",
        "outputId": "24338ab0-3005-4b89-a029-95ee9d374da7"
      },
      "source": [
        "frame"
      ],
      "execution_count": null,
      "outputs": [
        {
          "output_type": "execute_result",
          "data": {
            "text/html": [
              "<div>\n",
              "<style scoped>\n",
              "    .dataframe tbody tr th:only-of-type {\n",
              "        vertical-align: middle;\n",
              "    }\n",
              "\n",
              "    .dataframe tbody tr th {\n",
              "        vertical-align: top;\n",
              "    }\n",
              "\n",
              "    .dataframe thead th {\n",
              "        text-align: right;\n",
              "    }\n",
              "</style>\n",
              "<table border=\"1\" class=\"dataframe\">\n",
              "  <thead>\n",
              "    <tr style=\"text-align: right;\">\n",
              "      <th></th>\n",
              "      <th>Name</th>\n",
              "      <th>Birth</th>\n",
              "      <th>City</th>\n",
              "      <th>Position</th>\n",
              "      <th>IsStudent</th>\n",
              "    </tr>\n",
              "  </thead>\n",
              "  <tbody>\n",
              "    <tr>\n",
              "      <th>0</th>\n",
              "      <td>Иванов А.А.</td>\n",
              "      <td>22.03.1980</td>\n",
              "      <td>Москва</td>\n",
              "      <td>NaN</td>\n",
              "      <td>2</td>\n",
              "    </tr>\n",
              "    <tr>\n",
              "      <th>1</th>\n",
              "      <td>Сорокин И.В.</td>\n",
              "      <td>07.08.1965</td>\n",
              "      <td>Волгоград</td>\n",
              "      <td>инженер</td>\n",
              "      <td>2</td>\n",
              "    </tr>\n",
              "    <tr>\n",
              "      <th>2</th>\n",
              "      <td>Белов М.М.</td>\n",
              "      <td>13.02.1980</td>\n",
              "      <td>Ростов</td>\n",
              "      <td>менеджер</td>\n",
              "      <td>2</td>\n",
              "    </tr>\n",
              "    <tr>\n",
              "      <th>3</th>\n",
              "      <td>Мельникова Д.С.</td>\n",
              "      <td>15.04.1985</td>\n",
              "      <td>Ростов</td>\n",
              "      <td>NaN</td>\n",
              "      <td>2</td>\n",
              "    </tr>\n",
              "    <tr>\n",
              "      <th>4</th>\n",
              "      <td>Рыбина Е.П.</td>\n",
              "      <td>19.11.1985</td>\n",
              "      <td>Москва</td>\n",
              "      <td>инженер</td>\n",
              "      <td>2</td>\n",
              "    </tr>\n",
              "  </tbody>\n",
              "</table>\n",
              "</div>"
            ],
            "text/plain": [
              "              Name       Birth       City  Position  IsStudent\n",
              "0      Иванов А.А.  22.03.1980     Москва       NaN          2\n",
              "1     Сорокин И.В.  07.08.1965  Волгоград   инженер          2\n",
              "2       Белов М.М.  13.02.1980     Ростов  менеджер          2\n",
              "3  Мельникова Д.С.  15.04.1985     Ростов       NaN          2\n",
              "4      Рыбина Е.П.  19.11.1985     Москва   инженер          2"
            ]
          },
          "metadata": {
            "tags": []
          },
          "execution_count": 21
        }
      ]
    },
    {
      "cell_type": "code",
      "metadata": {
        "id": "M8pZXwgJn6de"
      },
      "source": [
        "frame.drop(\"IsStudent\", axis=1, inplace=True)"
      ],
      "execution_count": null,
      "outputs": []
    },
    {
      "cell_type": "code",
      "metadata": {
        "colab": {
          "base_uri": "https://localhost:8080/",
          "height": 203
        },
        "id": "RSXmxysAoDqj",
        "outputId": "0a0b1576-45ba-4c00-a0ec-760e156bad26"
      },
      "source": [
        "frame"
      ],
      "execution_count": null,
      "outputs": [
        {
          "output_type": "execute_result",
          "data": {
            "text/html": [
              "<div>\n",
              "<style scoped>\n",
              "    .dataframe tbody tr th:only-of-type {\n",
              "        vertical-align: middle;\n",
              "    }\n",
              "\n",
              "    .dataframe tbody tr th {\n",
              "        vertical-align: top;\n",
              "    }\n",
              "\n",
              "    .dataframe thead th {\n",
              "        text-align: right;\n",
              "    }\n",
              "</style>\n",
              "<table border=\"1\" class=\"dataframe\">\n",
              "  <thead>\n",
              "    <tr style=\"text-align: right;\">\n",
              "      <th></th>\n",
              "      <th>Name</th>\n",
              "      <th>Birth</th>\n",
              "      <th>City</th>\n",
              "      <th>Position</th>\n",
              "    </tr>\n",
              "  </thead>\n",
              "  <tbody>\n",
              "    <tr>\n",
              "      <th>0</th>\n",
              "      <td>Иванов А.А.</td>\n",
              "      <td>22.03.1980</td>\n",
              "      <td>Москва</td>\n",
              "      <td>NaN</td>\n",
              "    </tr>\n",
              "    <tr>\n",
              "      <th>1</th>\n",
              "      <td>Сорокин И.В.</td>\n",
              "      <td>07.08.1965</td>\n",
              "      <td>Волгоград</td>\n",
              "      <td>инженер</td>\n",
              "    </tr>\n",
              "    <tr>\n",
              "      <th>2</th>\n",
              "      <td>Белов М.М.</td>\n",
              "      <td>13.02.1980</td>\n",
              "      <td>Ростов</td>\n",
              "      <td>менеджер</td>\n",
              "    </tr>\n",
              "    <tr>\n",
              "      <th>3</th>\n",
              "      <td>Мельникова Д.С.</td>\n",
              "      <td>15.04.1985</td>\n",
              "      <td>Ростов</td>\n",
              "      <td>NaN</td>\n",
              "    </tr>\n",
              "    <tr>\n",
              "      <th>4</th>\n",
              "      <td>Рыбина Е.П.</td>\n",
              "      <td>19.11.1985</td>\n",
              "      <td>Москва</td>\n",
              "      <td>инженер</td>\n",
              "    </tr>\n",
              "  </tbody>\n",
              "</table>\n",
              "</div>"
            ],
            "text/plain": [
              "              Name       Birth       City  Position\n",
              "0      Иванов А.А.  22.03.1980     Москва       NaN\n",
              "1     Сорокин И.В.  07.08.1965  Волгоград   инженер\n",
              "2       Белов М.М.  13.02.1980     Ростов  менеджер\n",
              "3  Мельникова Д.С.  15.04.1985     Ростов       NaN\n",
              "4      Рыбина Е.П.  19.11.1985     Москва   инженер"
            ]
          },
          "metadata": {
            "tags": []
          },
          "execution_count": 24
        }
      ]
    },
    {
      "cell_type": "code",
      "metadata": {
        "id": "gjf_1EQyoIzf"
      },
      "source": [
        "frame.to_csv(\"updated_dataset.csv\", sep=\",\", header=True, index=None)"
      ],
      "execution_count": null,
      "outputs": []
    },
    {
      "cell_type": "code",
      "metadata": {
        "colab": {
          "base_uri": "https://localhost:8080/"
        },
        "id": "QcxixT7-of-Z",
        "outputId": "1b3c6fd3-2332-47d0-f21b-99d2d92b0a10"
      },
      "source": [
        "!cat updated_dataset.csv"
      ],
      "execution_count": null,
      "outputs": [
        {
          "output_type": "stream",
          "text": [
            "Name,Birth,City,Position\n",
            "Иванов А.А.,22.03.1980,Москва,\n",
            "Сорокин И.В.,07.08.1965,Волгоград,инженер\n",
            "Белов М.М.,13.02.1980,Ростов,менеджер\n",
            "Мельникова Д.С.,15.04.1985,Ростов,\n",
            "Рыбина Е.П.,19.11.1985,Москва,инженер\n"
          ],
          "name": "stdout"
        }
      ]
    }
  ]
}