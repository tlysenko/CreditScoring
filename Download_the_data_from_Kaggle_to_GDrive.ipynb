{
  "nbformat": 4,
  "nbformat_minor": 0,
  "metadata": {
    "colab": {
      "name": "Download the data from Kaggle to GDrive.ipynb",
      "provenance": [],
      "authorship_tag": "ABX9TyMqqX/SNviCq6dKIG8s2ndE",
      "include_colab_link": true
    },
    "kernelspec": {
      "name": "python3",
      "display_name": "Python 3"
    }
  },
  "cells": [
    {
      "cell_type": "markdown",
      "metadata": {
        "id": "view-in-github",
        "colab_type": "text"
      },
      "source": [
        "<a href=\"https://colab.research.google.com/github/tlysenko/CreditScoring/blob/master/Download_the_data_from_Kaggle_to_GDrive.ipynb\" target=\"_parent\"><img src=\"https://colab.research.google.com/assets/colab-badge.svg\" alt=\"Open In Colab\"/></a>"
      ]
    },
    {
      "cell_type": "markdown",
      "metadata": {
        "id": "XlCq7hXpldtD"
      },
      "source": [
        "##  Download data from Kaggle "
      ]
    },
    {
      "cell_type": "code",
      "metadata": {
        "colab": {
          "base_uri": "https://localhost:8080/"
        },
        "id": "9yFXDdHEG9WX",
        "outputId": "09426ff4-8d75-48a8-de83-02ccfd97a5b6"
      },
      "source": [
        "!python --version"
      ],
      "execution_count": 25,
      "outputs": [
        {
          "output_type": "stream",
          "text": [
            "Python 3.6.9\n"
          ],
          "name": "stdout"
        }
      ]
    },
    {
      "cell_type": "code",
      "metadata": {
        "colab": {
          "base_uri": "https://localhost:8080/"
        },
        "id": "f-SEpnjFiU-v",
        "outputId": "8057ab20-414f-4b46-8f71-649c528db24c"
      },
      "source": [
        "from google.colab import drive\n",
        "drive.mount('/content/gdrive')"
      ],
      "execution_count": 1,
      "outputs": [
        {
          "output_type": "stream",
          "text": [
            "Drive already mounted at /content/gdrive; to attempt to forcibly remount, call drive.mount(\"/content/gdrive\", force_remount=True).\n"
          ],
          "name": "stdout"
        }
      ]
    },
    {
      "cell_type": "code",
      "metadata": {
        "colab": {
          "resources": {
            "http://localhost:8080/nbextensions/google.colab/files.js": {
              "data": "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",
              "ok": true,
              "headers": [
                [
                  "content-type",
                  "application/javascript"
                ]
              ],
              "status": 200,
              "status_text": ""
            }
          },
          "base_uri": "https://localhost:8080/",
          "height": 89
        },
        "id": "4yeXEqM_iWgc",
        "outputId": "6267330d-153d-410b-f532-67d1c20bc5a0"
      },
      "source": [
        "from google.colab import files\n",
        "files.upload()"
      ],
      "execution_count": 2,
      "outputs": [
        {
          "output_type": "display_data",
          "data": {
            "text/html": [
              "\n",
              "     <input type=\"file\" id=\"files-55e6cf98-75af-48d5-97cb-89bf72bcd639\" name=\"files[]\" multiple disabled\n",
              "        style=\"border:none\" />\n",
              "     <output id=\"result-55e6cf98-75af-48d5-97cb-89bf72bcd639\">\n",
              "      Upload widget is only available when the cell has been executed in the\n",
              "      current browser session. Please rerun this cell to enable.\n",
              "      </output>\n",
              "      <script src=\"/nbextensions/google.colab/files.js\"></script> "
            ],
            "text/plain": [
              "<IPython.core.display.HTML object>"
            ]
          },
          "metadata": {
            "tags": []
          }
        },
        {
          "output_type": "stream",
          "text": [
            "Saving kaggle.json to kaggle (1).json\n"
          ],
          "name": "stdout"
        },
        {
          "output_type": "execute_result",
          "data": {
            "text/plain": [
              "{'kaggle.json': b'{\"username\":\"tatati\",\"key\":\"3d1e818b7fed3c8815d893e04b17c49f\"}'}"
            ]
          },
          "metadata": {
            "tags": []
          },
          "execution_count": 2
        }
      ]
    },
    {
      "cell_type": "code",
      "metadata": {
        "colab": {
          "base_uri": "https://localhost:8080/"
        },
        "id": "hJy1IowKiqxy",
        "outputId": "95cb2170-571a-419f-a5be-bab2d6b2d068"
      },
      "source": [
        "!pip install -q kaggle\n",
        "!mkdir -p ~/.kaggle\n",
        "!cp kaggle.json ~/.kaggle/\n",
        "!ls ~/.kaggle\n",
        "!chmod 600 /root/.kaggle/kaggle.json  # set permission"
      ],
      "execution_count": 3,
      "outputs": [
        {
          "output_type": "stream",
          "text": [
            "kaggle.json\n"
          ],
          "name": "stdout"
        }
      ]
    },
    {
      "cell_type": "code",
      "metadata": {
        "colab": {
          "base_uri": "https://localhost:8080/"
        },
        "id": "m2LTui3RHXEo",
        "outputId": "dddb37da-85a7-4d49-f6d8-b33a62c7abaf"
      },
      "source": [
        "!pip install --upgrade kaggle"
      ],
      "execution_count": 26,
      "outputs": [
        {
          "output_type": "stream",
          "text": [
            "Requirement already up-to-date: kaggle in /usr/local/lib/python3.6/dist-packages (1.5.9)\n",
            "Requirement already satisfied, skipping upgrade: six>=1.10 in /usr/local/lib/python3.6/dist-packages (from kaggle) (1.15.0)\n",
            "Requirement already satisfied, skipping upgrade: python-dateutil in /usr/local/lib/python3.6/dist-packages (from kaggle) (2.8.1)\n",
            "Requirement already satisfied, skipping upgrade: slugify in /usr/local/lib/python3.6/dist-packages (from kaggle) (0.0.1)\n",
            "Requirement already satisfied, skipping upgrade: tqdm in /usr/local/lib/python3.6/dist-packages (from kaggle) (4.41.1)\n",
            "Requirement already satisfied, skipping upgrade: requests in /usr/local/lib/python3.6/dist-packages (from kaggle) (2.23.0)\n",
            "Requirement already satisfied, skipping upgrade: urllib3 in /usr/local/lib/python3.6/dist-packages (from kaggle) (1.24.3)\n",
            "Requirement already satisfied, skipping upgrade: certifi in /usr/local/lib/python3.6/dist-packages (from kaggle) (2020.6.20)\n",
            "Requirement already satisfied, skipping upgrade: python-slugify in /usr/local/lib/python3.6/dist-packages (from kaggle) (4.0.1)\n",
            "Requirement already satisfied, skipping upgrade: idna<3,>=2.5 in /usr/local/lib/python3.6/dist-packages (from requests->kaggle) (2.10)\n",
            "Requirement already satisfied, skipping upgrade: chardet<4,>=3.0.2 in /usr/local/lib/python3.6/dist-packages (from requests->kaggle) (3.0.4)\n",
            "Requirement already satisfied, skipping upgrade: text-unidecode>=1.3 in /usr/local/lib/python3.6/dist-packages (from python-slugify->kaggle) (1.3)\n"
          ],
          "name": "stdout"
        }
      ]
    },
    {
      "cell_type": "code",
      "metadata": {
        "colab": {
          "base_uri": "https://localhost:8080/"
        },
        "id": "JFToAq7jHjD8",
        "outputId": "508e7728-50ba-42ee-a994-a5003165d7a1"
      },
      "source": [
        "!kaggle --version"
      ],
      "execution_count": 28,
      "outputs": [
        {
          "output_type": "stream",
          "text": [
            "Kaggle API 1.5.4\n"
          ],
          "name": "stdout"
        }
      ]
    },
    {
      "cell_type": "code",
      "metadata": {
        "id": "wTZUBNofmDqa"
      },
      "source": [
        "import os\n",
        "os.chdir('/content/gdrive/MyDrive/Colab Notebooks/HuBMAP: Hacking the Kidney/')  #change dir"
      ],
      "execution_count": 18,
      "outputs": []
    },
    {
      "cell_type": "code",
      "metadata": {
        "id": "HAlihnqRmK-z"
      },
      "source": [
        "mkdir ./data"
      ],
      "execution_count": 19,
      "outputs": []
    },
    {
      "cell_type": "code",
      "metadata": {
        "id": "Uih7RNgb4CaE"
      },
      "source": [
        "os.chdir('/content/gdrive/MyDrive/Colab Notebooks/HuBMAP: Hacking the Kidney/data')  #change dir"
      ],
      "execution_count": 27,
      "outputs": []
    },
    {
      "cell_type": "code",
      "metadata": {
        "colab": {
          "base_uri": "https://localhost:8080/"
        },
        "id": "7fhOPdBWi0Iw",
        "outputId": "2cf75f12-3520-4c44-ed02-5e30df5c20de"
      },
      "source": [
        "!kaggle competitions download -c hubmap-kidney-segmentation"
      ],
      "execution_count": 30,
      "outputs": [
        {
          "output_type": "stream",
          "text": [
            "Warning: Looks like you're using an outdated API Version, please consider updating (server 1.5.9 / client 1.5.4)\n",
            "Downloading b9a3865fc.tiff.zip to /content/gdrive/My Drive/Colab Notebooks/HuBMAP: Hacking the Kidney/data\n",
            "100% 2.27G/2.27G [00:59<00:00, 49.2MB/s]\n",
            "\n",
            "Downloading b9a3865fc-anatomical-structure.json to /content/gdrive/My Drive/Colab Notebooks/HuBMAP: Hacking the Kidney/data\n",
            "  0% 0.00/2.78k [00:00<?, ?B/s]\n",
            "100% 2.78k/2.78k [00:00<00:00, 393kB/s]\n",
            "Downloading b2dc8411c.tiff.zip to /content/gdrive/My Drive/Colab Notebooks/HuBMAP: Hacking the Kidney/data\n",
            " 98% 614M/628M [00:05<00:00, 156MB/s]\n",
            "100% 628M/628M [00:05<00:00, 125MB/s]\n",
            "Downloading b2dc8411c-anatomical-structure.json to /content/gdrive/My Drive/Colab Notebooks/HuBMAP: Hacking the Kidney/data\n",
            "  0% 0.00/3.80k [00:00<?, ?B/s]\n",
            "100% 3.80k/3.80k [00:00<00:00, 529kB/s]\n",
            "Downloading afa5e8098.tiff.zip to /content/gdrive/My Drive/Colab Notebooks/HuBMAP: Hacking the Kidney/data\n",
            "100% 1.57G/1.57G [00:27<00:00, 126MB/s]\n",
            "100% 1.57G/1.57G [00:27<00:00, 60.5MB/s]\n",
            "Downloading c68fe75ea.tiff.zip to /content/gdrive/My Drive/Colab Notebooks/HuBMAP: Hacking the Kidney/data\n",
            "100% 2.30G/2.30G [00:58<00:00, 22.0MB/s]\n",
            "100% 2.30G/2.30G [00:58<00:00, 42.4MB/s]\n",
            "Downloading 26dc41664-anatomical-structure.json to /content/gdrive/My Drive/Colab Notebooks/HuBMAP: Hacking the Kidney/data\n",
            "  0% 0.00/3.74k [00:00<?, ?B/s]\n",
            "100% 3.74k/3.74k [00:00<00:00, 33.7kB/s]\n",
            "Downloading c68fe75ea-anatomical-structure.json to /content/gdrive/My Drive/Colab Notebooks/HuBMAP: Hacking the Kidney/data\n",
            "  0% 0.00/3.16k [00:00<?, ?B/s]\n",
            "100% 3.16k/3.16k [00:00<00:00, 99.3kB/s]\n",
            "Downloading 26dc41664.tiff.zip to /content/gdrive/My Drive/Colab Notebooks/HuBMAP: Hacking the Kidney/data\n",
            " 99% 1.91G/1.92G [01:12<00:00, 98.0MB/s]\n",
            "100% 1.92G/1.92G [01:12<00:00, 28.6MB/s]\n",
            "Downloading afa5e8098-anatomical-structure.json to /content/gdrive/My Drive/Colab Notebooks/HuBMAP: Hacking the Kidney/data\n",
            "  0% 0.00/4.30k [00:00<?, ?B/s]\n",
            "100% 4.30k/4.30k [00:00<00:00, 288kB/s]\n",
            "0486052bb.tiff.zip: Skipping, found more recently modified local copy (use --force to force download)\n",
            "aaa6a05cc.json: Skipping, found more recently modified local copy (use --force to force download)\n",
            "Downloading aaa6a05cc.tiff.zip to /content/gdrive/My Drive/Colab Notebooks/HuBMAP: Hacking the Kidney/data\n",
            " 98% 388M/396M [00:16<00:00, 49.4MB/s]\n",
            "100% 396M/396M [00:16<00:00, 24.9MB/s]\n",
            "Downloading 1e2425f28.tiff.zip to /content/gdrive/My Drive/Colab Notebooks/HuBMAP: Hacking the Kidney/data\n",
            "100% 1.38G/1.39G [01:32<00:00, 23.4MB/s]\n",
            "100% 1.39G/1.39G [01:32<00:00, 16.2MB/s]\n",
            "0486052bb-anatomical-structure.json: Skipping, found more recently modified local copy (use --force to force download)\n",
            "Downloading cb2d976f4.json to /content/gdrive/My Drive/Colab Notebooks/HuBMAP: Hacking the Kidney/data\n",
            "100% 280k/280k [00:00<00:00, 2.61MB/s]\n",
            "\n",
            "Downloading 54f2eec69.tiff.zip to /content/gdrive/My Drive/Colab Notebooks/HuBMAP: Hacking the Kidney/data\n",
            "100% 774M/777M [00:25<00:00, 48.5MB/s]\n",
            "100% 777M/777M [00:25<00:00, 31.8MB/s]\n",
            "Downloading cb2d976f4-anatomical-structure.json to /content/gdrive/My Drive/Colab Notebooks/HuBMAP: Hacking the Kidney/data\n",
            "  0% 0.00/4.62k [00:00<?, ?B/s]\n",
            "100% 4.62k/4.62k [00:00<00:00, 616kB/s]\n",
            "Downloading 2f6ecfcdf.tiff.zip to /content/gdrive/My Drive/Colab Notebooks/HuBMAP: Hacking the Kidney/data\n",
            "100% 1.02G/1.02G [00:44<00:00, 12.1MB/s]\n",
            "100% 1.02G/1.02G [00:44<00:00, 24.6MB/s]\n",
            "Downloading 2f6ecfcdf.json to /content/gdrive/My Drive/Colab Notebooks/HuBMAP: Hacking the Kidney/data\n",
            "  0% 0.00/146k [00:00<?, ?B/s]\n",
            "100% 146k/146k [00:00<00:00, 2.36MB/s]\n",
            "Downloading 095bf7a1f.tiff.zip to /content/gdrive/My Drive/Colab Notebooks/HuBMAP: Hacking the Kidney/data\n",
            "100% 1.91G/1.91G [02:18<00:00, 12.4MB/s]\n",
            "100% 1.91G/1.91G [02:18<00:00, 14.8MB/s]\n",
            "Downloading 1e2425f28.json to /content/gdrive/My Drive/Colab Notebooks/HuBMAP: Hacking the Kidney/data\n",
            "  0% 0.00/201k [00:00<?, ?B/s]\n",
            "100% 201k/201k [00:00<00:00, 13.2MB/s]\n",
            "Downloading 54f2eec69-anatomical-structure.json to /content/gdrive/My Drive/Colab Notebooks/HuBMAP: Hacking the Kidney/data\n",
            "  0% 0.00/1.85k [00:00<?, ?B/s]\n",
            "100% 1.85k/1.85k [00:00<00:00, 259kB/s]\n",
            "Downloading 1e2425f28-anatomical-structure.json to /content/gdrive/My Drive/Colab Notebooks/HuBMAP: Hacking the Kidney/data\n",
            "  0% 0.00/2.77k [00:00<?, ?B/s]\n",
            "100% 2.77k/2.77k [00:00<00:00, 184kB/s]\n",
            "Downloading 54f2eec69.json to /content/gdrive/My Drive/Colab Notebooks/HuBMAP: Hacking the Kidney/data\n",
            "  0% 0.00/172k [00:00<?, ?B/s]\n",
            "100% 172k/172k [00:00<00:00, 18.2MB/s]\n",
            "aaa6a05cc-anatomical-structure.json: Skipping, found more recently modified local copy (use --force to force download)\n",
            "Downloading 2f6ecfcdf-anatomical-structure.json to /content/gdrive/My Drive/Colab Notebooks/HuBMAP: Hacking the Kidney/data\n",
            "  0% 0.00/2.88k [00:00<?, ?B/s]\n",
            "100% 2.88k/2.88k [00:00<00:00, 176kB/s]\n",
            "Downloading 095bf7a1f-anatomical-structure.json to /content/gdrive/My Drive/Colab Notebooks/HuBMAP: Hacking the Kidney/data\n",
            "  0% 0.00/944 [00:00<?, ?B/s]\n",
            "100% 944/944 [00:00<00:00, 61.2kB/s]\n",
            "Downloading 0486052bb.json to /content/gdrive/My Drive/Colab Notebooks/HuBMAP: Hacking the Kidney/data\n",
            "  0% 0.00/106k [00:00<?, ?B/s]\n",
            "100% 106k/106k [00:00<00:00, 7.00MB/s]\n",
            "Downloading 095bf7a1f.json to /content/gdrive/My Drive/Colab Notebooks/HuBMAP: Hacking the Kidney/data\n",
            "  0% 0.00/408k [00:00<?, ?B/s]\n",
            "100% 408k/408k [00:00<00:00, 26.2MB/s]\n",
            "Downloading sample_submission.csv to /content/gdrive/My Drive/Colab Notebooks/HuBMAP: Hacking the Kidney/data\n",
            "  0% 0.00/68.0 [00:00<?, ?B/s]\n",
            "100% 68.0/68.0 [00:00<00:00, 9.50kB/s]\n",
            "Downloading HuBMAP-20-dataset_information.csv to /content/gdrive/My Drive/Colab Notebooks/HuBMAP: Hacking the Kidney/data\n",
            "  0% 0.00/2.19k [00:00<?, ?B/s]\n",
            "100% 2.19k/2.19k [00:00<00:00, 140kB/s]\n",
            "Downloading train.csv.zip to /content/gdrive/My Drive/Colab Notebooks/HuBMAP: Hacking the Kidney/data\n",
            "  0% 0.00/2.80M [00:00<?, ?B/s]\n",
            "100% 2.80M/2.80M [00:00<00:00, 46.2MB/s]\n"
          ],
          "name": "stdout"
        }
      ]
    },
    {
      "cell_type": "code",
      "metadata": {
        "id": "leflYXhMyCOr"
      },
      "source": [
        "!mkdir train\n",
        "!mkdir test"
      ],
      "execution_count": null,
      "outputs": []
    },
    {
      "cell_type": "markdown",
      "metadata": {
        "id": "OFcrVFU8-UH4"
      },
      "source": [
        "## Unzip the files"
      ]
    },
    {
      "cell_type": "code",
      "metadata": {
        "id": "68lmY4vfMhFw"
      },
      "source": [
        "os.chdir('/content/gdrive/MyDrive/Colab Notebooks/HuBMAP: Hacking the Kidney/data')  #change dir"
      ],
      "execution_count": 40,
      "outputs": []
    },
    {
      "cell_type": "code",
      "metadata": {
        "id": "fMgwjyOE-Sab"
      },
      "source": [
        "!unzip \"*.zip\" \n",
        "!rm \"*.zip\""
      ],
      "execution_count": null,
      "outputs": []
    },
    {
      "cell_type": "code",
      "metadata": {
        "id": "y4wc96F-QX-k"
      },
      "source": [
        "!rm *.zip"
      ],
      "execution_count": 36,
      "outputs": []
    },
    {
      "cell_type": "markdown",
      "metadata": {
        "id": "AbKp3X2Qw3Z2"
      },
      "source": [
        "## Move files to Test folder"
      ]
    },
    {
      "cell_type": "code",
      "metadata": {
        "id": "xwjwHetvp7B1"
      },
      "source": [
        "test_ids = ['26dc41664', 'afa5e8098', 'b2dc8411c','b9a3865fc', 'c68fe75ea']"
      ],
      "execution_count": 38,
      "outputs": []
    },
    {
      "cell_type": "code",
      "metadata": {
        "colab": {
          "base_uri": "https://localhost:8080/"
        },
        "id": "6GQBytMO4mLM",
        "outputId": "6a97c510-fbb9-49fd-8784-4f55d5b8a515"
      },
      "source": [
        "for ff in test_ids:\n",
        "  !mv {ff}* ./test/"
      ],
      "execution_count": 47,
      "outputs": [
        {
          "output_type": "stream",
          "text": [
            "mv: cannot stat '26dc41664*': No such file or directory\n",
            "mv: cannot stat 'afa5e8098*': No such file or directory\n",
            "mv: cannot stat 'b2dc8411c*': No such file or directory\n",
            "mv: cannot stat 'b9a3865fc*': No such file or directory\n",
            "mv: cannot stat 'c68fe75ea*': No such file or directory\n"
          ],
          "name": "stdout"
        }
      ]
    },
    {
      "cell_type": "markdown",
      "metadata": {
        "id": "QDtji3lZxvYU"
      },
      "source": [
        "## Move files to Train folder"
      ]
    },
    {
      "cell_type": "code",
      "metadata": {
        "id": "tOl_bSxEwtGg"
      },
      "source": [
        "!mv *json ./train/\n",
        "!mv *tiff* ./train/"
      ],
      "execution_count": 48,
      "outputs": []
    },
    {
      "cell_type": "markdown",
      "metadata": {
        "id": "CqJlV0iIytiX"
      },
      "source": [
        "Useful links:\n",
        "\n",
        "https://colab.research.google.com/github/jakevdp/PythonDataScienceHandbook/blob/master/notebooks/01.05-IPython-And-Shell-Commands.ipynb"
      ]
    }
  ]
}