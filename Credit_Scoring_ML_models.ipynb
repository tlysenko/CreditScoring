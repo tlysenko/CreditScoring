{
  "nbformat": 4,
  "nbformat_minor": 0,
  "metadata": {
    "colab": {
      "name": "Credit Scoring ML models.ipynb",
      "provenance": [],
      "collapsed_sections": [],
      "include_colab_link": true
    },
    "kernelspec": {
      "name": "python3",
      "display_name": "Python 3"
    }
  },
  "cells": [
    {
      "cell_type": "markdown",
      "metadata": {
        "id": "view-in-github",
        "colab_type": "text"
      },
      "source": [
        "<a href=\"https://colab.research.google.com/github/tlysenko/CreditScoring/blob/master/Credit_Scoring_ML_models.ipynb\" target=\"_parent\"><img src=\"https://colab.research.google.com/assets/colab-badge.svg\" alt=\"Open In Colab\"/></a>"
      ]
    },
    {
      "cell_type": "markdown",
      "metadata": {
        "id": "RKIXijn41H40",
        "colab_type": "text"
      },
      "source": [
        "### Plan \n",
        "* **Actions undertaken to deal with the  unbalanced dataset**\n",
        "* **Data Preprocessing**\n",
        "  *  Importing the libraries for EDA and data cleaning \n",
        "  *  Function for downloading the data and renaming the columns\n",
        "  *  Functions for data cleaning\n",
        "* **Classification ML**\n",
        "  *  Importing ML libraries for classification and data split\n",
        "  *  Function for creating X and y\n",
        "  *  Function for getting ROC_AUC score over Stratified 10 folds\n",
        "  *  Defining the approach for working with missing values. \n",
        "* **GridSearchCV and Undersampling for LogisticRegression and XGBClassifier**\n",
        "  * LR Oversampling\n",
        "  * XGB Oversampling\n",
        "  * LR Undersampling\n",
        "  * XGB Undersampling\n",
        "* **Data submission**\n",
        "* **Conclusion**\n",
        "\n",
        "\n",
        "\n",
        "\n",
        "\n",
        "\n",
        "\n"
      ]
    },
    {
      "cell_type": "markdown",
      "metadata": {
        "id": "8zIMgti_qcQD",
        "colab_type": "text"
      },
      "source": [
        "## Actions undertaken to deal with the unbalanced dataset\n",
        "* Using stratify=y parameter at train_test_split\n",
        "* Using StratifiedKfold for cross validation\n",
        "* Using ROC_AUC metric for scoring\n",
        "* Making sure confusion matrix is resonable and Target class \"1\" is noticed by the algorythm\n",
        "* Using penalized regression\n",
        "* Use undersampling and oversampling"
      ]
    },
    {
      "cell_type": "markdown",
      "metadata": {
        "id": "JDISBN-o5vks",
        "colab_type": "text"
      },
      "source": [
        "## Data Preprocessing\n",
        "\n"
      ]
    },
    {
      "cell_type": "markdown",
      "metadata": {
        "id": "B9PRYx695sit",
        "colab_type": "text"
      },
      "source": [
        "### Importing the libraries for EDA and data cleaning "
      ]
    },
    {
      "cell_type": "code",
      "metadata": {
        "id": "MMr3Wup9p7OK",
        "colab_type": "code",
        "colab": {}
      },
      "source": [
        "import pandas as pd\n",
        "from sklearn.preprocessing import Imputer\n",
        "\n",
        "import matplotlib.pyplot as plt\n",
        "import seaborn as sns"
      ],
      "execution_count": 0,
      "outputs": []
    },
    {
      "cell_type": "markdown",
      "metadata": {
        "id": "jZ7HSFlf59os",
        "colab_type": "text"
      },
      "source": [
        "### Function for downloading the data and renaming the columns"
      ]
    },
    {
      "cell_type": "code",
      "metadata": {
        "id": "22lUlsKSDGK4",
        "colab_type": "code",
        "colab": {}
      },
      "source": [
        "def get_data(file=\"scoring_train_data.csv\"):\n",
        "  df = pd.read_csv(file, sep=';',na_values=' ')\n",
        "\n",
        "  def rename_cols(df):\n",
        "\n",
        "      df = df.rename(columns = {'SeriousDlqin2yrs': 'Target',\n",
        "                                          'age': 'Age',\n",
        "                                          'RevolvingUtilizationOfUnsecuredLines' : 'RevUnsec',\n",
        "                                          'NumberOfOpenCreditLinesAndLoans' : 'NumLoans',\n",
        "                                          'NumberOfTimes90DaysLate' : '90-Late',\n",
        "                                          'NumberOfTime3059DaysPastDueNotWorse': '30-59-Late',\n",
        "                                          'NumberOfTime6089DaysPastDueNotWorse': '60-89-Late' ,\n",
        "                                          'NumberRealEstateLoansOrLines': 'R_EstateLoans',\n",
        "                                          'NumberOfDependents': 'Dependts'\n",
        "                                          })\n",
        "      return df\n",
        "\n",
        "  df = rename_cols(df)\n",
        "  return df"
      ],
      "execution_count": 0,
      "outputs": []
    },
    {
      "cell_type": "markdown",
      "metadata": {
        "id": "_zRPcFy45_iz",
        "colab_type": "text"
      },
      "source": [
        "### Functions for data cleaning\n"
      ]
    },
    {
      "cell_type": "code",
      "metadata": {
        "id": "GUDKKKkBqFhK",
        "colab_type": "code",
        "colab": {}
      },
      "source": [
        "def data_prep_remove(df):\n",
        "  # remove na values\n",
        "  df = df.dropna()\n",
        "\n",
        "  # remove outliers in DebtRatio\n",
        "  df = df[df.DebtRatio<=1]\n",
        "\n",
        "  return df\n",
        "\n",
        "def data_prep_imputers(df):\n",
        "  \n",
        "  imputer = Imputer(missing_values = 'NaN', strategy = 'median',axis=0)\n",
        "  imputer.fit(df['MonthlyIncome'].values.reshape(-1,1))\n",
        "  df['MonthlyIncome'] = imputer.transform(df['MonthlyIncome'].values.reshape(-1,1))\n",
        "  \n",
        "  imputer.fit(df['Dependts'].values.reshape(-1,1))\n",
        "  df['Dependts'] = imputer.transform(df['Dependts'].values.reshape(-1,1))\n",
        "  \n",
        "  return df"
      ],
      "execution_count": 0,
      "outputs": []
    },
    {
      "cell_type": "markdown",
      "metadata": {
        "id": "S-ss1okL6tNC",
        "colab_type": "text"
      },
      "source": [
        "## Classification ML"
      ]
    },
    {
      "cell_type": "markdown",
      "metadata": {
        "id": "tuWqS8HL6N4J",
        "colab_type": "text"
      },
      "source": [
        "### Importing ML libraries for classification and data split"
      ]
    },
    {
      "cell_type": "code",
      "metadata": {
        "id": "LH8nNbo-2nuM",
        "colab_type": "code",
        "colab": {}
      },
      "source": [
        "!pip install scikit-plot\n",
        "\n",
        "from scikitplot.metrics import plot_roc\n",
        "from sklearn.model_selection import train_test_split, cross_val_score, StratifiedKFold, GridSearchCV\n",
        "from sklearn.metrics import confusion_matrix, classification_report,roc_auc_score \n",
        "\n",
        "from sklearn.pipeline import Pipeline\n",
        "from sklearn.preprocessing import StandardScaler\n",
        "\n",
        "import numpy as np\n",
        "\n",
        "# Algorithmns models to be compared\n",
        "from sklearn.ensemble import RandomForestClassifier\n",
        "from sklearn.linear_model import LogisticRegression\n",
        "from sklearn.tree import DecisionTreeClassifier\n",
        "from sklearn.neighbors import KNeighborsClassifier\n",
        "from xgboost import XGBClassifier"
      ],
      "execution_count": 0,
      "outputs": []
    },
    {
      "cell_type": "markdown",
      "metadata": {
        "id": "JUS-xenz6PYc",
        "colab_type": "text"
      },
      "source": [
        "### Function for creating X and y"
      ]
    },
    {
      "cell_type": "code",
      "metadata": {
        "id": "qZzAGwgV4NxK",
        "colab_type": "code",
        "colab": {}
      },
      "source": [
        "def make_X_y(df):\n",
        "  #Creating the X and y variables\n",
        "  X = df.drop(['Target','Ident'], 1).values\n",
        "  y = df[\"Target\"].values\n",
        "\n",
        "  # Spliting X and y into train and test version\n",
        "  X_train, X_test, y_train, y_test = train_test_split(X, y, test_size = 0.2, random_state=111, stratify=y)\n",
        "  \n",
        "  #We can consider all variables as continuous and scale all of them \n",
        "  feature_scaler = StandardScaler()\n",
        "  X_train = feature_scaler.fit_transform(X_train)\n",
        "  X_test = feature_scaler.transform(X_test)\n",
        "\n",
        "  return X_train, X_test, y_train, y_test\n",
        "\n",
        "def make_X_y_noscale(df):\n",
        "  #Creating the X and y variables\n",
        "  X = df.drop(['Target','Ident'], 1).values\n",
        "  y = df[\"Target\"].values\n",
        "\n",
        "  # Spliting X and y into train and test version\n",
        "  X_train, X_test, y_train, y_test = train_test_split(X, y, test_size = 0.2, random_state=111, stratify=y)\n",
        "\n",
        "  return X_train, X_test, y_train, y_test"
      ],
      "execution_count": 0,
      "outputs": []
    },
    {
      "cell_type": "markdown",
      "metadata": {
        "id": "K_Z9htIk6ZVh",
        "colab_type": "text"
      },
      "source": [
        "### Function for getting ROC_AUC score over Stratified 10 folds"
      ]
    },
    {
      "cell_type": "code",
      "metadata": {
        "id": "v3do1hmY7E18",
        "colab_type": "code",
        "colab": {}
      },
      "source": [
        "def get_score():\n",
        "  seed = 11\n",
        "\n",
        "  results = []\n",
        "  names = []\n",
        "  scoring = 'roc_auc'\n",
        "\n",
        "  for name, model in models:\n",
        "        strat = StratifiedKFold(n_splits=10, random_state=seed)\n",
        "\n",
        "        cv_results = cross_val_score(model, X_train, y_train, cv=strat, scoring=scoring)\n",
        "        \n",
        "        results.append(cv_results)\n",
        "        names.append(name)\n",
        "        \n",
        "        msg = \"%s: %f (%f)\" % (name, cv_results.mean(), cv_results.std())\n",
        "        print(msg)\n",
        "  return results\n",
        "\n",
        "def get_score_xgb():\n",
        "  # XGBoostClassifier algorythm has its own strategy for imputing the missing values. Let's check this out. \n",
        "  seed = 11\n",
        "\n",
        "  results = []\n",
        "  names = []\n",
        "  scoring = 'roc_auc'\n",
        "\n",
        "  for name, model in models:\n",
        "    if name == 'XGB':\n",
        "        strat = StratifiedKFold(n_splits=10, random_state=seed)\n",
        "\n",
        "        cv_results = cross_val_score(model, X_train, y_train, cv=strat, scoring=scoring)\n",
        "        \n",
        "        results.append(cv_results)\n",
        "        names.append(name)\n",
        "        \n",
        "        msg = \"%s: %f (%f)\" % (name, cv_results.mean(), cv_results.std())\n",
        "        print(msg)\n",
        "  return results"
      ],
      "execution_count": 0,
      "outputs": []
    },
    {
      "cell_type": "code",
      "metadata": {
        "id": "M5KovIqG4JxR",
        "colab_type": "code",
        "colab": {}
      },
      "source": [
        "seed = 11\n",
        "\n",
        "models = []\n",
        "models.append(('LR', LogisticRegression(random_state=11, solver=\"saga\", penalty=\"l1\", class_weight=\"balanced\", C=1.0, max_iter=500))) \n",
        "models.append(('KNN', KNeighborsClassifier()))\n",
        "models.append(('DecTree', DecisionTreeClassifier())) \n",
        "models.append(('RF', RandomForestClassifier(n_estimators = 10))) \n",
        "models.append(('XGB', XGBClassifier()))"
      ],
      "execution_count": 0,
      "outputs": []
    },
    {
      "cell_type": "code",
      "metadata": {
        "id": "9GrDL8yiE1RP",
        "colab_type": "code",
        "colab": {}
      },
      "source": [
        "mod_list = []\n",
        "for mod , _ in models:\n",
        "  mod_list.append(mod)\n",
        "mod_list.append('Cleaning')\n",
        "\n",
        "df_boxplot = pd.DataFrame(columns=['Score', 'ML','Cleaning'])"
      ],
      "execution_count": 0,
      "outputs": []
    },
    {
      "cell_type": "code",
      "metadata": {
        "id": "Itw0OQUzIrIi",
        "colab_type": "code",
        "colab": {}
      },
      "source": [
        "def append_res_to_boxplot(results, df, cleaning):\n",
        "  i = 0\n",
        "  while i < len(results[0]):\n",
        "    line = []\n",
        "    for num, ml in zip(results, mod_list): \n",
        "      line.append([num[i],ml,cleaning])\n",
        "    i = i+1\n",
        "    df = df.append(pd.DataFrame(line, columns=['Score', 'ML','Cleaning']),ignore_index=True)\n",
        "  return df\n",
        "\n",
        "def append_res_to_boxplot_xgb(results, df, cleaning):\n",
        "  i = 0\n",
        "  while i < len(results[0]):\n",
        "    line = []\n",
        "    for num, ml in zip(results, ['XGB']): \n",
        "      line.append([num[i],ml,cleaning])\n",
        "    i = i+1\n",
        "    df = df.append(pd.DataFrame(line, columns=['Score', 'ML','Cleaning']),ignore_index=True)\n",
        "  return df"
      ],
      "execution_count": 0,
      "outputs": []
    },
    {
      "cell_type": "markdown",
      "metadata": {
        "id": "OpEGaqqlLHml",
        "colab_type": "text"
      },
      "source": [
        "## Data cleaning and ML training pipeline"
      ]
    },
    {
      "cell_type": "markdown",
      "metadata": {
        "id": "yV8xDQDK-Lz5",
        "colab_type": "text"
      },
      "source": [
        "### Defining the approach for working with missing values. \n",
        "\n",
        "Considering using Imputer or removing rows that contain NA values. "
      ]
    },
    {
      "cell_type": "code",
      "metadata": {
        "id": "hZ52hRoq25XH",
        "colab_type": "code",
        "outputId": "498f3349-fb96-4217-9a9d-7d20f86a2bd4",
        "colab": {
          "base_uri": "https://localhost:8080/",
          "height": 384
        }
      },
      "source": [
        "# Data Clean: Remove NAs \n",
        "print('Missing values approach: Remove NAs')\n",
        "df_credit = get_data()\n",
        "\n",
        "df_credit = data_prep_remove(df_credit)\n",
        "\n",
        "X_train, X_test, y_train, y_test = make_X_y(df_credit)\n",
        "\n",
        "results = get_score()\n",
        "df_boxplot = append_res_to_boxplot(results, df_boxplot, 'Remove NAs')\n",
        "\n",
        "# Data Clean: No NAs preprocessing to check for XGBoostClassifier missing values approach\n",
        "print('Missing values approach: No NAs preprocessing(XGB only)')\n",
        "df_credit = get_data()\n",
        "\n",
        "X_train, X_test, y_train, y_test = make_X_y(df_credit)\n",
        "\n",
        "results = get_score_xgb()\n",
        "df_boxplot = append_res_to_boxplot_xgb(results, df_boxplot, \"No NAs preprocessing\")\n",
        "\n",
        "# Data Clean: Imputer \n",
        "print('Missing values approach: Imputer')\n",
        "\n",
        "df_credit = get_data()\n",
        "\n",
        "df_credit = data_prep_imputers(df_credit)\n",
        "\n",
        "X_train, X_test, y_train, y_test = make_X_y(df_credit)\n",
        "\n",
        "results = get_score()\n",
        "df_boxplot = append_res_to_boxplot(results, df_boxplot, 'Imputer')"
      ],
      "execution_count": 0,
      "outputs": [
        {
          "output_type": "stream",
          "text": [
            "Missing values approach: Remove NAs\n",
            "LR: 0.849593 (0.012480)\n",
            "KNN: 0.728448 (0.012717)\n",
            "DecTree: 0.606646 (0.008297)\n",
            "RF: 0.773875 (0.012814)\n",
            "XGB: 0.855171 (0.012028)\n",
            "Missing values approach: No NAs preprocessing(XGB only)\n",
            "XGB: 0.864576 (0.006937)\n",
            "Missing values approach: Imputer\n"
          ],
          "name": "stdout"
        },
        {
          "output_type": "stream",
          "text": [
            "/usr/local/lib/python3.6/dist-packages/sklearn/utils/deprecation.py:66: DeprecationWarning: Class Imputer is deprecated; Imputer was deprecated in version 0.20 and will be removed in 0.22. Import impute.SimpleImputer from sklearn instead.\n",
            "  warnings.warn(msg, category=DeprecationWarning)\n"
          ],
          "name": "stderr"
        },
        {
          "output_type": "stream",
          "text": [
            "LR: 0.857142 (0.007490)\n",
            "KNN: 0.743453 (0.008572)\n",
            "DecTree: 0.616191 (0.008139)\n",
            "RF: 0.782186 (0.008902)\n",
            "XGB: 0.864503 (0.007119)\n"
          ],
          "name": "stdout"
        }
      ]
    },
    {
      "cell_type": "code",
      "metadata": {
        "id": "uFgMUyPdYbTw",
        "colab_type": "code",
        "outputId": "949cbc79-9e21-42af-91f2-57f539845570",
        "colab": {
          "base_uri": "https://localhost:8080/",
          "height": 458
        }
      },
      "source": [
        "# Plotting the results \n",
        "plt.figure(figsize=(12,7))\n",
        "plt.title(\"Cross-validation 'roc_auc' score and various NAs cleaning approaches\")\n",
        "sns.boxplot(data = df_boxplot, x = 'ML',y='Score',hue='Cleaning');"
      ],
      "execution_count": 0,
      "outputs": [
        {
          "output_type": "display_data",
          "data": {
            "image/png": "[encoded data removed]",
            "text/plain": [
              "<Figure size 864x504 with 1 Axes>"
            ]
          },
          "metadata": {
            "tags": []
          }
        }
      ]
    },
    {
      "cell_type": "markdown",
      "metadata": {
        "id": "0A7lRugqLjbO",
        "colab_type": "text"
      },
      "source": [
        "**We can see that Imputing NAs brings better results than removing them and also we can see that XGBoost internal Imputer gives equal results to sklearn Imputer so the approach for working with NAs in this dataset will be Imputing them with sklearn Imputer**\n",
        "\n",
        "**On the other hand we can see the top three classifier to tune further:**\n",
        "\n",
        "1.   LogisticRegression, 0.864 roc_auc\n",
        "2.   XGBClassifier, 0.857 roc_auc\n",
        "\n"
      ]
    },
    {
      "cell_type": "code",
      "metadata": {
        "id": "V5YNeKCBMLcr",
        "colab_type": "code",
        "colab": {}
      },
      "source": [
        "# Removing NAs according to previsously defined approach: Imputing\n",
        "df_credit = get_data()\n",
        "\n",
        "df_credit = data_prep_imputers(df_credit)\n",
        "\n",
        "X_train, X_test, y_train, y_test = make_X_y(df_credit)"
      ],
      "execution_count": 0,
      "outputs": []
    },
    {
      "cell_type": "markdown",
      "metadata": {
        "id": "U5fhwn_ye7_x",
        "colab_type": "text"
      },
      "source": [
        "## GridSearchCV and Undersampling for LogisticRegression and XGBClassifier\n",
        "\n"
      ]
    },
    {
      "cell_type": "markdown",
      "metadata": {
        "id": "W7_FkOMBO9Vb",
        "colab_type": "text"
      },
      "source": [
        "# LR oversampling"
      ]
    },
    {
      "cell_type": "code",
      "metadata": {
        "id": "5YYM8owOeAtN",
        "colab_type": "code",
        "colab": {}
      },
      "source": [
        "from imblearn.over_sampling import ADASYN\n",
        "from imblearn.pipeline import make_pipeline, Pipeline"
      ],
      "execution_count": 0,
      "outputs": []
    },
    {
      "cell_type": "code",
      "metadata": {
        "id": "Ns7UXa0UKHVk",
        "colab_type": "code",
        "colab": {}
      },
      "source": [
        "# Data preparation\n",
        "df_credit = get_data()\n",
        "\n",
        "df_credit = data_prep_imputers(df_credit)\n",
        "\n",
        "X_train, X_test, y_train, y_test = make_X_y_noscale(df_credit)\n",
        "\n",
        "feature_scaler = StandardScaler()\n",
        "X_train = feature_scaler.fit_transform(X_train)\n",
        "X_test = feature_scaler.transform(X_test)"
      ],
      "execution_count": 0,
      "outputs": []
    },
    {
      "cell_type": "code",
      "metadata": {
        "id": "crJOrf5o6fXv",
        "colab_type": "code",
        "outputId": "5bb2af3a-6f38-4bc3-9a52-ffa69911d0a5",
        "colab": {
          "base_uri": "https://localhost:8080/",
          "height": 476
        }
      },
      "source": [
        "clf_lr = LogisticRegression(class_weight = 'balanced', solver='saga',random_state=11,n_jobs=-1,C =1)\n",
        "adasyn = ADASYN(random_state=11)\n",
        "                \n",
        "grid = {'class__max_iter': [50,100] }\n",
        "pipeline = Pipeline([('sampling', adasyn), ('class', clf_lr)])\n",
        "\n",
        "best_lr = GridSearchCV(pipeline, grid, scoring = 'roc_auc', cv = StratifiedKFold(n_splits=10, shuffle=True))\n",
        "\n",
        "best_lr.fit(X_train, y_train)"
      ],
      "execution_count": 0,
      "outputs": [
        {
          "output_type": "execute_result",
          "data": {
            "text/plain": [
              "GridSearchCV(cv=StratifiedKFold(n_splits=10, random_state=None, shuffle=True),\n",
              "             error_score='raise-deprecating',\n",
              "             estimator=Pipeline(memory=None,\n",
              "                                steps=[('sampling',\n",
              "                                        ADASYN(n_jobs=1, n_neighbors=5,\n",
              "                                               random_state=11, ratio=None,\n",
              "                                               sampling_strategy='auto')),\n",
              "                                       ('class',\n",
              "                                        LogisticRegression(C=1,\n",
              "                                                           class_weight='balanced',\n",
              "                                                           dual=False,\n",
              "                                                           fit_intercept=True,\n",
              "                                                           intercept_scaling=1,\n",
              "                                                           l1_ratio=None,\n",
              "                                                           max_iter=100,\n",
              "                                                           multi_class='warn',\n",
              "                                                           n_jobs=-1,\n",
              "                                                           penalty='l2',\n",
              "                                                           random_state=11,\n",
              "                                                           solver='saga',\n",
              "                                                           tol=0.0001,\n",
              "                                                           verbose=0,\n",
              "                                                           warm_start=False))],\n",
              "                                verbose=False),\n",
              "             iid='warn', n_jobs=None, param_grid={'class__max_iter': [50, 100]},\n",
              "             pre_dispatch='2*n_jobs', refit=True, return_train_score=False,\n",
              "             scoring='roc_auc', verbose=0)"
            ]
          },
          "metadata": {
            "tags": []
          },
          "execution_count": 149
        }
      ]
    },
    {
      "cell_type": "code",
      "metadata": {
        "id": "v8acZo1xb7rk",
        "colab_type": "code",
        "outputId": "9bd065c3-445e-42b4-f302-67bbb615c092",
        "colab": {
          "base_uri": "https://localhost:8080/",
          "height": 34
        }
      },
      "source": [
        "print(\"AUC Score LR ADASYN {}\".format(roc_auc_score(y_test, prediction_lr)))"
      ],
      "execution_count": 0,
      "outputs": [
        {
          "output_type": "stream",
          "text": [
            "AUC Score LR ADASYN 0.7697287278639595\n"
          ],
          "name": "stdout"
        }
      ]
    },
    {
      "cell_type": "code",
      "metadata": {
        "id": "QJj7zVcm6fR1",
        "colab_type": "code",
        "outputId": "b18b2ad1-60db-4a29-c06a-177d67687d1d",
        "colab": {
          "base_uri": "https://localhost:8080/",
          "height": 51
        }
      },
      "source": [
        "prediction_lr = best_lr.predict(X_test)\n",
        "confusion_matrix(y_test, prediction_lr,labels=[0,1])"
      ],
      "execution_count": 0,
      "outputs": [
        {
          "output_type": "execute_result",
          "data": {
            "text/plain": [
              "array([[14957,  4582],\n",
              "       [  316,  1082]])"
            ]
          },
          "metadata": {
            "tags": []
          },
          "execution_count": 139
        }
      ]
    },
    {
      "cell_type": "code",
      "metadata": {
        "id": "q4Vcp4ZWtQDj",
        "colab_type": "code",
        "outputId": "b9831bb9-e10c-44e6-9fc9-f3bcd9c1be9f",
        "colab": {
          "base_uri": "https://localhost:8080/",
          "height": 34
        }
      },
      "source": [
        "print(\"Proportion of false responses for class '0': {:.3}%\".format(4528/(4528+14957)*100))\n"
      ],
      "execution_count": 0,
      "outputs": [
        {
          "output_type": "stream",
          "text": [
            "Proportion of false responses for class '0': 23.2%\n"
          ],
          "name": "stdout"
        }
      ]
    },
    {
      "cell_type": "code",
      "metadata": {
        "id": "JZt0peUl6fMu",
        "colab_type": "code",
        "outputId": "3951b7bd-5940-451f-b75d-d286a6f0e436",
        "colab": {
          "base_uri": "https://localhost:8080/",
          "height": 170
        }
      },
      "source": [
        "print(classification_report(y_test, prediction_lr))"
      ],
      "execution_count": 0,
      "outputs": [
        {
          "output_type": "stream",
          "text": [
            "              precision    recall  f1-score   support\n",
            "\n",
            "           0       0.98      0.77      0.86     19539\n",
            "           1       0.19      0.77      0.31      1398\n",
            "\n",
            "    accuracy                           0.77     20937\n",
            "   macro avg       0.59      0.77      0.58     20937\n",
            "weighted avg       0.93      0.77      0.82     20937\n",
            "\n"
          ],
          "name": "stdout"
        }
      ]
    },
    {
      "cell_type": "code",
      "metadata": {
        "id": "oe7sAf8J6fGt",
        "colab_type": "code",
        "outputId": "5f8cfeae-c8e5-42d4-c6d0-72ea82de681d",
        "colab": {
          "base_uri": "https://localhost:8080/",
          "height": 295
        }
      },
      "source": [
        "y_pred_proba_lr = best_lr.predict_proba(X_test)\n",
        "plot_roc(y_test, y_pred_proba_lr)\n",
        "plt.title('LogisticRegression ROC_AUC curve')\n",
        "plt.show()"
      ],
      "execution_count": 0,
      "outputs": [
        {
          "output_type": "display_data",
          "data": {
            "image/png": "[encoded data removed]",
            "text/plain": [
              "<Figure size 432x288 with 1 Axes>"
            ]
          },
          "metadata": {
            "tags": []
          }
        }
      ]
    },
    {
      "cell_type": "markdown",
      "metadata": {
        "id": "SZr7635ZuLsZ",
        "colab_type": "text"
      },
      "source": [
        "## XGB oversampling "
      ]
    },
    {
      "cell_type": "code",
      "metadata": {
        "id": "nn98TOeacYto",
        "colab_type": "code",
        "colab": {}
      },
      "source": [
        "# Data preparation\n",
        "df_credit = get_data()\n",
        "\n",
        "df_credit = data_prep_imputers(df_credit)\n",
        "\n",
        "X_train, X_test, y_train, y_test = make_X_y_noscale(df_credit)\n",
        "\n",
        "feature_scaler = StandardScaler()\n",
        "X_train = feature_scaler.fit_transform(X_train)\n",
        "X_test = feature_scaler.transform(X_test)"
      ],
      "execution_count": 0,
      "outputs": []
    },
    {
      "cell_type": "code",
      "metadata": {
        "id": "98rA8KK1ckbs",
        "colab_type": "code",
        "outputId": "b2ce7dc9-0a0d-4928-96da-2ade295d5d79",
        "colab": {
          "base_uri": "https://localhost:8080/",
          "height": 476
        }
      },
      "source": [
        "from imblearn.over_sampling import ADASYN\n",
        "from imblearn.pipeline import make_pipeline, Pipeline\n",
        "\n",
        "clf_xgb = XGBClassifier(random_state=11,n_jobs=-1)\n",
        "adasyn = ADASYN(random_state=11)\n",
        "                \n",
        "grid = {'class__max_iter': [50,100] }\n",
        "pipeline = Pipeline([('sampling', adasyn), ('class', clf_xgb)])\n",
        "\n",
        "best_xgb = GridSearchCV(pipeline, grid, scoring = 'roc_auc', cv = StratifiedKFold(n_splits=5, shuffle=True))\n",
        "\n",
        "best_xgb.fit(X_train, y_train)"
      ],
      "execution_count": 0,
      "outputs": [
        {
          "output_type": "execute_result",
          "data": {
            "text/plain": [
              "GridSearchCV(cv=StratifiedKFold(n_splits=5, random_state=None, shuffle=True),\n",
              "             error_score='raise-deprecating',\n",
              "             estimator=Pipeline(memory=None,\n",
              "                                steps=[('sampling',\n",
              "                                        ADASYN(n_jobs=1, n_neighbors=5,\n",
              "                                               random_state=11, ratio=None,\n",
              "                                               sampling_strategy='auto')),\n",
              "                                       ('class',\n",
              "                                        XGBClassifier(base_score=0.5,\n",
              "                                                      booster='gbtree',\n",
              "                                                      colsample_bylevel=1,\n",
              "                                                      colsample_bynode=1,\n",
              "                                                      colsample_bytre...\n",
              "                                                      missing=None,\n",
              "                                                      n_estimators=100,\n",
              "                                                      n_jobs=-1, nthread=None,\n",
              "                                                      objective='binary:logistic',\n",
              "                                                      random_state=11,\n",
              "                                                      reg_alpha=0, reg_lambda=1,\n",
              "                                                      scale_pos_weight=1,\n",
              "                                                      seed=None, silent=None,\n",
              "                                                      subsample=1,\n",
              "                                                      verbosity=1))],\n",
              "                                verbose=False),\n",
              "             iid='warn', n_jobs=None, param_grid={'class__max_iter': [50, 100]},\n",
              "             pre_dispatch='2*n_jobs', refit=True, return_train_score=False,\n",
              "             scoring='roc_auc', verbose=0)"
            ]
          },
          "metadata": {
            "tags": []
          },
          "execution_count": 123
        }
      ]
    },
    {
      "cell_type": "code",
      "metadata": {
        "id": "EsSUntoTdD8Q",
        "colab_type": "code",
        "colab": {}
      },
      "source": [
        "prediction_xgb = best_xgb.predict(X_test)"
      ],
      "execution_count": 0,
      "outputs": []
    },
    {
      "cell_type": "code",
      "metadata": {
        "id": "ZidOBe2vc6_f",
        "colab_type": "code",
        "outputId": "06d905fa-0672-40c0-c383-c4f737940034",
        "colab": {
          "base_uri": "https://localhost:8080/",
          "height": 34
        }
      },
      "source": [
        "print(\"AUC Score XGB ADASYN {}\".format(roc_auc_score(y_test, prediction_xgb)))"
      ],
      "execution_count": 0,
      "outputs": [
        {
          "output_type": "stream",
          "text": [
            "AUC Score XGB ADASYN 0.7669370184468742\n"
          ],
          "name": "stdout"
        }
      ]
    },
    {
      "cell_type": "code",
      "metadata": {
        "id": "4qWM_oSuGsDt",
        "colab_type": "code",
        "outputId": "04eaea25-1e12-454e-f00a-29d5c0e21389",
        "colab": {
          "base_uri": "https://localhost:8080/",
          "height": 51
        }
      },
      "source": [
        "confusion_matrix(y_test, prediction_xgb,labels=[0,1])"
      ],
      "execution_count": 0,
      "outputs": [
        {
          "output_type": "execute_result",
          "data": {
            "text/plain": [
              "array([[14792,  4747],\n",
              "       [  312,  1086]])"
            ]
          },
          "metadata": {
            "tags": []
          },
          "execution_count": 153
        }
      ]
    },
    {
      "cell_type": "code",
      "metadata": {
        "id": "1r9R0ZI99BYx",
        "colab_type": "code",
        "outputId": "679bbae8-c1eb-40e8-a871-51f5364d7c98",
        "colab": {
          "base_uri": "https://localhost:8080/",
          "height": 170
        }
      },
      "source": [
        "print(classification_report(y_test, prediction_xgb))"
      ],
      "execution_count": 0,
      "outputs": [
        {
          "output_type": "stream",
          "text": [
            "              precision    recall  f1-score   support\n",
            "\n",
            "           0       0.98      0.76      0.85     19539\n",
            "           1       0.19      0.78      0.30      1398\n",
            "\n",
            "    accuracy                           0.76     20937\n",
            "   macro avg       0.58      0.77      0.58     20937\n",
            "weighted avg       0.93      0.76      0.82     20937\n",
            "\n"
          ],
          "name": "stdout"
        }
      ]
    },
    {
      "cell_type": "code",
      "metadata": {
        "id": "uhMi-pjZ2D2u",
        "colab_type": "code",
        "outputId": "d74e0872-4b0f-4f50-a803-55b5e8faa356",
        "colab": {
          "base_uri": "https://localhost:8080/",
          "height": 295
        }
      },
      "source": [
        "y_pred_proba_xgb = best_xgb.predict_proba(X_test)\n",
        "scikitplot.metrics.plot_roc(y_test, y_pred_proba_xgb)\n",
        "plt.title('XGB ROC_AUC curve')\n",
        "plt.show()"
      ],
      "execution_count": 0,
      "outputs": [
        {
          "output_type": "display_data",
          "data": {
            "image/png": "[encoded data removed]",
            "text/plain": [
              "<Figure size 432x288 with 1 Axes>"
            ]
          },
          "metadata": {
            "tags": []
          }
        }
      ]
    },
    {
      "cell_type": "markdown",
      "metadata": {
        "id": "2rB8T1pOdTpE",
        "colab_type": "text"
      },
      "source": [
        "## LR Undersampling "
      ]
    },
    {
      "cell_type": "code",
      "metadata": {
        "id": "cABvkK5fd3xm",
        "colab_type": "code",
        "colab": {}
      },
      "source": [
        "from imblearn.under_sampling import RandomUnderSampler\n",
        "from collections import Counter"
      ],
      "execution_count": 0,
      "outputs": []
    },
    {
      "cell_type": "code",
      "metadata": {
        "id": "6FFIDk_Cbglb",
        "colab_type": "code",
        "colab": {}
      },
      "source": [
        "df_credit = get_data()\n",
        "df_credit = data_prep_imputers(df_credit)\n",
        "X = df_credit.drop(['Ident','Target'],axis=1)\n",
        "y = df_credit['Target']\n",
        "\n",
        "#print(\"Original dataset shape {}\".format(Counter(y)))\n",
        "\n",
        "rus = RandomUnderSampler(random_state=42)\n",
        "X_resampled, y_resampled = rus.fit_sample(X,y)\n",
        "#print(\"Resampled dataset shape {}\".format(Counter(y_resampled)))\n",
        "\n",
        "X_train_rus, X_val_rus, y_train_rus, y_val_rus = train_test_split(X_resampled, y_resampled, random_state=42)\n",
        "X_train_rus.shape, y_train_rus.shape\n",
        "\n",
        "scaler = StandardScaler().fit(X_train_rus)\n",
        "X_train_rus_scaled = scaler.transform(X_train_rus)\n",
        "X_val_rus_scaled = scaler.transform(X_val_rus)\n",
        "\n",
        "logit_resampled = LogisticRegression(random_state=42, solver=\"saga\", penalty=\"l1\", C=1.0, max_iter=500)\n",
        "logit_resampled.fit(X_train_rus_scaled, y_train_rus)\n",
        "\n",
        "prediction_lr_und = logit_resampled.predict(X_test)"
      ],
      "execution_count": 0,
      "outputs": []
    },
    {
      "cell_type": "code",
      "metadata": {
        "id": "PtOgdJVudloC",
        "colab_type": "code",
        "outputId": "0c34ec97-e3a4-4c75-d939-24af8df4c0ca",
        "colab": {
          "base_uri": "https://localhost:8080/",
          "height": 34
        }
      },
      "source": [
        "print(\"AUC Score LR Unersampling {}\".format(roc_auc_score(y_test, prediction_lr_und)))"
      ],
      "execution_count": 0,
      "outputs": [
        {
          "output_type": "stream",
          "text": [
            "AUC Score LR Unersampling 0.7523303233963459\n"
          ],
          "name": "stdout"
        }
      ]
    },
    {
      "cell_type": "code",
      "metadata": {
        "id": "NYNKJrOWd56o",
        "colab_type": "code",
        "outputId": "5347eb76-a389-47ef-9b4e-93db0489ec06",
        "colab": {
          "base_uri": "https://localhost:8080/",
          "height": 51
        }
      },
      "source": [
        "confusion_matrix(y_test, prediction_lr_und,labels=[0,1])"
      ],
      "execution_count": 0,
      "outputs": [
        {
          "output_type": "execute_result",
          "data": {
            "text/plain": [
              "array([[11971,  7568],\n",
              "       [  151,  1247]])"
            ]
          },
          "metadata": {
            "tags": []
          },
          "execution_count": 135
        }
      ]
    },
    {
      "cell_type": "markdown",
      "metadata": {
        "id": "UQ7ZSxDJibLl",
        "colab_type": "text"
      },
      "source": [
        "## XGB Undersampling"
      ]
    },
    {
      "cell_type": "code",
      "metadata": {
        "id": "VeqY7_dwiYmN",
        "colab_type": "code",
        "colab": {}
      },
      "source": [
        "df_credit = get_data()\n",
        "df_credit = data_prep_imputers(df_credit)\n",
        "X = df_credit.drop(['Ident','Target'],axis=1)\n",
        "y = df_credit['Target']\n",
        "\n",
        "#print(\"Original dataset shape {}\".format(Counter(y)))\n",
        "\n",
        "rus = RandomUnderSampler(random_state=42)\n",
        "X_resampled, y_resampled = rus.fit_sample(X,y)\n",
        "#print(\"Resampled dataset shape {}\".format(Counter(y_resampled)))\n",
        "\n",
        "X_train_rus, X_val_rus, y_train_rus, y_val_rus = train_test_split(X_resampled, y_resampled, random_state=42)\n",
        "X_train_rus.shape, y_train_rus.shape\n",
        "\n",
        "scaler = StandardScaler().fit(X_train_rus)\n",
        "X_train_rus_scaled = scaler.transform(X_train_rus)\n",
        "X_val_rus_scaled = scaler.transform(X_val_rus)\n",
        "\n",
        "xgb_resampled = XGBClassifier(random_state=11,n_jobs=-1)\n",
        "xgb_resampled.fit(X_train_rus_scaled, y_train_rus)\n",
        "\n",
        "prediction_xgb_und = logit_resampled.predict(X_test)"
      ],
      "execution_count": 0,
      "outputs": []
    },
    {
      "cell_type": "code",
      "metadata": {
        "id": "UEQRCpPYiYia",
        "colab_type": "code",
        "outputId": "571a121a-5bc2-4b66-afe5-2eaaf2ddfe35",
        "colab": {
          "base_uri": "https://localhost:8080/",
          "height": 34
        }
      },
      "source": [
        "print(\"AUC Score XGB Unersampling {}\".format(roc_auc_score(y_test, prediction_xgb_und)))"
      ],
      "execution_count": 0,
      "outputs": [
        {
          "output_type": "stream",
          "text": [
            "AUC Score XGB Unersampling 0.7523303233963459\n"
          ],
          "name": "stdout"
        }
      ]
    },
    {
      "cell_type": "code",
      "metadata": {
        "id": "1Mn-cKhEiYcz",
        "colab_type": "code",
        "outputId": "21be6531-c85a-4d74-8f5e-fe9d2ae40ced",
        "colab": {
          "base_uri": "https://localhost:8080/",
          "height": 51
        }
      },
      "source": [
        "confusion_matrix(y_test, prediction_xgb_und,labels=[0,1])"
      ],
      "execution_count": 0,
      "outputs": [
        {
          "output_type": "execute_result",
          "data": {
            "text/plain": [
              "array([[11971,  7568],\n",
              "       [  151,  1247]])"
            ]
          },
          "metadata": {
            "tags": []
          },
          "execution_count": 167
        }
      ]
    },
    {
      "cell_type": "markdown",
      "metadata": {
        "id": "E9VNUYAbjBwt",
        "colab_type": "text"
      },
      "source": [
        "# Submitting results"
      ]
    },
    {
      "cell_type": "code",
      "metadata": {
        "id": "kXXwWqnWd526",
        "colab_type": "code",
        "colab": {}
      },
      "source": [
        "df_test = get_data(\"Data Scientist_1.csv\")\n",
        "df_test = data_prep_imputers(df_test)\n",
        "df_test = df_test.drop(['Ident'],1)\n",
        "\n",
        "df_test = feature_scaler.transform(df_test)\n",
        "\n",
        "final_prediction = best_lr.predict(df_test)"
      ],
      "execution_count": 0,
      "outputs": []
    },
    {
      "cell_type": "code",
      "metadata": {
        "colab_type": "code",
        "outputId": "69a4cfb6-c72b-4dc8-b999-84d68860bad9",
        "id": "ArKl9yUWjaqF",
        "colab": {
          "base_uri": "https://localhost:8080/",
          "height": 34
        }
      },
      "source": [
        "# Proportion of class '1' target variable\n",
        "(final_prediction ==1).sum()/len(final_prediction)"
      ],
      "execution_count": 0,
      "outputs": [
        {
          "output_type": "execute_result",
          "data": {
            "text/plain": [
              "0.2628478121759086"
            ]
          },
          "metadata": {
            "tags": []
          },
          "execution_count": 170
        }
      ]
    },
    {
      "cell_type": "markdown",
      "metadata": {
        "id": "lpSEESJDkFWl",
        "colab_type": "text"
      },
      "source": [
        "**Suspiciously proportion of '1' values in the target variable is significantly higher than in the train dataset.** "
      ]
    },
    {
      "cell_type": "code",
      "metadata": {
        "id": "iohi-FC5jqJ8",
        "colab_type": "code",
        "colab": {}
      },
      "source": [
        "df_test = df = pd.read_csv(\"Data Scientist_1.csv\", sep=';',na_values=' ')\n",
        "df_test['SeriousDlqin2yrs'] = final_prediction"
      ],
      "execution_count": 0,
      "outputs": []
    },
    {
      "cell_type": "code",
      "metadata": {
        "id": "ff3r3PXdjp9t",
        "colab_type": "code",
        "outputId": "9401863a-d3d5-4cca-be32-5ae706eb4e86",
        "colab": {
          "base_uri": "https://localhost:8080/",
          "height": 284
        }
      },
      "source": [
        "df_test.head()"
      ],
      "execution_count": 0,
      "outputs": [
        {
          "output_type": "execute_result",
          "data": {
            "text/html": [
              "<div>\n",
              "<style scoped>\n",
              "    .dataframe tbody tr th:only-of-type {\n",
              "        vertical-align: middle;\n",
              "    }\n",
              "\n",
              "    .dataframe tbody tr th {\n",
              "        vertical-align: top;\n",
              "    }\n",
              "\n",
              "    .dataframe thead th {\n",
              "        text-align: right;\n",
              "    }\n",
              "</style>\n",
              "<table border=\"1\" class=\"dataframe\">\n",
              "  <thead>\n",
              "    <tr style=\"text-align: right;\">\n",
              "      <th></th>\n",
              "      <th>RevolvingUtilizationOfUnsecuredLines</th>\n",
              "      <th>age</th>\n",
              "      <th>NumberOfTime3059DaysPastDueNotWorse</th>\n",
              "      <th>DebtRatio</th>\n",
              "      <th>MonthlyIncome</th>\n",
              "      <th>NumberOfOpenCreditLinesAndLoans</th>\n",
              "      <th>NumberOfTimes90DaysLate</th>\n",
              "      <th>NumberRealEstateLoansOrLines</th>\n",
              "      <th>NumberOfTime6089DaysPastDueNotWorse</th>\n",
              "      <th>NumberOfDependents</th>\n",
              "      <th>Ident</th>\n",
              "      <th>SeriousDlqin2yrs</th>\n",
              "    </tr>\n",
              "  </thead>\n",
              "  <tbody>\n",
              "    <tr>\n",
              "      <th>0</th>\n",
              "      <td>0.957151</td>\n",
              "      <td>40</td>\n",
              "      <td>0</td>\n",
              "      <td>0.121876</td>\n",
              "      <td>2600.0</td>\n",
              "      <td>4</td>\n",
              "      <td>0</td>\n",
              "      <td>0</td>\n",
              "      <td>0</td>\n",
              "      <td>1.0</td>\n",
              "      <td>97.0</td>\n",
              "      <td>1</td>\n",
              "    </tr>\n",
              "    <tr>\n",
              "      <th>1</th>\n",
              "      <td>0.907239</td>\n",
              "      <td>49</td>\n",
              "      <td>1</td>\n",
              "      <td>0.024926</td>\n",
              "      <td>25000.0</td>\n",
              "      <td>7</td>\n",
              "      <td>0</td>\n",
              "      <td>1</td>\n",
              "      <td>0</td>\n",
              "      <td>0.0</td>\n",
              "      <td>214.0</td>\n",
              "      <td>1</td>\n",
              "    </tr>\n",
              "    <tr>\n",
              "      <th>2</th>\n",
              "      <td>0.213179</td>\n",
              "      <td>74</td>\n",
              "      <td>0</td>\n",
              "      <td>0.375607</td>\n",
              "      <td>3500.0</td>\n",
              "      <td>3</td>\n",
              "      <td>0</td>\n",
              "      <td>1</td>\n",
              "      <td>0</td>\n",
              "      <td>1.0</td>\n",
              "      <td>305.0</td>\n",
              "      <td>0</td>\n",
              "    </tr>\n",
              "    <tr>\n",
              "      <th>3</th>\n",
              "      <td>0.754464</td>\n",
              "      <td>39</td>\n",
              "      <td>0</td>\n",
              "      <td>0.209940</td>\n",
              "      <td>3500.0</td>\n",
              "      <td>8</td>\n",
              "      <td>0</td>\n",
              "      <td>0</td>\n",
              "      <td>0</td>\n",
              "      <td>0.0</td>\n",
              "      <td>601.0</td>\n",
              "      <td>1</td>\n",
              "    </tr>\n",
              "    <tr>\n",
              "      <th>4</th>\n",
              "      <td>0.018798</td>\n",
              "      <td>51</td>\n",
              "      <td>0</td>\n",
              "      <td>0.531529</td>\n",
              "      <td>6501.0</td>\n",
              "      <td>7</td>\n",
              "      <td>0</td>\n",
              "      <td>2</td>\n",
              "      <td>0</td>\n",
              "      <td>2.0</td>\n",
              "      <td>1817.0</td>\n",
              "      <td>0</td>\n",
              "    </tr>\n",
              "  </tbody>\n",
              "</table>\n",
              "</div>"
            ],
            "text/plain": [
              "   RevolvingUtilizationOfUnsecuredLines  age  ...   Ident  SeriousDlqin2yrs\n",
              "0                              0.957151   40  ...    97.0                 1\n",
              "1                              0.907239   49  ...   214.0                 1\n",
              "2                              0.213179   74  ...   305.0                 0\n",
              "3                              0.754464   39  ...   601.0                 1\n",
              "4                              0.018798   51  ...  1817.0                 0\n",
              "\n",
              "[5 rows x 12 columns]"
            ]
          },
          "metadata": {
            "tags": []
          },
          "execution_count": 174
        }
      ]
    },
    {
      "cell_type": "code",
      "metadata": {
        "id": "kWkvOYaSkqUf",
        "colab_type": "code",
        "colab": {}
      },
      "source": [
        "df_test.to_csv('tlysenko_credit_scoring.csv')"
      ],
      "execution_count": 0,
      "outputs": []
    },
    {
      "cell_type": "markdown",
      "metadata": {
        "id": "p-TtJdqsU6pc",
        "colab_type": "text"
      },
      "source": [
        "# Выводы\n",
        "\n",
        "Был проведен EDA и feature engineering, но новые признаки не дали более высокой корреляции с целевой переменной чем те признаки на которых они основывались. Таким образом ни один из новых признаков не попал в тренинговый датасет. \n",
        "\n",
        "Так как выборка несбалансированная, то были разработаны шаги по преодолению последствий такой несбалансированности.\n",
        "\n",
        "Была оценена метрика roc_auc на стратифицированной кросс-валидации для 5 моделей LogicsticRegression, KNeighborsClassifier, DecisionTreeClassifier, RandomForestClassifier, XGBClassifier.\n",
        "\n",
        "Так же на кросс-валидации оценивался оптимальный подход к обработке NA значений в переменных Dependents и MonthlyIncome. \n",
        "\n",
        "Следующий этап - подбор параметров с помощью  GridSearchCV, а также Oversamlpling. Для этого были выбраны две модели - XGBoostClassifer и LogicsticRegression, показавшие наилучший результат на предидущем этапе (средние значения roc_auc 0.864 и 0.857 соответственно). \n",
        "\n",
        "Нужно отметить, что GridSearchCV проводился формально, на минимальном наборе параметров. Это связано с временныными и вычислительными ограничениями. Для дальнейшего улучшения результата стоит значительно расширить сетку параметров. \n",
        "\n",
        "И следующий этап это Undersampling для XGBoostClassifer и LogicsticRegression.\n",
        "\n",
        "Было ожидание, что undersampling, oversampling и gridsearch повысят roc_auc, но этого не произошло. Значения roc_auc после всех этих упражнений находтся в районе 0.75 и я пока не нашла ответ на вопрос \"почему так ?\". \n",
        "\n",
        "Тем не менее, на confusion matrix видно, что при undersampling количество True Positive по классу \"1\" существенно улучшается, но это происходит ценой, того, что почти половина предсказаний по классу \"0\" оказывается неправильной. Поэтому, для финального предсказания был выбран алгоритм LogisticRegression + oversampling. \n",
        "\n",
        "Пропорция класса \"1\" в prediction выборе составляет 26% по сравнению с 6.68% в тренинговой выборке. Что, в целом, было видно по confusion матрице - в 23% случаев алогритм ошибается на классе \"0\" на тренинговой выборке. \n",
        "\n",
        "Что нужно сделать дальше:\n",
        "* Нужно поэксперементировать с automated feature selection\n",
        "* Безусловно, нужно значительно больше выжать из XGB, тут он работает на уровне c Логистической регрессией, а он точно может больше. \n",
        "* Нужно разобраться с понижением метрики после кросс валидации. \n",
        "* Провести кросс-валидацию по более широкой сетке параметров \n"
      ]
    }
  ]
}