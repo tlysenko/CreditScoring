{
  "nbformat": 4,
  "nbformat_minor": 0,
  "metadata": {
    "colab": {
      "name": "Bioinformatics 2 - week 2.ipynb",
      "provenance": [],
      "toc_visible": true,
      "mount_file_id": "1O3w8kLOIq6096EH5HyRXyq9nA46e0oML",
      "authorship_tag": "ABX9TyMUWvNuBd20aVQ5bRDTdBYm",
      "include_colab_link": true
    },
    "kernelspec": {
      "display_name": "Python 3",
      "name": "python3"
    }
  },
  "cells": [
    {
      "cell_type": "markdown",
      "metadata": {
        "id": "view-in-github",
        "colab_type": "text"
      },
      "source": [
        "<a href=\"https://colab.research.google.com/github/tlysenko/CreditScoring/blob/master/Genome%20Sequencing%20(Bioinformatics%20II)/Bioinformatics_2_week_2.ipynb\" target=\"_parent\"><img src=\"https://colab.research.google.com/assets/colab-badge.svg\" alt=\"Open In Colab\"/></a>"
      ]
    },
    {
      "cell_type": "markdown",
      "metadata": {
        "id": "ARwjjcXmYFPE"
      },
      "source": [
        "## Importing libraries"
      ]
    },
    {
      "cell_type": "code",
      "metadata": {
        "id": "-wRcVsoyYEue"
      },
      "source": [
        "import numpy as np\n",
        "import pandas as pd\n",
        "\n",
        "from google.colab import files\n",
        "\n",
        "import random"
      ],
      "execution_count": 142,
      "outputs": []
    },
    {
      "cell_type": "markdown",
      "metadata": {
        "id": "qVDDJGIJYMG3"
      },
      "source": [
        "## 1.2.1 Eulerian Cycle Problem\n",
        "\n",
        "Input: The adjacency list of an Eulerian directed graph.\n",
        "\n",
        "Output: An Eulerian cycle in this graph."
      ]
    },
    {
      "cell_type": "code",
      "metadata": {
        "id": "5VfEbmbJYCMd"
      },
      "source": [
        "# EulerianCycle(Graph)\n",
        "#     form a cycle Cycle by randomly walking in Graph (don't visit the same edge twice!)\n",
        "#     while there are unexplored edges in Graph\n",
        "#         select a node newStart in Cycle with still unexplored edges\n",
        "#         form Cycle’ by traversing Cycle (starting at newStart) and then randomly walking \n",
        "#         Cycle ← Cycle’\n",
        "#     return Cycle"
      ],
      "execution_count": null,
      "outputs": []
    },
    {
      "cell_type": "code",
      "metadata": {
        "id": "pzzCoA7M2DD3"
      },
      "source": [
        "def StrPathToDict(graph):\n",
        "  d = dict()\n",
        "  for line in graph:\n",
        "    key = int(line.split('->')[0].split(' ')[0])\n",
        "    value = line.split('->')[1].split(' ')[1]\n",
        "    if ',' in value:\n",
        "      v = value.split(',')\n",
        "      d[key] = ([int(el) for el in v])\n",
        "    else:\n",
        "      d[key] = [(int(value))]\n",
        "  return d\n",
        "\n",
        "def CountIndegrees(d):\n",
        "  d = StrPathToDict(graph)\n",
        "  remNodes = np.zeros(len(d))\n",
        "  for i, values in enumerate(d.values()):\n",
        "    for value in values:\n",
        "      remNodes[i] = remNodes[i] + 1\n",
        "  return remNodes\n",
        "\n",
        "def DeleteEdge(d, d1, d2):\n",
        "  # deletes edge d1->d2 from the dictionary d \n",
        "  if len(d[d1]) > 1:\n",
        "    lst = d[d1].copy()\n",
        "    lst.remove(d2)\n",
        "    d[d1] = lst.copy()\n",
        "  elif len(d[d1]) == 1:\n",
        "    del d[d1]\n",
        "\n",
        "  return d \n",
        "\n",
        "\n",
        "def TraverseCycle(cycle, remainingEdges):\n",
        "  nodesWithAvailableEdges = [node for node in cycle if node in list(remainingEdges.keys())]\n",
        "  randomNode = random.choice(nodesWithAvailableEdges)\n",
        "\n",
        "  idx = cycle.index(randomNode)\n",
        "  cycle = cycle[idx:] + cycle[1:idx+1]\n",
        "\n",
        "  return cycle\n",
        "\n",
        "def GetNextRandomNode(prevNode, remainingEdges):    \n",
        "  nextNode = random.choice([int(t) for t in remainingEdges[prevNode]])\n",
        "  return nextNode\n",
        "\n",
        "def GetNextNodeWithAvailableIndegrees(prevNode, remainingEdges):\n",
        "  return nextNode\n",
        "\n",
        "def MakeRandomCycle(edges, remainingEdges, startNode):\n",
        "  rCycle = []\n",
        "  rCycle.append(startNode)\n",
        "  \n",
        "  prevNode = startNode\n",
        "\n",
        "  while prevNode in remainingEdges.keys():\n",
        "\n",
        "    nextNode = GetNextRandomNode(prevNode, remainingEdges)\n",
        "  \n",
        "    #updating the data structures\n",
        "    DeleteEdge(remainingEdges, prevNode, nextNode) \n",
        "    rCycle.append(nextNode)\n",
        "    prevNode = nextNode\n",
        "\n",
        "  return rCycle \n",
        "\n",
        "def EulerianCycle(edges):\n",
        "\n",
        "  # main data structures\n",
        "  targetCycleLen = sum(CountIndegrees(edges)) + 1\n",
        "  remainingEdges = edges.copy()\n",
        "  dictIndegrees = {k:v for  k, v in zip(edges.keys(), CountIndegrees(edges))}\n",
        "\n",
        "  #starting definitions\n",
        "  startNode = random.choice(list(dictIndegrees.keys()))\n",
        "  cycle = MakeRandomCycle(edges, remainingEdges, startNode)\n",
        "\n",
        "  while len(cycle) != targetCycleLen:\n",
        "    \n",
        "    traversedCycle = TraverseCycle(cycle, remainingEdges)\n",
        "    cycle_ = MakeRandomCycle(edges, remainingEdges, traversedCycle[0])\n",
        "    cycle = traversedCycle[:-1] + cycle_\n",
        "\n",
        "  s = ''\n",
        "  for node in cycle:\n",
        "    s = s + '->' + str(node)\n",
        "\n",
        "  return s[2:]"
      ],
      "execution_count": 64,
      "outputs": []
    },
    {
      "cell_type": "markdown",
      "metadata": {
        "id": "gvBFVzLzugds"
      },
      "source": [
        "### Test dataset "
      ]
    },
    {
      "cell_type": "code",
      "metadata": {
        "colab": {
          "base_uri": "https://localhost:8080/"
        },
        "id": "80KirUhMwPNt",
        "outputId": "a5c57dcb-05ee-40fd-88ff-fc87fa02e288"
      },
      "source": [
        "graph  = ['0 -> 3',\n",
        "'1 -> 0',\n",
        "'2 -> 1,6',\n",
        "'3 -> 2',\n",
        "'4 -> 2',\n",
        "'5 -> 4',\n",
        "'6 -> 5,8',\n",
        "'7 -> 9',\n",
        "'8 -> 7',\n",
        "'9 -> 6']\n",
        "\n",
        "edges = StrPathToDict(graph)\n",
        "cyc = EulerianCycle(edges)\n",
        "print(cyc)"
      ],
      "execution_count": 58,
      "outputs": [
        {
          "output_type": "stream",
          "text": [
            "6->5->4->2->1->0->3->2->6->8->7->9->6\n"
          ],
          "name": "stdout"
        }
      ]
    },
    {
      "cell_type": "code",
      "metadata": {
        "id": "zmNTCTsi2GWi"
      },
      "source": [
        "url = '/content/drive/MyDrive/Colab Notebooks/Bionformatics-coursera-sandiego/EulerianCycle'\n",
        "fpath_input = url + '/inputs/test1.txt'\n",
        "fpath_output = url + '/outputs/test1.txt'"
      ],
      "execution_count": 127,
      "outputs": []
    },
    {
      "cell_type": "code",
      "metadata": {
        "colab": {
          "base_uri": "https://localhost:8080/"
        },
        "id": "Pn7yixux2GTX",
        "outputId": "37287c82-1663-482d-e498-5e992d725563"
      },
      "source": [
        "with open(fpath_input) as f:\n",
        "  graph = f.readlines()\n",
        "graph = [g.split('\\n')[0] for g in graph]\n",
        "graph"
      ],
      "execution_count": 128,
      "outputs": [
        {
          "output_type": "execute_result",
          "data": {
            "text/plain": [
              "['0 -> 1', '1 -> 2', '2 -> 0']"
            ]
          },
          "metadata": {
            "tags": []
          },
          "execution_count": 128
        }
      ]
    },
    {
      "cell_type": "code",
      "metadata": {
        "colab": {
          "base_uri": "https://localhost:8080/"
        },
        "id": "KKK6vclRvJP_",
        "outputId": "2ccde5de-a9ca-451a-c1ac-6db3f6d0a6f2"
      },
      "source": [
        "edges = StrPathToDict(graph)\n",
        "cyc = EulerianCycle(edges)\n",
        "print(cyc)"
      ],
      "execution_count": 140,
      "outputs": [
        {
          "output_type": "stream",
          "text": [
            "4->1->4->3->0->3->1->2->3->2->1->3->4->0->1->0->4->2->0->2->4\n"
          ],
          "name": "stdout"
        }
      ]
    },
    {
      "cell_type": "code",
      "metadata": {
        "colab": {
          "base_uri": "https://localhost:8080/"
        },
        "id": "cRwHKdgQ2DA0",
        "outputId": "1b190d44-bc0f-4650-e329-3a832af918ce"
      },
      "source": [
        "with open(fpath_output) as f:\n",
        "  outp = f.readlines()\n",
        "outp = [g.split('\\n')[0] for g in outp]\n",
        "print(outp[0])"
      ],
      "execution_count": 141,
      "outputs": [
        {
          "output_type": "stream",
          "text": [
            "3->4->3->1->3->0->2->0->4->0->3->2->1->0->1->2->4->1->4->2->3\n"
          ],
          "name": "stdout"
        }
      ]
    },
    {
      "cell_type": "markdown",
      "metadata": {
        "id": "QsFEhBQBTGuh"
      },
      "source": [
        "### Stepik submission "
      ]
    },
    {
      "cell_type": "code",
      "metadata": {
        "colab": {
          "resources": {
            "http://localhost:8080/nbextensions/google.colab/files.js": {
              "data": "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",
              "ok": true,
              "headers": [
                [
                  "content-type",
                  "application/javascript"
                ]
              ],
              "status": 200,
              "status_text": ""
            }
          },
          "base_uri": "https://localhost:8080/",
          "height": 89
        },
        "id": "dGoamsPmxtuF",
        "outputId": "dc50feb2-7626-4d39-bbdc-1a55f721391f"
      },
      "source": [
        "uploaded = files.upload()\n",
        "\n",
        "for fn in uploaded.keys():\n",
        "  print('User uploaded file \"{name}\" with length {length} bytes'.format(\n",
        "      name=fn, length=len(uploaded[fn])))"
      ],
      "execution_count": 129,
      "outputs": [
        {
          "output_type": "display_data",
          "data": {
            "text/html": [
              "\n",
              "     <input type=\"file\" id=\"files-8457104d-870d-41dd-a2d0-e39920fd8203\" name=\"files[]\" multiple disabled\n",
              "        style=\"border:none\" />\n",
              "     <output id=\"result-8457104d-870d-41dd-a2d0-e39920fd8203\">\n",
              "      Upload widget is only available when the cell has been executed in the\n",
              "      current browser session. Please rerun this cell to enable.\n",
              "      </output>\n",
              "      <script src=\"/nbextensions/google.colab/files.js\"></script> "
            ],
            "text/plain": [
              "<IPython.core.display.HTML object>"
            ]
          },
          "metadata": {
            "tags": []
          }
        },
        {
          "output_type": "stream",
          "text": [
            "Saving dataset_203_2-4.txt to dataset_203_2-4.txt\n",
            "User uploaded file \"dataset_203_2-4.txt\" with length 40923 bytes\n"
          ],
          "name": "stdout"
        }
      ]
    },
    {
      "cell_type": "code",
      "metadata": {
        "id": "TMQyqsGiTJS1"
      },
      "source": [
        "with open(fn) as f:\n",
        "  graph = f.readlines()\n",
        "graph = [g.split('\\n')[0] for g in graph]"
      ],
      "execution_count": 130,
      "outputs": []
    },
    {
      "cell_type": "code",
      "metadata": {
        "colab": {
          "base_uri": "https://localhost:8080/"
        },
        "id": "XkQAEa7_TJPj",
        "outputId": "6dc83462-6c5f-40aa-b400-66f3331bfadf"
      },
      "source": [
        "graph[:5]"
      ],
      "execution_count": 131,
      "outputs": [
        {
          "output_type": "execute_result",
          "data": {
            "text/plain": [
              "['0 -> 1,25,6',\n",
              " '1 -> 2,39,41,8,92',\n",
              " '10 -> 11,14,150,29,50',\n",
              " '100 -> 102,1214',\n",
              " '1000 -> 1002,1193']"
            ]
          },
          "metadata": {
            "tags": []
          },
          "execution_count": 131
        }
      ]
    },
    {
      "cell_type": "code",
      "metadata": {
        "colab": {
          "base_uri": "https://localhost:8080/"
        },
        "id": "bdiF-2f4TrGJ",
        "outputId": "6101b303-c4cd-445c-99a2-d569fa51d2f2"
      },
      "source": [
        "d.items()"
      ],
      "execution_count": 132,
      "outputs": [
        {
          "output_type": "execute_result",
          "data": {
            "text/plain": [
              "dict_items([(0, [3]), (1, [0]), (2, [1, 6]), (3, [2]), (4, [2]), (5, [4]), (6, [5, 8]), (7, [9]), (8, [7]), (9, [6])])"
            ]
          },
          "metadata": {
            "tags": []
          },
          "execution_count": 132
        }
      ]
    },
    {
      "cell_type": "code",
      "metadata": {
        "colab": {
          "base_uri": "https://localhost:8080/"
        },
        "id": "CF33mfITTJL6",
        "outputId": "02453c7b-e025-4041-96e8-7eb19c4f23aa"
      },
      "source": [
        "edges = StrPathToDict(graph)\n",
        "cyc = EulerianCycle(edges)\n",
        "print(cyc, len(cyc))"
      ],
      "execution_count": 133,
      "outputs": [
        {
          "output_type": "stream",
          "text": [
            "387->386->2283->2282->2281->386->298->299->300->201->274->275->707->2483->2484->2482->707->708->706->1712->1713->2011->2908->2910->2909->2011->2013->2012->1713->1711->2317->2318->2319->1711->706->275->365->366->364->275->276->201->200->2980->2981->2982->200->151->23->1143->2559->2557->2558->1143->1141->1142->23->18->728->727->955->956->2387->2525->2526->2524->2387->2388->2433->2431->2432->2388->2386->956->957->2974->2975->2976->957->727->729->1627->1628->1629->729->1503->1502->1501->729->822->2534->2533->2535->822->820->821->2076->2075->2834->2835->2833->2075->2074->821->729->18->21->97->98->892->894->893->2710->2711->2712->893->98->99->21->19->20->46->827->828->2631->2629->2630->828->826->46->731->2556->2555->2554->731->2949->2983->2984->2985->2949->2948->2947->731->730->732->762->760->923->1593->1592->1591->2187->2185->2186->2915->2914->2916->2186->1591->923->922->2729->2730->2728->922->1475->1474->1476->922->924->760->761->732->46->80->127->575->576->847->848->849->947->946->948->849->1672->1674->1673->849->576->574->127->381->380->379->127->144->2162->2163->2161->144->239->737->2112->2110->2111->737->736->1551->2544->2543->2542->1551->1550->1549->2108->2671->2672->2673->2108->2107->2659->2660->2661->2107->2109->1549->736->738->829->2670->2669->2668->829->831->830->1572->1571->1570->830->738->239->1651->1653->1652->239->240->238->1839->2963->2964->2962->1839->1837->1838->238->277->614->615->1332->1330->1331->615->613->725->726->724->613->277->2092->2093->2094->277->1252->1254->1847->1848->1846->1254->1253->1800->1798->1799->1253->277->279->1133->1132->1134->279->278->1793->1794->1792->1795->1796->1797->1792->278->238->144->255->2598->2596->2597->255->555->710->1188->1187->1186->710->709->1377->1376->1375->709->711->2789->2790->2788->711->555->554->1013->1012->1979->1978->1980->1012->1014->554->553->255->253->377->2990->2989->2991->377->376->742->1067->1068->1853->1852->1854->1068->1066->742->743->1221->1634->2849->2848->2850->1634->1633->1635->1221->1220->1219->743->744->376->378->2599->2600->2601->378->253->2723->2724->2722->253->254->144->412->413->414->1677->1676->1675->414->1352->2045->2046->2044->1352->1351->1353->414->144->142->958->2150->2149->2151->958->960->1856->1857->1855->960->1179->1177->1178->960->959->2772->2771->2770->959->142->143->127->128->1205->1882->1884->1883->1205->1204->1206->1223->2562->2560->2561->1223->1222->1224->1450->1452->1451->1224->1206->128->129->202->462->460->461->202->203->204->695->1364->1365->1363->2239->2240->2241->1363->695->694->696->204->631->632->1297->1299->1298->632->2761->2762->2763->632->633->2442->2440->2441->633->204->129->2148->2146->2147->129->704->705->703->2921->2920->2922->703->129->80->79->910->911->912->79->81->809->810->808->842->841->2747->2748->2746->841->843->808->81->46->272->899->1574->1575->1997->1996->1998->1575->1573->899->900->1405->1482->1480->1481->1405->1406->2700->2698->2699->1406->1407->2073->2071->2072->1407->900->898->272->972->971->970->272->271->273->1383->1488->1486->1487->1383->1381->1382->273->46->48->916->917->1367->1368->1366->917->918->48->416->417->434->435->433->784->786->785->433->417->415->48->1626->1624->1625->48->47->367->388->1123->1698->1697->1696->1123->1125->1548->1546->1547->2968->2970->2969->1547->1125->1124->388->2138->2356->2358->2357->2138->2867->2866->2868->2138->2137->2139->388->389->418->420->419->389->773->2708->2707->2709->773->774->772->1744->1745->1746->772->389->390->367->368->505->891->889->890->505->507->520->522->521->765->763->764->521->2541->2539->2540->521->1342->1343->1344->521->507->506->368->369->47->20->18->17->493->494->495->17->1373->1374->1372->17->1421->1422->1420->17->11->186->1704->2675->2674->2676->1704->1702->1703->186->185->184->1036->2663->2662->2664->1036->1038->1037->184->11->12->1327->1329->1581->2619->2617->2618->1581->1579->1580->1329->1328->12->3->73->74->2409->2407->2408->74->215->216->623->622->624->216->214->74->938->939->937->74->75->178->2593->2594->2595->178->792->1244->1245->1243->792->791->2760->2758->2759->791->790->1000->1193->1194->1192->1000->1002->1001->2530->2531->2532->1001->1644->1643->1642->1001->790->178->180->179->75->3->0->6->217->218->219->247->249->1649->1648->1650->249->1531->1533->1532->249->248->219->6->343->1075->1750->1752->1751->1075->1077->1076->2049->2048->2047->1076->343->344->966->964->965->2767->2768->2769->965->344->345->510->509->508->345->2466->2464->2465->345->6->5->76->1418->1419->2577->2575->2576->2929->2930->2931->2576->1419->1417->76->2583->2581->2582->76->77->209->2306->2307->2305->2605->2607->2606->2305->209->210->208->561->559->560->2911->2912->2913->560->208->2261->2260->2727->2725->2726->2260->2262->208->77->78->96->95->2115->2114->2113->95->169->171->170->473->2205->2203->2204->473->2102->2103->2101->473->2026->2028->2027->473->472->1835->2563->2565->2564->1835->1836->1834->472->985->986->987->472->474->170->1084->1326->1324->1325->1084->1103->1104->1102->1084->1086->1085->170->95->212->1497->2650->2651->2652->2757->2756->2755->2652->1497->1495->1496->212->213->211->256->258->257->211->95->94->2614->2616->2615->94->159->157->360->1054->1762->2335->2337->2336->1762->2404->2406->2405->1762->1763->1764->1054->1055->2167->2169->2168->1055->1056->360->358->469->471->1335->1334->1333->471->944->945->943->471->630->628->629->471->470->358->359->881->882->1610->1609->2571->2570->2569->1609->1611->882->880->359->374->2086->2088->2087->2389->2391->2390->2087->374->421->423->1282->1284->1283->2233->2234->2235->1283->423->422->935->934->936->1140->1139->1138->1295->1296->1294->1138->936->422->374->375->479->480->478->375->716->715->1008->1007->1006->715->717->375->373->870->1608->1606->2174->2173->2175->1606->1607->870->1398->1396->1397->870->868->869->1081->1082->1083->869->373->359->157->2378->2379->2377->157->158->502->2121->2120->2119->502->527->528->2427->2426->2425->528->661->662->663->2301->2300->2299->663->528->526->502->504->1679->1678->1680->504->503->540->2157->2156->2155->540->538->1832->1833->1831->2852->2853->2851->1831->538->1380->1378->1693->1695->1694->1378->1379->538->539->607->721->723->722->1362->2177->2191->2193->2192->2794->2796->2795->2192->2177->2178->2176->1362->1360->1400->1399->1401->1360->1361->722->1035->1817->1818->1816->1035->1034->1033->1040->1812->1845->1843->1844->2002->2004->2003->1844->1812->1810->1811->1040->1080->1646->1925->1924->1926->1646->1768->1769->1770->1646->1645->1647->1080->1079->1078->1938->2350->2351->2352->1938->1936->1937->1078->1117->2245->2246->2247->1117->1119->1118->2308->2310->2309->1118->2627->2845->2846->2847->2627->2628->2626->1118->1078->1040->1041->1039->1116->1115->1114->1039->1033->722->607->608->1617->1616->1615->608->609->539->862->863->864->539->503->158->94->78->106->1233->1231->1232->106->524->1069->1071->2303->2302->2304->1071->1070->524->649->1004->1003->1005->649->651->650->524->525->1455->1454->1468->1470->2053->2055->2054->1470->1469->1454->1453->1820->1821->1819->2739->2738->2737->1819->1453->2957->2956->2958->1453->525->523->2474->2473->2475->523->106->108->111->118->123->458->457->2042->2041->2043->457->459->123->122->121->118->119->192->191->190->119->120->1355->1354->1944->1942->1943->1354->1356->2857->2859->2858->1356->120->2280->2278->2279->120->111->110->297->295->296->110->109->108->107->589->844->845->846->589->590->1042->1044->1691->1690->1692->1044->1466->2827->2829->2828->1466->1465->1467->1044->1043->590->591->107->78->5->1561->1984->1985->1986->1561->1563->2812->2814->2813->1563->1562->5->4->63->206->486->485->484->206->205->207->63->62->61->645->975->2450->2449->2451->975->974->1458->1457->1456->974->973->645->643->644->1748->1747->2183->2182->2184->1747->1749->644->61->653->654->652->61->4->531->563->564->562->1849->1851->1850->562->531->529->530->4->137->1759->1760->1761->137->229->750->2287->2288->2471->2472->2470->2288->2289->750->1164->1685->1684->1686->1164->1163->1982->1981->1983->1163->1162->750->748->749->229->231->573->572->571->1181->1180->1311->1309->1310->1914->1913->1912->2325->2324->2323->1912->1310->1180->1182->571->231->2476->2477->2478->231->1149->2695->2697->2696->1149->1148->1559->1560->1558->1148->1147->1899->1897->1898->1147->231->396->401->688->689->2070->2133->2373->2371->2372->2133->2132->2131->2070->2068->2069->689->690->401->400->402->734->1804->1805->1806->734->733->872->871->873->1788->2268->2266->2267->1788->1786->2238->2237->2641->2642->2643->2237->2236->1786->1787->873->733->735->402->919->1595->1596->1594->919->920->921->402->396->395->394->231->230->137->284->339->337->338->284->283->285->2665->2666->2667->285->137->138->136->1826->1827->1825->136->4->0->25->449->1136->1414->1415->1416->1136->1137->1135->449->1109->1110->1108->449->448->799->800->801->448->450->25->26->103->105->165->556->558->557->165->949->950->951->1516->1518->1517->951->165->163->288->1614->1612->1613->288->287->286->163->164->105->104->1025->1287->2503->2504->2505->1287->1285->1286->1025->1669->1671->2366->2367->2365->1671->1670->1025->1026->1024->104->117->2296->2298->2297->117->2430->2429->2428->117->1262->1263->1261->117->116->2201->2202->2200->116->115->992->993->1776->1774->1775->993->991->115->104->741->824->823->2059->2934->2932->2933->2059->2060->2061->823->825->989->990->1290->1289->1288->990->988->1390->1392->2941->2943->2942->1392->1391->988->1021->1022->1317->1315->1316->1389->1388->1387->2874->2872->2873->1387->1316->1597->1598->2341->2342->2343->1598->1599->1316->1022->1023->988->825->1955->1954->1956->825->741->740->739->795->793->794->739->104->26->352->1096->2646->2645->2644->1096->1098->1097->2189->2190->2188->1097->352->354->593->592->594->354->353->26->176->175->177->2023->2024->2025->177->26->329->1723->2056->2057->2058->1723->1725->1724->329->781->782->783->1346->1347->2610->2609->2608->1347->1345->783->329->328->341->342->1814->1815->1813->342->340->446->598->600->599->446->445->447->340->328->1092->1091->1957->1958->1959->1091->1307->1969->1970->2066->2375->2374->2376->2066->2067->2819->2820->2818->2067->2065->2127->2877->2875->2876->2127->2125->2126->2065->1970->1971->1307->1306->1308->1091->1520->1519->1521->1091->1090->328->330->1059->1058->1057->330->26->27->64->65->1858->1859->1860->65->66->2097->2096->2095->66->133->393->1665->1663->1664->1734->1733->1732->1765->1767->1766->1732->1664->393->392->391->133->134->410->1877->1930->1932->1931->1877->1876->1878->410->585->584->583->410->1771->1773->2265->2587->2589->2588->2265->2264->2263->1773->1862->1863->1861->1773->1772->1903->1904->1905->1772->410->676->678->677->410->427->1159->1161->1160->427->428->518->517->519->1239->1238->1237->519->428->777->1972->2654->2653->2655->1972->1974->2034->2889->2887->2888->2034->2032->2033->1974->1973->777->775->776->428->429->410->409->588->586->587->1371->1370->1369->587->409->1585->1586->1587->409->411->134->146->241->499->500->886->887->888->500->501->241->242->1566->1565->1564->242->243->1961->1962->1960->243->146->145->323->324->1259->1258->1260->324->1555->1556->1557->324->909->907->908->324->322->145->1660->1662->1661->145->147->134->135->2825->2826->2824->135->66->27->52->84->263->262->980->979->981->262->1901->1900->2380->2453->2452->2454->2997->2996->2995->2454->2380->2381->2382->1900->1902->262->264->1293->2837->2838->2836->1293->1291->1292->264->303->301->2940->2939->2938->301->1952->2197->2198->2199->1952->1951->1953->301->302->264->84->475->2194->2195->2196->475->476->1537->1538->1539->476->477->1601->2733->2732->2731->1601->1602->1600->477->84->83->82->259->261->452->451->685->686->687->451->453->874->875->876->1359->1358->1666->1668->1667->1358->1357->876->453->2547->2546->2545->453->261->260->82->52->54->293->292->294->2514->2512->2513->294->2897->2896->2898->294->1048->1049->1072->1073->1074->1999->2001->2000->1074->1049->1050->294->54->53->382->383->2954->2953->2955->383->384->1273->1275->1274->384->53->27->454->568->1655->2397->2395->2396->1655->1654->1656->568->570->569->885->884->2690->2691->2689->884->883->569->454->456->1552->1554->1553->456->455->27->0->1->8->1031->1447->1449->2423->2424->2422->1449->1448->1031->1032->2254->2256->2255->1032->1030->8->771->1721->1722->1720->771->769->1029->1027->1028->769->770->2461->2635->2637->2636->2461->2463->2462->770->8->194->941->942->940->194->195->193->1605->1603->2716->2717->2718->1603->1604->193->8->9->183->181->1435->1875->1874->1873->1435->1437->2170->2338->2340->2339->2170->2171->2172->2603->2604->2602->2172->1437->1436->2329->2330->2331->1436->181->466->766->767->768->466->1440->1438->1439->466->467->788->1227->1225->1226->788->789->2313->2312->2311->789->787->467->468->181->182->9->222->2031->2029->2030->222->220->221->969->968->2399->2951->2950->2952->2399->2400->2398->968->967->221->700->1784->1783->1785->700->836->2750->2749->2751->836->2314->2578->2579->2580->2314->2316->2315->836->835->2773->2775->2774->835->837->700->701->1718->1717->1719->701->702->221->9->7->32->2802->2800->2801->32->156->332->333->331->156->2553->2551->2552->156->154->155->646->2821->2822->2823->646->648->647->155->32->31->670->671->672->2005->2006->2007->2904->2902->2903->2937->2936->2935->2903->2007->672->31->2572->2574->2573->31->33->780->779->2332->2334->2333->779->778->2590->2591->2592->778->33->7->1->39->38->325->327->878->879->877->1268->1267->2882->2883->2881->1267->1269->1281->1279->1280->2415->2414->2413->1280->1269->877->327->326->38->37->1802->2455->2457->2456->1802->1803->1801->37->89->88->90->125->929->928->1321->1323->2683->2684->2685->1323->1322->928->930->125->126->234->232->233->463->1106->1350->1349->2392->2393->2394->1349->1348->1106->2508->2506->2507->1106->1976->1975->1977->1106->1105->1107->1782->1780->2286->2285->2359->2361->2973->2971->2972->2361->2360->2285->2284->1780->1781->1107->463->465->2778->2777->2776->465->2494->2495->2496->465->464->233->236->596->595->597->236->961->963->962->236->666->665->664->1250->1251->1249->664->2907->2906->2905->664->236->235->237->404->405->2498->2497->2499->405->403->237->233->126->124->2632->2633->2634->124->542->541->673->1099->1101->1100->673->2223->2566->2567->2612->2611->2613->2567->2568->2223->2221->2222->673->674->675->541->549->813->811->812->815->816->814->1472->1471->1473->814->812->549->547->657->656->976->977->1459->1461->1460->977->978->656->2136->2135->2134->656->655->547->2129->2130->2128->2871->2869->2870->2128->547->851->1907->1906->1908->851->852->2259->2550->2549->2548->2259->2257->2258->852->850->547->1145->1146->1144->2141->2142->2140->1144->547->548->1017->1016->1015->548->833->853->855->1940->2803->2804->2805->1940->1941->1939->855->854->833->834->832->1524->1523->1522->832->548->541->543->895->1506->1505->2022->2020->2021->1505->1504->895->897->896->543->1887->1886->1885->543->124->90->37->759->865->867->866->2217->2216->2215->866->759->758->757->2063->2064->2062->757->805->807->806->757->37->1->92->91->93->1->41->44->58->2370->2368->2369->58->59->1880->1879->1881->59->60->2714->2715->2713->60->44->45->132->319->320->321->132->130->444->443->2180->2179->2181->443->1121->1120->1122->2218->2219->2220->1122->2275->2785->2787->2786->2275->2276->2277->1122->443->442->2118->2116->2117->442->130->131->45->228->804->1256->1255->1395->1394->1393->1255->1257->804->802->803->228->363->1425->1423->1424->2797->2798->2799->1424->363->362->361->228->227->1247->1640->2791->2792->2793->1640->1639->1641->1247->1246->1248->227->226->45->43->289->304->305->306->289->290->291->546->545->1735->1736->1737->2734->2735->2736->1737->545->544->291->1789->1790->1791->2079->2808->2806->2807->2079->2078->2077->1791->291->43->100->1214->1271->1272->1705->1707->1706->1272->1888->1889->1890->1272->1270->1214->1213->1215->100->102->167->407->439->1166->1165->1167->1189->1191->1190->1167->439->1173->1172->1171->439->441->440->407->406->408->167->168->166->102->101->160->2224->2225->2226->160->161->2346->2527->2529->2528->2346->2344->2345->2509->2511->2510->2345->161->162->577->579->578->162->101->43->270->751->752->2885->2884->2886->752->1918->1920->1919->752->753->1441->1870->3000->2998->2999->1870->1871->2966->2965->2967->1871->1872->1441->1443->1442->753->270->268->269->43->41->1020->1018->2438->2437->2439->1018->1019->1709->1710->1708->1019->41->42->40->244->913->915->914->2681->2680->2682->914->244->245->2686->2687->2688->245->246->40->1200->2154->2153->2152->1200->1199->1198->1743->2703->2701->2702->1743->1741->1742->2927->2926->2928->1742->1198->2014->2016->2015->1198->40->1->2->70->198->720->1197->2501->2500->2502->1197->1195->1196->2815->2817->2816->1196->720->719->718->198->197->1989->1987->1988->197->1582->1630->1632->1631->1582->1584->1583->197->196->2099->2098->2100->196->996->995->994->1210->1211->1212->2856->2854->2855->1212->2480->2481->2479->1212->994->196->70->1175->2080->2082->2081->1175->1176->1174->70->1489->1490->1491->70->140->141->310->1530->1528->1529->310->514->515->516->310->311->2291->2292->2900->2899->2901->2292->2290->2721->2719->2720->2290->311->312->512->2460->2459->2458->512->683->684->1689->1688->1687->1841->1840->1842->1687->684->682->797->798->1129->1131->2206->2745->2743->2744->2206->2207->2208->1131->1130->2841->2839->2840->1130->798->1636->1638->1637->798->796->682->512->838->2741->2742->2740->838->1337->1336->1701->2987->2986->2988->1701->1699->1700->1336->1338->838->2844->2842->2843->838->839->2213->2212->2214->839->2037->2036->2035->839->840->512->513->819->2584->2585->2586->819->817->818->2327->2328->2326->818->513->1716->1715->1714->513->1228->1229->1230->2994->2993->2992->1230->513->511->312->141->139->70->71->72->425->424->426->72->370->1756->1757->2890->2891->2892->1757->1758->370->371->1065->1064->1063->371->372->481->1183->1993->1995->1994->1183->1185->1184->481->483->482->372->72->2417->2416->2418->72->2->86->280->336->1304->1303->1305->336->334->335->1111->1113->1112->1499->1512->1510->2959->2960->2961->1510->1511->1499->2362->2363->2364->1499->1498->1500->1588->1822->1823->1824->1588->1589->1950->1948->1949->2434->2435->2436->1949->1589->1590->2753->2754->2752->1590->1500->1112->335->280->281->2520->2519->2518->281->282->349->351->496->497->642->641->1462->2106->2348->2515->2516->2517->2348->2347->2349->2106->2105->2209->2211->2210->2105->2104->1462->1464->1947->1946->1945->1464->1463->641->861->860->927->925->926->1011->1010->1009->1514->1513->1515->1009->926->860->859->1485->1484->1483->2443->2445->2444->1483->859->641->1157->1929->1927->1928->1157->1156->1158->641->640->497->498->1429->1622->1623->1621->1429->1430->1431->498->1894->2694->2692->2693->1894->1896->1895->498->2809->2811->2810->498->351->350->282->86->87->85->2->550->551->668->669->2490->2489->2488->669->667->551->1216->1218->2467->2469->2468->1218->1217->551->552->2->3->34->601->603->1569->1568->1567->603->602->1866->1865->1864->602->34->35->67->69->581->611->1620->1619->1618->611->1433->1434->1432->611->1681->1682->1683->611->610->612->714->712->713->2917->2919->2918->713->612->581->580->2410->2412->2411->2648->2647->2649->2411->580->582->69->487->489->1266->1264->1265->489->1754->2274->2272->2273->1754->1753->1755->489->488->904->2780->2781->2779->904->906->905->1527->1526->1830->1829->1828->1526->1525->905->488->69->698->1543->1545->1544->698->697->699->69->68->35->533->567->982->1868->1867->1869->982->984->983->567->566->565->533->534->532->658->659->1062->2946->2945->2944->1062->1060->1061->1494->1492->1493->1061->659->660->532->35->36->3->10->150->1403->1402->2894->2895->2893->1402->1404->150->149->174->189->856->857->1509->1507->1508->857->858->189->1578->1577->2227->2228->2229->1577->1576->189->187->250->251->1155->1153->1154->251->252->187->188->618->637->901->902->903->637->999->2248->2249->2705->2706->2704->2249->2250->999->997->998->637->638->639->1779->1778->1777->639->618->616->617->188->265->1313->1314->1312->265->267->266->188->174->172->347->348->346->172->173->149->679->680->681->149->148->2446->2447->2448->148->10->14->15->55->112->114->1236->1235->2782->2783->2784->1235->1234->114->113->307->2122->2123->2124->2242->2243->2244->2124->307->606->692->1051->1053->1170->1168->1169->1922->1921->1923->1169->1053->1052->1915->1916->1917->1052->2270->2269->2491->2492->2493->2269->2271->1052->692->2019->2017->2018->692->693->691->1726->1968->1966->1967->2050->2052->2051->1967->1726->1727->2864->2865->2863->1727->1728->691->2252->2253->2251->2384->2383->2385->2251->691->2158->2159->2523->2522->2521->2159->2160->691->606->1089->2656->2658->2657->1089->1088->1087->606->604->619->620->1202->1384->1386->1385->1202->1203->1201->620->621->933->932->931->2144->2164->2166->2165->2144->2145->2143->931->621->604->605->1542->1541->1540->605->1535->1534->1536->605->307->309->308->113->55->56->953->1935->1933->1934->953->954->1126->1730->1731->1729->1126->1127->1128->954->952->56->355->1809->1808->1807->355->357->356->1426->1427->2293->2295->2294->1427->1428->356->56->57->15->2860->2861->2862->15->13->2880->2878->2879->13->315->1319->1320->1740->1739->1738->1320->1318->1659->1658->1657->1965->1963->2091->2089->2090->1963->1964->1657->1318->315->314->313->399->398->397->636->635->745->746->747->635->634->1095->1094->1093->1992->1991->1990->1093->2009->2010->2008->2083->2084->2085->2008->1093->634->397->2039->2040->2038->397->313->13->10->50->430->1301->1302->1909->1911->1910->1302->2486->2485->2487->1302->1300->430->431->2421->2420->2419->431->432->50->2621->2620->2622->50->51->536->537->535->2232->2230->2231->535->51->49->10->29->225->2924->2923->2925->225->2679->2677->2678->225->224->223->2766->2764->2765->223->29->30->316->1047->1046->2978->2977->2979->1046->1277->1276->1278->1046->1045->316->318->1409->2355->2354->2353->1409->1410->1408->318->317->30->1207->1209->1208->30->28->1446->2831->2830->2832->1446->1444->1445->1478->1477->1479->1445->28->10->11->16->2625->2623->2624->16->626->627->625->16->18->22->24->1339->1340->1341->24->23->152->2403->2401->2402->152->153->1150->1891->1892->1893->1150->1151->1241->1240->1242->2321->2322->2320->1242->1151->1413->1412->1411->1151->1152->153->151->199->201->298->755->754->756->2640->2639->2638->756->298->385->490->492->491->385->2536->2537->2538->385->387->436->437->438->387 22028\n"
          ],
          "name": "stdout"
        }
      ]
    },
    {
      "cell_type": "markdown",
      "metadata": {
        "id": "XyH8QzREaWP7"
      },
      "source": [
        "## 1.2.2 Eulerian path problem \n",
        "\n",
        "Input: The adjacency list of a directed graph that has an Eulerian path.\n",
        "\n",
        "Output: An Eulerian path in this graph."
      ]
    },
    {
      "cell_type": "code",
      "metadata": {
        "colab": {
          "base_uri": "https://localhost:8080/"
        },
        "id": "31pBV4mMarLq",
        "outputId": "7a496440-cac3-4036-fd49-a1ded2a3704f"
      },
      "source": [
        "st = ['0 -> 2',\n",
        "'1 -> 3',\n",
        "'2 -> 1',\n",
        "'3 -> 0,4',\n",
        "'6 -> 3,7',\n",
        "'7 -> 8',\n",
        "'8 -> 9',\n",
        "'9 -> 6']\n",
        "\n",
        "edges = StrPathToDict(st)\n",
        "edges"
      ],
      "execution_count": 81,
      "outputs": [
        {
          "output_type": "execute_result",
          "data": {
            "text/plain": [
              "{0: [2], 1: [3], 2: [1], 3: [0, 4], 6: [3, 7], 7: [8], 8: [9], 9: [6]}"
            ]
          },
          "metadata": {
            "tags": []
          },
          "execution_count": 81
        }
      ]
    },
    {
      "cell_type": "code",
      "metadata": {
        "colab": {
          "base_uri": "https://localhost:8080/"
        },
        "id": "3fum4k_bdixw",
        "outputId": "6ca304f2-d7c8-4238-dc08-5b36aa9d4684"
      },
      "source": [
        "edges = StrPathToDict(st)\n",
        "out_node, in_node = GetUnbalancedNodes(edges)\n",
        "edges[out_node] = [in_node]\n",
        "edges"
      ],
      "execution_count": 82,
      "outputs": [
        {
          "output_type": "execute_result",
          "data": {
            "text/plain": [
              "{0: [2], 1: [3], 2: [1], 3: [0, 4], 4: [6], 6: [3, 7], 7: [8], 8: [9], 9: [6]}"
            ]
          },
          "metadata": {
            "tags": []
          },
          "execution_count": 82
        }
      ]
    },
    {
      "cell_type": "code",
      "metadata": {
        "colab": {
          "base_uri": "https://localhost:8080/"
        },
        "id": "MV5zm_EptaQK",
        "outputId": "9090db62-f0aa-4d62-fc9a-8198d1514b5c"
      },
      "source": [
        "GetUnbalancedNodes(edges)"
      ],
      "execution_count": 83,
      "outputs": [
        {
          "output_type": "execute_result",
          "data": {
            "text/plain": [
              "([], [])"
            ]
          },
          "metadata": {
            "tags": []
          },
          "execution_count": 83
        }
      ]
    },
    {
      "cell_type": "code",
      "metadata": {
        "id": "gtgSGWTFHDYw"
      },
      "source": [
        "# CURRENT \n",
        "\n",
        "def GetUnbalancedNodes(edges):\n",
        "  outs = set(edges.keys())\n",
        "  ins = set( sum(edges.values(), [])) \n",
        "  nodes = outs.union(ins)\n",
        "\n",
        "  d_in = {key:0 for key in nodes}  \n",
        "\n",
        "  for values in edges.values():\n",
        "    if len(values) == 1:\n",
        "      d_in[values[0]] = d_in[values[0]] + 1 \n",
        "    else:\n",
        "      for val in values:\n",
        "        d_in[val] = d_in[val] + 1\n",
        "\n",
        "  d_out = {key:0 for key in nodes}\n",
        "  for out_edge, values in edges.items():\n",
        "    d_out[out_edge] = len(values)\n",
        "  # print('out', d_out)\n",
        "  # print('ins', d_in)\n",
        "\n",
        "  #unbalanced \n",
        "  out_node = []\n",
        "  in_node = []\n",
        "  for node in nodes:\n",
        "    if d_in[node] >  d_out[node]:\n",
        "      out_node = node\n",
        "    elif d_in[node] <  d_out[node]:\n",
        "      in_node  = node   \n",
        "\n",
        "  return out_node, in_node\n",
        "\n",
        "def StrPathToDict(graph):\n",
        "  d = dict()\n",
        "  for line in graph:\n",
        "    key = int(line.split('->')[0].split(' ')[0])\n",
        "    value = line.split('->')[1].split(' ')[1]\n",
        "    if ',' in value:\n",
        "      v = value.split(',')\n",
        "      d[key] = ([int(el) for el in v])\n",
        "    else:\n",
        "      d[key] = [(int(value))]\n",
        "  return d\n",
        "\n",
        "def StrPathToDict(graph):\n",
        "  d = dict()\n",
        "  for line in graph:\n",
        "    key = int(line.split('->')[0].split(' ')[0])\n",
        "    value = line.split('->')[1].split(' ')[1]\n",
        "    if ',' in value:\n",
        "      v = value.split(',')\n",
        "      d[key] = ([int(el) for el in v])\n",
        "    else:\n",
        "      d[key] = [(int(value))]\n",
        "  return d\n",
        "\n",
        "def CountIndegrees(d):\n",
        "  d = StrPathToDict(graph)\n",
        "  remNodes = np.zeros(len(d))\n",
        "  for i, values in enumerate(d.values()):\n",
        "    for value in values:\n",
        "      remNodes[i] = remNodes[i] + 1\n",
        "  return remNodes\n",
        "\n",
        "def DeleteEdge(d, d1, d2):\n",
        "  # deletes edge d1->d2 from the dictionary d \n",
        "  if len(d[d1]) > 1:\n",
        "    lst = d[d1].copy()\n",
        "    lst.remove(d2)\n",
        "    d[d1] = lst.copy()\n",
        "  elif len(d[d1]) == 1:\n",
        "    del d[d1]\n",
        "\n",
        "  return d \n",
        "\n",
        "\n",
        "def TraverseCycle(cycle, remainingEdges):\n",
        "  nodesWithAvailableEdges = [node for node in cycle if node in list(remainingEdges.keys())]\n",
        "  randomNode = random.choice(nodesWithAvailableEdges)\n",
        "\n",
        "  idx = cycle.index(randomNode)\n",
        "  cycle = cycle[idx:] + cycle[1:idx+1]\n",
        "\n",
        "  return cycle\n",
        "\n",
        "def GetNextRandomNode(prevNode, remainingEdges):    \n",
        "  nextNode = random.choice([int(t) for t in remainingEdges[prevNode]])\n",
        "  return nextNode\n",
        "\n",
        "def GetNextNodeWithAvailableIndegrees(prevNode, remainingEdges):\n",
        "  return nextNode\n",
        "\n",
        "def MakeRandomCycle(edges, remainingEdges, startNode):\n",
        "  rCycle = []\n",
        "  rCycle.append(startNode)\n",
        "  \n",
        "  prevNode = startNode\n",
        "\n",
        "  while prevNode in remainingEdges.keys():\n",
        "\n",
        "    nextNode = GetNextRandomNode(prevNode, remainingEdges)\n",
        "  \n",
        "    #updating the data structures\n",
        "    DeleteEdge(remainingEdges, prevNode, nextNode) \n",
        "    rCycle.append(nextNode)\n",
        "    prevNode = nextNode\n",
        "\n",
        "  return rCycle \n",
        "\n",
        "def EulerianPath(edges):\n",
        "\n",
        "  # main data structures\n",
        "  targetCycleLen = sum(CountIndegrees(edges)) + 1\n",
        "  remainingEdges = edges.copy()\n",
        "  dictIndegrees = {k:v for  k, v in zip(edges.keys(), CountIndegrees(edges))}\n",
        "\n",
        "  #starting definitions\n",
        "  startNode = random.choice(list(dictIndegrees.keys()))\n",
        "  cycle = MakeRandomCycle(edges, remainingEdges, startNode)\n",
        "\n",
        "  while (len(cycle) != targetCycleLen) and (remainingEdges != {}):\n",
        "    \n",
        "    traversedCycle = TraverseCycle(cycle, remainingEdges)\n",
        "    cycle_ = MakeRandomCycle(edges, remainingEdges, traversedCycle[0])\n",
        "    cycle = traversedCycle[:-1] + cycle_\n",
        "\n",
        "\n",
        "  return cycle\n",
        "\n",
        "def PrintEulerianPath(graph):\n",
        "  edges = StrPathToDict(graph)\n",
        "  out_node, in_node = GetUnbalancedNodes(edges)\n",
        "\n",
        "  if out_node in edges.keys():\n",
        "    edges[out_node].append(in_node)\n",
        "  else:\n",
        "    edges[out_node] = [in_node]\n",
        "\n",
        "  start_node = in_node\n",
        "  end_node = out_node\n",
        "  print('start_node:', start_node)\n",
        "  print('end_node:', end_node)\n",
        "\n",
        "  cyc = EulerianPath(edges)\n",
        "\n",
        "  # Transforming the cycle to start and end in the correct place\n",
        "\n",
        "  cyc.pop(-1)\n",
        "  if (cyc[0] !=start_node) and (cyc[-1] != end_node): \n",
        "    if (cyc[0] ==end_node) and (cyc[-1] == start_node):\n",
        "      cyc = list(cyc[-1]) + list(cyc[1:-1]) + list(cyc[0])\n",
        "    else:\n",
        "      idx = [k for k,v in enumerate(cyc) if (cyc[k]==end_node) and (cyc[k+1] == start_node)][0]\n",
        "      print(idx, len(cyc))\n",
        "      cyc = list(cyc[idx+1:]) + list(cyc[:idx+1])\n",
        "        \n",
        "  s = ''\n",
        "  for node in cyc:\n",
        "    s = s + '->' + str(node)\n",
        "\n",
        "  return cyc, s[2:]"
      ],
      "execution_count": 147,
      "outputs": []
    },
    {
      "cell_type": "code",
      "metadata": {
        "colab": {
          "base_uri": "https://localhost:8080/"
        },
        "id": "HGRowyQpz5qU",
        "outputId": "4bd055ac-9a31-49e6-a863-89ac5c15448a"
      },
      "source": [
        "s = [0,1,2,3,4,5]\n",
        "i = 3\n",
        "s[:3+1]"
      ],
      "execution_count": 92,
      "outputs": [
        {
          "output_type": "execute_result",
          "data": {
            "text/plain": [
              "[0, 1, 2, 3]"
            ]
          },
          "metadata": {
            "tags": []
          },
          "execution_count": 92
        }
      ]
    },
    {
      "cell_type": "code",
      "metadata": {
        "id": "iVfb7AmzWAEw"
      },
      "source": [
        "cyc = [1, 2, 3, 4, 1, 5, 0, 1]\n",
        "\n",
        "i=0\n",
        "# out -> in \n",
        "#\n",
        "while (cyc[i]!=out_node) and (cyc[i+1]!=in_node):\n",
        "  i = i+1\n",
        "print('i',i)\n",
        "cyc = cyc[idx+1:] + cyc[:idx+1]"
      ],
      "execution_count": null,
      "outputs": []
    },
    {
      "cell_type": "markdown",
      "metadata": {
        "id": "7IPctLkzAiE2"
      },
      "source": [
        "### Test dataset"
      ]
    },
    {
      "cell_type": "code",
      "metadata": {
        "colab": {
          "base_uri": "https://localhost:8080/"
        },
        "id": "NYrEXXcx_Dzs",
        "outputId": "790ad9cf-abad-477f-9dac-01449191cb6d"
      },
      "source": [
        " for i in range(1,6):\n",
        "  print('^^^^',i)\n",
        "  url = '/content/drive/MyDrive/Colab Notebooks/Bionformatics-coursera-sandiego/EulerianPath'\n",
        "  fpath_input = url + '/inputs/test'+str(i)+'.txt'\n",
        "  fpath_output = url + '/outputs/test'+str(i)+'.txt'\n",
        "\n",
        "  with open(fpath_input) as f:\n",
        "    graph = f.readlines()\n",
        "  graph = [g.split('\\n')[0] for g in graph]\n",
        "\n",
        "  cyc, c1 = PrintEulerianPath(graph)\n",
        "  print(c1)\n",
        "\n",
        "  with open(fpath_output) as f:\n",
        "    outp = f.readlines()\n",
        "  outp = [g.split('\\n')[0] for g in outp]\n",
        "  print(outp[0])\n"
      ],
      "execution_count": 138,
      "outputs": [
        {
          "output_type": "stream",
          "text": [
            "^^^^ 1\n",
            "start_node  0\n",
            "end_node 3\n",
            "1 4\n",
            "0->1->2->3\n",
            "0->1->2->3\n",
            "^^^^ 2\n",
            "start_node  0\n",
            "end_node 5\n",
            "5 7\n",
            "0->1->2->3->4->1->5\n",
            "0->1->2->3->4->1->5\n",
            "^^^^ 3\n",
            "start_node  2\n",
            "end_node 0\n",
            "7 9\n",
            "2->1->4->1->3->4->3->1->0\n",
            "2->1->3->1->4->3->4->1->0\n",
            "^^^^ 4\n",
            "start_node  0\n",
            "end_node 17\n",
            "5 11\n",
            "0->1->14->4->5->14->3->14->2->1->17\n",
            "0->1->14->3->14->4->5->14->2->1->17\n",
            "^^^^ 5\n",
            "start_node  1\n",
            "end_node 2\n",
            "1 10\n",
            "1->0->1->2->3->4->2->5->6->2\n",
            "1->0->1->2->3->4->2->5->6->2\n"
          ],
          "name": "stdout"
        }
      ]
    },
    {
      "cell_type": "code",
      "metadata": {
        "id": "WW9wZ1-pV1Kl"
      },
      "source": [
        ""
      ],
      "execution_count": null,
      "outputs": []
    },
    {
      "cell_type": "code",
      "metadata": {
        "id": "-So1wWtmV1GY"
      },
      "source": [
        ""
      ],
      "execution_count": null,
      "outputs": []
    },
    {
      "cell_type": "code",
      "metadata": {
        "colab": {
          "base_uri": "https://localhost:8080/"
        },
        "id": "_Po7XeF5AngE",
        "outputId": "8d4adbce-e46e-4b36-d4f9-eeb5d2a2de26"
      },
      "source": [
        "with open(fpath_input) as f:\n",
        "  graph = f.readlines()\n",
        "graph = [g.split('\\n')[0] for g in graph]\n",
        "graph"
      ],
      "execution_count": 237,
      "outputs": [
        {
          "output_type": "execute_result",
          "data": {
            "text/plain": [
              "['0 -> 1', '1 -> 2,5', '2 -> 3', '3 -> 4', '4 -> 1']"
            ]
          },
          "metadata": {
            "tags": []
          },
          "execution_count": 237
        }
      ]
    },
    {
      "cell_type": "code",
      "metadata": {
        "colab": {
          "base_uri": "https://localhost:8080/",
          "height": 35
        },
        "id": "BQdjgZS_AsGy",
        "outputId": "88ad8f90-3734-4299-d2e9-7223a8a46977"
      },
      "source": [
        "PrintEulerianPath(graph)"
      ],
      "execution_count": 238,
      "outputs": [
        {
          "output_type": "execute_result",
          "data": {
            "application/vnd.google.colaboratory.intrinsic+json": {
              "type": "string"
            },
            "text/plain": [
              "'1->2->3->4->1->5->0'"
            ]
          },
          "metadata": {
            "tags": []
          },
          "execution_count": 238
        }
      ]
    },
    {
      "cell_type": "code",
      "metadata": {
        "colab": {
          "base_uri": "https://localhost:8080/"
        },
        "id": "796KlmhRP8HU",
        "outputId": "49f5168b-6ed1-4357-900a-e97c527449de"
      },
      "source": [
        "with open(fpath_output) as f:\n",
        "  outp = f.readlines()\n",
        "outp = [g.split('\\n')[0] for g in outp]\n",
        "print(outp[0])"
      ],
      "execution_count": 231,
      "outputs": [
        {
          "output_type": "stream",
          "text": [
            "0->1->2->3->4->1->5\n"
          ],
          "name": "stdout"
        }
      ]
    },
    {
      "cell_type": "code",
      "metadata": {
        "colab": {
          "base_uri": "https://localhost:8080/"
        },
        "id": "5FUInYsOaFLm",
        "outputId": "dea1cd63-266e-48df-d313-c5ce50fa4237"
      },
      "source": [
        "c1, check = PrintEulerianPath(graph)\n",
        "c2 = outp[0]\n",
        "def CheckIfCyclesEqual(c1, c2):\n",
        "  \n",
        "  cc1 = c1.split('->')\n",
        "  cc2 = c2.split('->')\n",
        "\n",
        "  s1 = set()\n",
        "  s2 = set()\n",
        "  for i, el in enumerate(cc1[:-1]):\n",
        "    s1.add(str(el)+str(cc1[i+1]))\n",
        "  s1.add(str(cc1[-1])+str(cc1[0]))\n",
        "\n",
        "  for i, el in enumerate(cc2[:-1]):\n",
        "    s2.add(str(el)+str(cc2[i+1]))\n",
        "  s2.add(str(cc2[-1])+str(cc2[0]))\n",
        "\n",
        "  return print(s1==s2)\n",
        "\n",
        "CheckIfCyclesEqual(c1, c2)"
      ],
      "execution_count": 249,
      "outputs": [
        {
          "output_type": "stream",
          "text": [
            "True\n"
          ],
          "name": "stdout"
        }
      ]
    },
    {
      "cell_type": "markdown",
      "metadata": {
        "id": "eZwprl0B_LrF"
      },
      "source": [
        "### Stepik submission"
      ]
    },
    {
      "cell_type": "code",
      "metadata": {
        "colab": {
          "resources": {
            "http://localhost:8080/nbextensions/google.colab/files.js": {
              "data": "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",
              "ok": true,
              "headers": [
                [
                  "content-type",
                  "application/javascript"
                ]
              ],
              "status": 200,
              "status_text": ""
            }
          },
          "base_uri": "https://localhost:8080/",
          "height": 89
        },
        "id": "qOlxjEGe_M9q",
        "outputId": "4357992d-9ddb-43fc-d4c7-45305e6ee5de"
      },
      "source": [
        "uploaded = files.upload()\n",
        "\n",
        "for fn in uploaded.keys():\n",
        "  print('User uploaded file \"{name}\" with length {length} bytes'.format(\n",
        "      name=fn, length=len(uploaded[fn])))"
      ],
      "execution_count": 129,
      "outputs": [
        {
          "output_type": "display_data",
          "data": {
            "text/html": [
              "\n",
              "     <input type=\"file\" id=\"files-df592e80-915e-4559-a9cf-313c047c7a2d\" name=\"files[]\" multiple disabled\n",
              "        style=\"border:none\" />\n",
              "     <output id=\"result-df592e80-915e-4559-a9cf-313c047c7a2d\">\n",
              "      Upload widget is only available when the cell has been executed in the\n",
              "      current browser session. Please rerun this cell to enable.\n",
              "      </output>\n",
              "      <script src=\"/nbextensions/google.colab/files.js\"></script> "
            ],
            "text/plain": [
              "<IPython.core.display.HTML object>"
            ]
          },
          "metadata": {
            "tags": []
          }
        },
        {
          "output_type": "stream",
          "text": [
            "Saving dataset_203_6-7.txt to dataset_203_6-7.txt\n",
            "User uploaded file \"dataset_203_6-7.txt\" with length 37988 bytes\n"
          ],
          "name": "stdout"
        }
      ]
    },
    {
      "cell_type": "code",
      "metadata": {
        "id": "ZVMrsDVy_OzD"
      },
      "source": [
        "with open(fn) as f:\n",
        "  graph = f.readlines()\n",
        "graph = [g.split('\\n')[0] for g in graph]"
      ],
      "execution_count": 130,
      "outputs": []
    },
    {
      "cell_type": "code",
      "metadata": {
        "colab": {
          "base_uri": "https://localhost:8080/"
        },
        "id": "2XoX1e_8_Sfa",
        "outputId": "92f66b68-e172-4cc2-fc92-ec639c6e1b00"
      },
      "source": [
        "graph[:10]"
      ],
      "execution_count": 131,
      "outputs": [
        {
          "output_type": "execute_result",
          "data": {
            "text/plain": [
              "['0 -> 3',\n",
              " '1 -> 0,2299,33,41,5,86',\n",
              " '10 -> 1144,3',\n",
              " '100 -> 99',\n",
              " '1000 -> 1002',\n",
              " '1001 -> 1000',\n",
              " '1002 -> 285',\n",
              " '1003 -> 603',\n",
              " '1004 -> 1003',\n",
              " '1005 -> 1004,1258']"
            ]
          },
          "metadata": {
            "tags": []
          },
          "execution_count": 131
        }
      ]
    },
    {
      "cell_type": "code",
      "metadata": {
        "colab": {
          "base_uri": "https://localhost:8080/"
        },
        "id": "yS3_EHyX_Tsh",
        "outputId": "561f9997-e217-4adf-9853-7c2fc78d4144"
      },
      "source": [
        "cyc, st = PrintEulerianPath(graph)"
      ],
      "execution_count": 132,
      "outputs": [
        {
          "output_type": "stream",
          "text": [
            "start_node  151\n",
            "end_node 2642\n",
            "1609 3731\n"
          ],
          "name": "stdout"
        }
      ]
    },
    {
      "cell_type": "code",
      "metadata": {
        "colab": {
          "base_uri": "https://localhost:8080/"
        },
        "id": "C5Tygk1h1QYP",
        "outputId": "76a3139b-9c7d-4268-d91d-06ae92806106"
      },
      "source": [
        "cyc[0], cyc[-1]"
      ],
      "execution_count": 133,
      "outputs": [
        {
          "output_type": "execute_result",
          "data": {
            "text/plain": [
              "(151, 2642)"
            ]
          },
          "metadata": {
            "tags": []
          },
          "execution_count": 133
        }
      ]
    },
    {
      "cell_type": "code",
      "metadata": {
        "colab": {
          "base_uri": "https://localhost:8080/",
          "height": 171
        },
        "id": "ShrLNv_-Kp6C",
        "outputId": "4289af43-e695-431c-80fa-4fecbeee0caa"
      },
      "source": [
        "st"
      ],
      "execution_count": 134,
      "outputs": [
        {
          "output_type": "execute_result",
          "data": {
            "application/vnd.google.colaboratory.intrinsic+json": {
              "type": "string"
            },
            "text/plain": [
              "'151->152->153->657->655->656->1506->1504->1505->656->1357->1359->2714->2713->2715->1359->1358->656->1149->1148->1147->656->153->415->416->2723->2722->2724->416->417->153->1910->1911->1909->153->127->148->149->1966->2611->2613->2612->1966->1967->1968->149->150->460->1093->1094->1095->460->2790->2788->2789->460->462->461->150->127->129->726->773->772->774->726->724->1691->1690->1692->724->725->129->1614->1612->1613->129->128->406->1199->1200->1198->406->838->840->1473->1471->1472->840->839->2471->2472->2470->839->406->408->407->1063->1064->1065->2538->2536->2537->1065->407->128->75->52->54->210->208->209->223->225->224->209->1041->1039->2534->2535->2533->1039->1040->209->54->767->766->768->54->41->57->2665->2666->2667->57->596->789->2201->2202->2200->789->1547->1548->1546->789->788->1666->1667->1668->788->787->1748->1749->1747->787->596->2273->2272->2274->596->595->597->57->1432->1434->1433->57->55->375->702->701->700->375->1369->1370->1371->375->374->373->2652->2651->2650->373->55->2257->2258->2259->55->56->41->1677->1675->1676->41->40->819->996->995->994->1249->1250->1251->1756->2328->2326->2327->1756->1758->1757->1251->994->819->818->817->40->42->211->1885->1887->1886->211->213->212->42->1->0->3->15->1343->1344->1342->15->13->771->1589->1590->1588->771->1593->1591->1592->771->2166->2164->2165->771->769->1999->2000->2001->769->2079->2237->2236->2238->2079->2078->2077->769->770->13->22->24->26->476->475->477->26->27->496->498->1302->1301->1325->1324->1326->1558->1560->1559->1326->1301->1300->498->497->1644->1642->1643->497->27->1278->1276->1277->27->237->2462->2463->2461->237->236->235->27->384->383->382->27->25->24->543->541->542->24->23->50->859->860->861->966->965->964->861->50->49->51->23->2343->2341->2342->23->13->14->944->943->945->1376->1377->1375->945->14->3->11->29->99->102->101->227->575->2184->2183->2182->575->574->1608->1900->1902->2645->2646->2644->1902->1901->1608->1606->1607->2741->2740->2742->1607->574->576->227->228->242->1627->2141->2142->2140->2588->2589->2587->2140->1627->1629->1628->242->243->241->228->226->101->100->99->279->2412->2532->2530->2531->2412->2411->2410->279->278->674->675->1054->1056->1055->675->673->1019->1018->1020->673->278->277->428->429->2625->2624->2623->429->427->277->99->97->98->218->432->456->2574->2572->2573->456->455->454->2108->2107->2109->454->1047->2416->2417->2418->2695->2697->2696->2418->1047->1045->1046->2782->2783->2784->1046->454->2437->2439->2438->454->432->430->967->969->968->430->431->218->217->238->240->395->921->919->960->958->959->2712->2710->2711->959->919->920->2493->2492->2491->920->395->1542->1541->1540->395->394->719->976->978->2242->2244->2243->978->977->719->875->874->876->719->718->955->956->1555->1995->1994->1993->1555->1556->1557->956->957->718->720->394->396->240->692->691->693->240->239->217->219->2689->2690->2691->219->98->29->266->265->267->1211->1630->1632->1631->1211->1212->1210->267->29->28->182->181->205->509->1884->1882->2739->2738->2737->1882->1883->509->508->1014->1013->1012->2432->2433->2431->1012->508->510->205->392->545->544->546->392->393->1986->1984->1985->393->391->1513->1515->1514->391->205->206->469->486->484->485->469->1167->1166->1165->469->470->471->934->935->936->471->206->207->181->1600->1601->1602->181->183->189->1192->1194->1914->1913->2256->2254->2255->1913->2529->2527->2528->1913->1912->1194->1415->1416->1414->1194->1193->189->188->1237->1238->1239->188->2049->2047->2064->2063->2062->2047->2048->188->187->1236->1235->1916->1917->1915->1235->2548->2549->2550->1235->1234->187->183->28->30->1180->1182->1181->2248->2250->2249->1181->30->598->599->2112->2110->2111->599->600->1123->1125->1124->2028->2027->2746->2747->2748->2027->2026->1124->2308->2309->2310->1124->600->1191->1190->1189->600->30->11->12->17->220->221->2354->2355->2353->221->222->1946->1945->1947->222->1252->1254->1253->222->17->18->442->1817->1816->1818->442->443->444->18->264->871->873->872->908->1536->1534->1535->908->909->907->872->264->263->262->18->2056->2153->2517->2516->2515->2153->2154->2152->2762->2763->2761->2152->2056->2058->2057->18->16->1398->1396->1397->1696->1698->1697->1397->16->133->135->1348->2596->2597->2598->1348->1350->2525->2524->2526->2703->2706->2705->2704->2703->2702->2701->2526->1350->1349->2520->2518->2519->1349->135->134->16->12->20->933->1048->1050->1049->2640->2639->2638->1049->933->931->932->1684->1686->1685->932->20->593->592->594->763->764->1597->1598->1599->764->765->594->20->19->21->260->318->672->670->2379->2378->2377->670->671->1595->1594->1596->671->318->317->489->487->1550->1551->1549->487->488->317->316->1977->1976->1975->316->745->747->746->316->1156->1157->1158->316->468->1581->1579->1580->468->466->467->1843->1844->1845->467->2620->2622->2621->467->316->260->261->1711->1824->2067->2065->2066->1824->1823->1822->1711->1713->1712->261->259->21->12->338->339->337->786->1896->1894->1895->786->784->785->337->12->10->1144->1145->1146->10->3->8->89->105->104->252->482->483->481->252->251->250->514->515->516->250->104->103->89->90->303->302->703->705->704->302->301->90->1294->1296->1295->90->88->712->714->713->2192->2191->2193->713->88->1672->1673->1674->1907->1908->1906->1674->88->8->7->48->46->72->80->81->472->474->473->852->850->851->473->813->2298->2296->2297->813->812->811->970->971->972->2053->2054->2055->972->811->473->81->630->1360->2215->2217->2216->1360->1362->1361->630->1694->1693->2397->2395->2396->1693->1695->630->628->629->640->2205->2204->2203->640->661->663->776->777->2716->2718->2717->777->775->1568->1567->1569->2134->2552->2551->2553->2134->2135->2136->1569->1721->1720->1722->1569->775->663->829->830->831->2579->2580->2578->831->663->662->640->642->903->902->901->1852->1854->1853->901->642->641->2253->2252->2251->641->629->81->79->2719->2721->2720->79->72->70->83->1022->1021->1168->1169->1657->1659->1828->1829->1830->1659->1658->1169->1170->1256->1255->1257->1170->1021->1023->83->84->2441->2440->2442->84->82->1356->1732->1794->1792->1793->1732->1734->1733->1356->1355->1354->82->70->71->46->989->1006->2072->2359->2360->2361->2375->2374->2376->2361->2072->2073->2071->1006->1008->1179->1177->1178->1421->1420->1422->1178->1008->1493->1492->1494->1646->2464->2465->2466->1646->1645->1647->1494->1008->1007->989->988->990->46->47->7->130->246->885->883->884->246->245->258->257->991->1074->1073->1072->1880->1879->1881->1072->991->993->1812->1811->1810->993->992->1113->1111->1112->2349->2348->2347->1112->992->257->256->245->244->783->781->782->244->130->131->132->368->1091->1520->1521->1563->1561->1562->1521->1519->1848->1846->1847->1519->1091->1090->1092->1497->1496->1495->1092->368->367->369->422->421->423->1222->2025->2023->2075->2074->2076->2023->2024->1222->1223->1224->423->369->132->7->298->299->300->7->9->3->2->38->39->1730->1729->1731->39->64->1044->2564->2563->2565->1044->1043->1042->64->65->271->273->1130->1129->1131->273->679->1537->1539->1538->679->680->681->2407->2408->2409->681->273->272->2176->2178->2177->2444->2688->2687->2686->2444->2445->2600->2634->2633->2632->2600->2601->2599->2445->2443->2177->272->65->172->174->231->401->400->2017->2019->2338->2339->2340->2019->2018->400->2031->2029->2271->2270->2269->2029->2030->400->402->231->230->1710->1708->1709->230->229->559->796->798->2357->2358->2356->798->797->2370->2368->2369->797->559->841->2591->2590->2592->841->843->1310->1311->1309->843->842->1765->1767->1766->842->559->560->1352->1785->1987->1989->1988->1785->2421->2419->2420->1785->1784->2287->2289->2288->1784->1783->1352->1545->1544->2756->2757->2755->1544->1543->1352->1353->1890->1889->1888->1353->1351->560->951->950->949->1108->2052->2050->2051->1108->1109->1110->949->560->561->1990->1992->1991->561->799->1402->1403->1404->799->801->800->2387->2386->2505->2504->2503->2386->2388->800->561->229->963->961->1621->1973->1972->1974->1621->1622->1741->1742->1743->1622->1623->2700->2698->2699->1623->961->962->1221->1219->1220->2293->2294->2295->1220->962->229->1067->1068->1066->229->174->173->281->280->282->173->65->113->1303->1305->1304->1755->1753->1754->1304->113->114->1151->1150->1152->114->112->2771->2770->2772->112->65->66->155->350->351->723->722->721->845->846->844->721->1619->1620->1618->721->351->349->155->154->531->529->530->154->156->66->39->37->313->2099->2595->2594->2593->2099->2098->2100->313->2186->2187->2185->313->2546->2547->2545->313->2101->2560->2561->2562->2101->2102->2103->2754->2753->2752->2103->313->315->1291->1293->1292->1770->1865->1866->1864->1770->1768->1769->1292->315->666->895->897->896->666->665->664->315->314->37->660->659->658->1174->1176->1175->1782->1781->1780->1175->658->37->107->911->912->2734->2736->2735->912->910->107->108->106->254->255->1469->1468->1470->255->253->106->37->2->441->439->440->1104->1102->1103->440->2->142->332->333->331->352->450->1626->1625->1624->450->449->448->512->511->825->1307->1306->1308->825->1159->1160->1161->825->824->823->1835->1834->1960->2118->2116->2117->1960->1962->1961->1834->1836->823->511->513->448->352->1264->1265->2092->2093->2094->1265->1266->2148->2146->2147->1266->352->354->353->331->2399->2398->2400->331->142->202->744->743->1132->1134->1133->2105->2104->2106->1133->743->742->202->204->924->2068->2477->2478->2476->2068->2069->2070->924->1431->2007->2005->2156->2157->2155->2005->2006->1431->1430->1429->2235->2233->2234->1429->1759->1761->1760->1429->924->922->923->1096->2659->2660->2661->1096->1097->1411->1412->1413->1097->1098->923->204->973->1656->1654->1655->973->975->974->204->203->142->1532->1533->1531->142->143->144->1746->1744->1745->144->2->1->33->165->164->717->2539->2541->2540->717->715->1172->1171->1173->1297->1299->2286->2284->2285->1299->1298->1173->715->716->164->2708->2707->2709->164->163->33->31->32->35->60->2394->2392->2393->60->58->63->1331->1330->1707->1705->1706->1330->1332->63->61->289->615->614->613->289->506->507->505->289->290->699->697->698->906->999->997->998->906->904->905->698->290->291->2511->2509->2510->291->61->109->868->1128->1126->1127->2605->2606->2607->1127->1267->1269->1268->1127->868->869->2150->2149->2151->869->1273->1274->2384->2383->2385->1274->1275->869->870->109->1898->2335->2337->2336->1898->1897->1899->109->480->479->2331->2330->2329->2490->2489->2488->2329->479->1099->1101->1100->479->478->109->111->1808->1807->2403->2402->2571->2570->2569->2402->2401->1807->2262->2260->2261->1807->1809->1927->1928->1929->1809->111->426->425->761->1204->1205->1206->761->762->760->425->424->1379->1380->1378->424->1087->1717->1718->1719->1087->1245->1243->1244->1087->1089->1088->424->899->1814->1813->1815->899->900->898->424->1142->1143->1141->1209->1855->1857->1856->1209->1207->1208->1141->424->111->110->2002->2004->2003->110->285->1001->1000->1002->285->283->328->682->2453->2454->2452->682->1565->1564->1566->682->684->683->328->330->329->758->780->778->779->758->2657->2656->2658->758->759->757->329->540->539->538->1081->1083->1819->1821->1820->1083->1082->538->329->283->284->390->389->388->1186->1188->1187->388->284->525->1058->1939->1940->1941->2246->2247->2245->1941->1058->1059->1057->525->523->1024->1025->1026->523->865->866->1891->1892->1893->866->867->523->524->1213->1215->1575->1574->1573->1215->1214->524->1477->1479->1478->524->284->110->158->929->928->930->158->159->312->696->695->694->312->310->578->577->579->1155->1283->2265->2263->2264->1283->1284->1282->1155->1153->1154->579->310->311->159->1806->2161->2163->2162->1806->1805->1804->159->157->447->2774->2773->2775->447->446->445->157->110->61->62->1439->1440->1438->2495->2494->2496->1438->62->58->59->414->412->495->493->653->652->654->493->494->1320->2282->2281->2283->1320->1319->1318->494->412->413->59->287->499->2730->2729->2728->499->501->1071->2506->2508->2507->1071->1069->1070->501->500->287->1229->1230->1228->287->288->686->687->1482->1480->2474->2473->2475->1480->1481->687->685->288->286->2160->2159->2158->286->59->35->36->270->564->1346->1347->1345->1971->1970->1969->1345->564->1366->1368->2046->2045->2044->1368->1367->564->562->563->270->268->269->1374->1373->1372->269->36->274->276->986->1384->1386->2316->2315->2314->1386->1466->1465->1467->1641->1639->1640->2514->2512->2513->1640->1467->1386->1385->986->987->985->276->275->573->572->571->275->893->1458->1456->1457->2119->2120->2121->1457->893->892->894->275->36->2391->2389->2390->36->34->1391->1392->1390->2022->2766->2764->2765->2022->2021->2020->1390->34->32->1->2299->2301->2300->1->86->87->190->191->308->309->307->619->621->620->307->345->1032->1030->1031->345->344->802->804->803->344->343->521->522->520->1085->1086->1084->520->612->611->1715->2684->2683->2685->1715->2487->2486->2485->1715->1714->2129->2128->2130->1714->1716->611->610->1662->1919->1918->1920->1662->1660->1661->610->520->343->307->847->849->848->307->940->1080->1078->1798->1799->1800->1951->1952->1953->1800->1078->1079->940->942->2350->2351->2352->942->941->2081->2080->2082->941->307->191->1139->1138->2744->2745->2743->1138->1140->191->192->233->2372->2373->2371->233->234->2213->2781->2779->2780->2213->2212->2214->234->1312->2617->2619->2618->1312->1314->1313->2631->2629->2630->1313->234->1499->1498->1924->1925->1926->1498->1500->234->232->192->87->360->1526->1527->1525->360->359->358->87->146->147->145->87->822->821->820->87->85->2209->2210->2480->2479->2481->2210->2211->85->193->607->609->608->637->638->1699->1700->1701->638->639->608->193->195->194->85->1->5->6->44->43->77->137->138->2427->2425->2426->138->170->171->169->138->136->160->1582->1583->1584->1948->1949->1950->2414->2450->2451->2449->2414->2415->2413->1950->1584->160->162->161->136->1735->1736->1737->136->77->1779->1778->1777->77->78->76->43->68->926->946->2676->2675->2674->946->947->948->926->925->927->68->806->805->2382->2381->2380->805->1322->1321->2196->2604->2603->2602->2196->2194->2195->1321->1323->2229->2228->2364->2363->2362->2228->2227->1323->805->807->891->889->890->807->68->69->335->334->336->794->793->795->1501->1503->1571->1570->1572->2653->2654->2655->1572->1938->2123->2122->2124->1938->1936->1937->1572->1503->1502->795->336->69->2635->2636->2637->69->116->185->1115->1114->1116->1428->1427->1426->1116->185->184->186->198->340->376->377->556->602->603->647->751->752->753->647->646->648->603->1005->1258->2767->2769->2768->1258->2799->2798->2797->1258->1260->1259->1005->1004->1003->603->601->556->557->1164->2575->2576->2577->1164->1163->1162->557->558->377->676->755->754->1461->1460->2460->2459->2649->2648->2647->2459->2458->1460->1832->1833->1831->1460->1459->2332->2333->2334->1459->754->855->882->1016->1740->2614->2616->2615->1740->1739->1738->1016->1017->1015->1451->2125->2126->2127->1451->1452->1450->1015->1636->1638->1637->1015->882->2145->2143->2144->882->880->881->855->1135->2034->2693->2694->2692->2034->2033->2032->1135->1136->1137->2139->2365->2759->2760->2758->2365->2367->2366->2139->2137->2138->1137->855->854->853->754->756->676->678->677->1009->1554->1587->1585->1586->1554->1664->1665->1663->1554->1552->2039->2038->2040->1552->1796->1797->1795->1552->1553->1009->1011->1010->677->377->378->340->341->342->420->418->419->342->918->917->916->1316->2115->2113->2114->1316->2013->2012->2011->1316->2435->2436->2434->1316->1317->1315->916->342->198->197->196->582->580->581->1197->1195->1196->581->1634->1633->1635->2448->2446->2447->1635->581->196->186->116->117->115->249->248->247->465->1577->1578->1576->465->464->463->247->115->139->175->355->357->356->644->836->837->835->644->643->645->356->503->2168->2169->2167->503->504->952->953->954->504->2404->2405->2406->504->502->2499->2498->2497->502->356->175->323->322->537->549->547->548->863->862->864->548->736->737->2088->2086->2087->737->738->1488->1791->1790->1789->1488->1487->2009->2010->2008->1487->1486->738->548->537->536->535->627->626->634->636->1287->1285->1286->636->1425->1424->1423->1942->1944->1943->1423->636->635->1201->1203->1876->1877->1878->1203->2663->2662->2664->1203->1202->1365->1364->1363->1202->635->1395->1393->1394->2677->2679->2678->1394->635->626->625->535->322->324->175->177->348->346->347->177->2171->2172->2170->177->304->306->1226->1227->1333->1334->1335->1227->1225->2276->2275->2277->1225->306->305->177->176->366->364->365->176->452->1447->1449->1448->452->1272->1406->1407->1405->1930->1932->1931->1405->1272->1270->1271->1724->1723->1725->1271->452->451->453->176->139->141->140->591->1037->2543->2793->2791->2792->2543->2544->2542->2566->2567->2568->2542->1037->1038->1036->591->622->624->983->2305->2307->2306->983->984->982->624->623->732->832->834->833->2727->2725->2726->833->732->731->730->623->591->589->888->887->2083->2085->2084->887->886->2794->2796->2795->886->1436->1935->1933->1934->2223->2221->2222->1934->1436->1435->2670->2668->2669->1435->1437->886->1263->1611->1609->1610->2751->2749->2750->1610->1263->1289->1288->1290->1263->1262->1261->886->589->590->1279->1280->1281->1867->1868->1869->1281->590->2035->2345->2502->2500->2501->2345->2346->2344->2035->2037->2036->590->140->115->405->404->403->569->570->1491->1489->1490->1922->1921->1923->1490->1751->1752->1750->1490->570->568->403->115->69->67->43->2207->2208->2206->43->1464->1462->1463->43->45->6->2468->2467->2469->6->915->913->914->6->4->120->119->118->125->583->585->735->1028->1029->1027->2292->2290->2291->1027->735->734->2424->2423->2422->734->733->585->979->980->981->585->584->2456->2457->2455->584->125->124->1615->1616->1617->124->126->553->688->690->689->553->555->566->565->567->555->1803->1801->1802->555->1060->1062->1061->555->750->748->749->1861->1862->2787->2785->2786->1862->1863->749->555->554->2198->2197->2199->554->126->118->4->2429->2430->2428->4->1->41->95->96->434->491->492->1419->1418->1528->1529->1530->1418->1417->2608->2609->2610->1417->492->1408->2303->2304->2302->1408->1860->1859->1858->2015->2016->2014->1858->2232->2231->2230->1858->1408->1410->1959->1957->1958->1410->1409->492->1689->1688->1687->492->490->434->433->435->96->94->2583->2581->2582->94->41->293->827->828->1185->1183->1184->828->826->293->1327->1726->1727->1728->1838->1837->1839->1728->1327->1328->1329->293->816->815->814->1681->1682->1683->814->293->292->294->1051->1052->1053->294->41->363->436->708->706->2239->2241->2240->706->707->436->437->534->2672->2671->2673->534->808->810->809->534->533->532->1035->1034->1033->532->437->1076->1077->1075->1444->1446->1445->1075->1680->1678->1679->1075->437->438->363->362->1340->1339->1341->1442->1441->2226->2225->2224->1441->2175->2173->2174->1441->1443->2041->2043->2680->2682->2681->2043->2042->1443->1341->362->458->1453->1455->1454->458->457->459->362->1512->1511->1510->1774->1775->1776->1510->362->361->41->214->1981->1983->1982->214->1827->1825->1826->214->215->605->604->606->215->410->1240->2523->2521->2522->1240->1242->1516->1518->1517->1242->1241->410->1388->1389->2733->2731->2732->1389->1387->410->409->411->215->216->41->53->52->121->326->325->327->121->123->1904->1905->1954->1956->1955->1905->1903->123->1651->1653->1652->2556->2555->2554->1652->123->386->1508->2059->2060->2061->1508->1507->2181->2179->2180->1507->1509->1964->1963->1965->1509->386->387->385->123->122->52->73->93->167->857->1787->2280->2279->2278->1787->1788->1786->857->858->856->167->168->2132->2131->2133->168->2584->2585->2586->168->740->741->739->1604->1605->1648->1650->1649->1605->1603->739->168->2321->2322->2320->168->1122->1120->2311->2313->2312->1120->1121->168->166->1523->1524->1522->166->179->320->1772->1773->1771->320->321->667->711->2266->2268->2267->711->729->2323->2325->2324->729->728->727->711->710->939->937->938->710->709->1484->2319->2317->2318->1484->1483->1485->2097->2096->2095->1485->709->667->669->1764->1762->1763->669->668->321->651->1106->1105->1107->1842->1840->1841->1107->651->650->1117->1119->1118->1400->1401->1399->1118->650->649->877->878->879->2190->2188->2189->879->649->321->381->380->379->321->319->528->527->1670->1671->1669->527->1997->1996->1998->527->526->319->179->178->631->1871->1872->1870->631->632->633->178->180->1703->2091->2089->2090->1703->1704->1702->180->1336->1337->1338->180->166->93->371->370->550->2626->2627->2628->550->551->618->616->2559->2557->2558->616->617->551->552->1978->2218->2220->2219->1978->1980->1979->552->370->372->93->297->296->295->93->91->92->73->74->2776->2778->2777->74->199->200->201->2482->2484->2483->201->399->398->1233->1850->1851->1849->1233->1232->1231->398->397->790->792->791->397->201->74->75->127->151->517->519->518->588->586->587->1246->1875->1874->1873->1246->1382->1383->1381->1246->1247->1248->587->518->1217->1216->1218->1475->1476->1474->1218->518->151->2643->2642'"
            ]
          },
          "metadata": {
            "tags": []
          },
          "execution_count": 134
        }
      ]
    },
    {
      "cell_type": "markdown",
      "metadata": {
        "id": "JCSW5pbEOx4d"
      },
      "source": [
        "##1.2.3 StringReconstruction\n",
        "\n",
        "We can therefore summarize this solution using the following pseudocode, which relies on three problems that we have already solved:\n",
        "\n",
        "1. The de Bruijn Graph Construction Problem;\n",
        "2. The Eulerian Path Problem;\n",
        "3. The String Spelled by a Genome Path Problem.\n"
      ]
    },
    {
      "cell_type": "code",
      "metadata": {
        "id": "pa8_wInCOxlW"
      },
      "source": [
        "# StringReconstruction(Patterns)\n",
        "#     dB ← DeBruijn(Patterns)\n",
        "#     path ← EulerianPath(dB)\n",
        "#     Text﻿ ← PathToGenome(path)\n",
        "#     return Text"
      ],
      "execution_count": null,
      "outputs": []
    },
    {
      "cell_type": "code",
      "metadata": {
        "colab": {
          "base_uri": "https://localhost:8080/",
          "height": 35
        },
        "id": "qc4DlafDQQ8h",
        "outputId": "7dc660c3-f90d-484c-ec64-b832d05d9abd"
      },
      "source": [
        "k = 4\n",
        "patterns = [\n",
        "'CTTA',\n",
        "'ACCA',\n",
        "'TACC',\n",
        "'GGCT',\n",
        "'GCTT',\n",
        "'TTAC']\n",
        "\n",
        "StringReconstruction(patterns)"
      ],
      "execution_count": 205,
      "outputs": [
        {
          "output_type": "execute_result",
          "data": {
            "application/vnd.google.colaboratory.intrinsic+json": {
              "type": "string"
            },
            "text/plain": [
              "'GGCTTACCA'"
            ]
          },
          "metadata": {
            "tags": []
          },
          "execution_count": 205
        }
      ]
    },
    {
      "cell_type": "code",
      "metadata": {
        "id": "txlaXcJRfu4T"
      },
      "source": [
        "def StringReconstruction(patterns):\n",
        "  k = len(patterns[0])\n",
        "\n",
        "  dB = CoolDebrujin(patterns)\n",
        "  dN = DeBrujinToNumbDict(dB)\n",
        "\n",
        "  lst, p = PrintEulerianPath(dN)\n",
        "\n",
        "  st = [NumberToPattern(val, k-1) for val in lst]\n",
        "\n",
        "  genome = ReconstrucString(st)\n",
        "\n",
        "  return genome "
      ],
      "execution_count": 204,
      "outputs": []
    },
    {
      "cell_type": "code",
      "metadata": {
        "id": "m5ckzfDBfgsZ"
      },
      "source": [
        "# Final function for string reconstruction\n",
        "def ReconstrucString(kmers):\n",
        "  pattern = kmers[0]\n",
        "  for kmer in kmers[1:]:\n",
        "    pattern = pattern + kmer[-1]\n",
        "  return pattern"
      ],
      "execution_count": 197,
      "outputs": []
    },
    {
      "cell_type": "code",
      "metadata": {
        "id": "mEc_KWSzatMU"
      },
      "source": [
        "# Modified Eulier path functions\n",
        "\n",
        "def GetUnbalancedNodes(edges):\n",
        "  outs = set(edges.keys())\n",
        "  ins = set( sum(edges.values(), [])) \n",
        "  nodes = outs.union(ins)\n",
        "\n",
        "  d_in = {key:0 for key in nodes}  \n",
        "\n",
        "  for values in edges.values():\n",
        "    if len(values) == 1:\n",
        "      d_in[values[0]] = d_in[values[0]] + 1 \n",
        "    else:\n",
        "      for val in values:\n",
        "        d_in[val] = d_in[val] + 1\n",
        "\n",
        "  d_out = {key:0 for key in nodes}\n",
        "  for out_edge, values in edges.items():\n",
        "    d_out[out_edge] = len(values)\n",
        "  # print('out', d_out)\n",
        "  # print('ins', d_in)\n",
        "\n",
        "  #unbalanced \n",
        "  out_node = []\n",
        "  in_node = []\n",
        "  for node in nodes:\n",
        "    if d_in[node] >  d_out[node]:\n",
        "      out_node = node\n",
        "    elif d_in[node] <  d_out[node]:\n",
        "      in_node  = node   \n",
        "\n",
        "  return out_node, in_node\n",
        "\n",
        "def StrPathToDict(graph):\n",
        "  d = dict()\n",
        "  for line in graph:\n",
        "    key = int(line.split('->')[0].split(' ')[0])\n",
        "    value = line.split('->')[1].split(' ')[1]\n",
        "    if ',' in value:\n",
        "      v = value.split(',')\n",
        "      d[key] = ([int(el) for el in v])\n",
        "    else:\n",
        "      d[key] = [(int(value))]\n",
        "  return d\n",
        "\n",
        "def StrPathToDict(graph):\n",
        "  d = dict()\n",
        "  for line in graph:\n",
        "    key = int(line.split('->')[0].split(' ')[0])\n",
        "    value = line.split('->')[1].split(' ')[1]\n",
        "    if ',' in value:\n",
        "      v = value.split(',')\n",
        "      d[key] = ([int(el) for el in v])\n",
        "    else:\n",
        "      d[key] = [(int(value))]\n",
        "  return d\n",
        "\n",
        "def CountIndegrees(d):\n",
        "  #d = StrPathToDict(graph)\n",
        "  remNodes = np.zeros(len(d))\n",
        "  for i, values in enumerate(d.values()):\n",
        "    for value in values:\n",
        "      remNodes[i] = remNodes[i] + 1\n",
        "  return remNodes\n",
        "\n",
        "def DeleteEdge(d, d1, d2):\n",
        "  # deletes edge d1->d2 from the dictionary d \n",
        "  if len(d[d1]) > 1:\n",
        "    lst = d[d1].copy()\n",
        "    lst.remove(d2)\n",
        "    d[d1] = lst.copy()\n",
        "  elif len(d[d1]) == 1:\n",
        "    del d[d1]\n",
        "\n",
        "  return d \n",
        "\n",
        "\n",
        "def TraverseCycle(cycle, remainingEdges):\n",
        "  nodesWithAvailableEdges = [node for node in cycle if node in list(remainingEdges.keys())]\n",
        "  randomNode = random.choice(nodesWithAvailableEdges)\n",
        "\n",
        "  idx = cycle.index(randomNode)\n",
        "  cycle = cycle[idx:] + cycle[1:idx+1]\n",
        "\n",
        "  return cycle\n",
        "\n",
        "def GetNextRandomNode(prevNode, remainingEdges):    \n",
        "  nextNode = random.choice([int(t) for t in remainingEdges[prevNode]])\n",
        "  return nextNode\n",
        "\n",
        "def GetNextNodeWithAvailableIndegrees(prevNode, remainingEdges):\n",
        "  return nextNode\n",
        "\n",
        "def MakeRandomCycle(edges, remainingEdges, startNode):\n",
        "  rCycle = []\n",
        "  rCycle.append(startNode)\n",
        "  \n",
        "  prevNode = startNode\n",
        "\n",
        "  while prevNode in remainingEdges.keys():\n",
        "\n",
        "    nextNode = GetNextRandomNode(prevNode, remainingEdges)\n",
        "  \n",
        "    #updating the data structures\n",
        "    DeleteEdge(remainingEdges, prevNode, nextNode) \n",
        "    rCycle.append(nextNode)\n",
        "    prevNode = nextNode\n",
        "\n",
        "  return rCycle \n",
        "\n",
        "def EulerianPath(edges):\n",
        "\n",
        "  # main data structures\n",
        "  targetCycleLen = sum(CountIndegrees(edges)) + 1\n",
        "  remainingEdges = edges.copy()\n",
        "  dictIndegrees = {k:v for  k, v in zip(edges.keys(), CountIndegrees(edges))}\n",
        "\n",
        "  #starting definitions\n",
        "  startNode = random.choice(list(dictIndegrees.keys()))\n",
        "  cycle = MakeRandomCycle(edges, remainingEdges, startNode)\n",
        "\n",
        "  while (len(cycle) != targetCycleLen) and (remainingEdges != {}):\n",
        "    \n",
        "    traversedCycle = TraverseCycle(cycle, remainingEdges)\n",
        "    cycle_ = MakeRandomCycle(edges, remainingEdges, traversedCycle[0])\n",
        "    cycle = traversedCycle[:-1] + cycle_\n",
        "\n",
        "\n",
        "  return cycle\n",
        "\n",
        "def PrintEulerianPath(edges):\n",
        "  #edges = StrPathToDict(graph)\n",
        "  out_node, in_node = GetUnbalancedNodes(edges)\n",
        "\n",
        "  if out_node in edges.keys():\n",
        "    edges[out_node].append(in_node)\n",
        "  else:\n",
        "    edges[out_node] = [in_node]\n",
        "\n",
        "  start_node = in_node\n",
        "  end_node = out_node\n",
        "  # print('start_node:', start_node)\n",
        "  # print('end_node:', end_node)\n",
        "\n",
        "  cyc = EulerianPath(edges)\n",
        "\n",
        "  # Transforming the cycle to start and end in the correct place\n",
        "\n",
        "  cyc.pop(-1)\n",
        "  if (cyc[0] !=start_node) and (cyc[-1] != end_node): \n",
        "    if (cyc[0] ==end_node) and (cyc[-1] == start_node):\n",
        "      cyc = list(cyc[-1]) + list(cyc[1:-1]) + list(cyc[0])\n",
        "    else:\n",
        "      idx = [k for k,v in enumerate(cyc) if (cyc[k]==end_node) and (cyc[k+1] == start_node)][0]\n",
        "     # print(idx, len(cyc))\n",
        "      cyc = list(cyc[idx+1:]) + list(cyc[:idx+1])\n",
        "        \n",
        "  s = ''\n",
        "  for node in cyc:\n",
        "    s = s + '->' + str(node)\n",
        "\n",
        "  return cyc, s[2:]"
      ],
      "execution_count": 213,
      "outputs": []
    },
    {
      "cell_type": "code",
      "metadata": {
        "id": "CV1epc3UaEka"
      },
      "source": [
        "# Debrujin functions\n",
        "# NumToPat and Pat to Num functions \n",
        "def CoolDebrujin(edges):\n",
        "  k = len(edges[0])\n",
        "  m = k-1\n",
        "\n",
        "  d = dict()\n",
        "  for edg in edges:\n",
        "    if edg[:m] in d.keys():\n",
        "      value = d[edg[:m]]\n",
        "      d[edg[:m]] = edg[-m:] +', '+ value\n",
        "    else:\n",
        "      d[edg[:m]] = edg[-m:]\n",
        "  return d\n",
        "\n",
        "def PatternToNumber(pattern):\n",
        "  d = {'A':0,'C':1,'G':2,'T':3}\n",
        "  if len(pattern) == 0:\n",
        "    num = 0\n",
        "  else:\n",
        "    symb = pattern[-1]\n",
        "    pref = pattern[:-1]\n",
        "    num = 4 * PatternToNumer(pref) + d[symb]\n",
        "  return num\n",
        "\n",
        "def DeBrujinToNumbDict(dB):\n",
        "  dN = dict()\n",
        "  for key, values in dB.items():\n",
        "    if (len(values.split(',')) == 1):\n",
        "      dN[PatternToNumber(key)] = [PatternToNumber(values)]\n",
        "    else:\n",
        "      dN[PatternToNumber(key)] = [PatternToNumber(val.strip()) for val in values.split(',')]\n",
        "  return dN\n",
        "\n",
        "def NumberToSymbol(num):\n",
        "  d = {0:'A', 1:'C', 2: 'G', 3: 'T'}\n",
        "  return d[num]\n",
        "\n",
        "def NumberToPattern(index, k):\n",
        "  if k == 1:\n",
        "    pattern = NumberToSymbol(index)\n",
        "  else:\n",
        "    prefixIndex = index // 4\n",
        "    r = index % 4\n",
        "    symb = NumberToSymbol(r)\n",
        "    prefixPattern = NumberToPattern(prefixIndex, k-1)\n",
        "    pattern = prefixPattern + symb\n",
        "  return pattern"
      ],
      "execution_count": 193,
      "outputs": []
    },
    {
      "cell_type": "markdown",
      "metadata": {
        "id": "JImDI-A3gQ8G"
      },
      "source": [
        "### Stepik submission"
      ]
    },
    {
      "cell_type": "code",
      "metadata": {
        "colab": {
          "resources": {
            "http://localhost:8080/nbextensions/google.colab/files.js": {
              "data": "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",
              "ok": true,
              "headers": [
                [
                  "content-type",
                  "application/javascript"
                ]
              ],
              "status": 200,
              "status_text": ""
            }
          },
          "base_uri": "https://localhost:8080/",
          "height": 89
        },
        "id": "Db-uLg6WaNr4",
        "outputId": "24d7506e-b1d8-45f6-fc28-f0ea7052c0c4"
      },
      "source": [
        "uploaded = files.upload()\n",
        "\n",
        "for fn in uploaded.keys():\n",
        "  print('User uploaded file \"{name}\" with length {length} bytes'.format(\n",
        "      name=fn, length=len(uploaded[fn])))"
      ],
      "execution_count": 206,
      "outputs": [
        {
          "output_type": "display_data",
          "data": {
            "text/html": [
              "\n",
              "     <input type=\"file\" id=\"files-c6c4f780-8f01-4e56-8345-748516a4c73f\" name=\"files[]\" multiple disabled\n",
              "        style=\"border:none\" />\n",
              "     <output id=\"result-c6c4f780-8f01-4e56-8345-748516a4c73f\">\n",
              "      Upload widget is only available when the cell has been executed in the\n",
              "      current browser session. Please rerun this cell to enable.\n",
              "      </output>\n",
              "      <script src=\"/nbextensions/google.colab/files.js\"></script> "
            ],
            "text/plain": [
              "<IPython.core.display.HTML object>"
            ]
          },
          "metadata": {
            "tags": []
          }
        },
        {
          "output_type": "stream",
          "text": [
            "Saving dataset_203_7.txt to dataset_203_7.txt\n",
            "User uploaded file \"dataset_203_7.txt\" with length 57619 bytes\n"
          ],
          "name": "stdout"
        }
      ]
    },
    {
      "cell_type": "code",
      "metadata": {
        "id": "EB5-zA5fgU9x"
      },
      "source": [
        "with open(fn) as f:\n",
        "  k = int(f.readline())\n",
        "  graph = f.readlines()\n",
        "graph = [g.split('\\n')[0] for g in graph]"
      ],
      "execution_count": 208,
      "outputs": []
    },
    {
      "cell_type": "code",
      "metadata": {
        "colab": {
          "base_uri": "https://localhost:8080/"
        },
        "id": "L7BbEVgcgevx",
        "outputId": "76cf8bfb-6102-4b6a-9714-aaed4fa74337"
      },
      "source": [
        "k"
      ],
      "execution_count": 209,
      "outputs": [
        {
          "output_type": "execute_result",
          "data": {
            "text/plain": [
              "25"
            ]
          },
          "metadata": {
            "tags": []
          },
          "execution_count": 209
        }
      ]
    },
    {
      "cell_type": "code",
      "metadata": {
        "colab": {
          "base_uri": "https://localhost:8080/"
        },
        "id": "9_rEVAjwgfPi",
        "outputId": "e86f708a-abe7-40c2-e4af-518bae20749d"
      },
      "source": [
        "graph[:5]"
      ],
      "execution_count": 215,
      "outputs": [
        {
          "output_type": "execute_result",
          "data": {
            "text/plain": [
              "['AATAAGGAACACTGCCCCAGGCCTA',\n",
              " 'AAGCCAGTTAACTCGACATCAGCTA',\n",
              " 'GGCGCCTGATCCAAATCCGCTACAG',\n",
              " 'ATAAAGAAAAGTGTAGTACGAGGGA',\n",
              " 'GTACGATCCGACTCAGCCAAAGGTC']"
            ]
          },
          "metadata": {
            "tags": []
          },
          "execution_count": 215
        }
      ]
    },
    {
      "cell_type": "code",
      "metadata": {
        "colab": {
          "base_uri": "https://localhost:8080/",
          "height": 171
        },
        "id": "HISoRh35gQFc",
        "outputId": "fe99f98e-5deb-4a66-acd8-3dc1e0ceef26"
      },
      "source": [
        "StringReconstruction(graph)"
      ],
      "execution_count": 214,
      "outputs": [
        {
          "output_type": "execute_result",
          "data": {
            "application/vnd.google.colaboratory.intrinsic+json": {
              "type": "string"
            },
            "text/plain": [
              "'GGAATAAGTCTGTACGTGGCGCCTGATCCAAATCCGCTACAGGTACCCGTCCTCGTCGGGTCACTGACCGGACATCCTTTCCGAGATTTCTATCGCCCATGACGACGATCCCTACCACGTGCACCGCGTAACGTAGTAGGAATACGAACAGCACGCCGTAAGGATGGTTGGATGTAACACCCCAGGATCTGCATTCGCCACTAGATGGCGTTCTGCTGTGGCAGGCTAGCGTTAATGCTAAAAGTTTCTGGTTAAGGCTACTGAGCAGCTTAAATCCCAACTGAGCGGCACAAGAGCGCGTGCTGAGGGTTCAGAAGGTCAAACAAGCGAGGTTGCTGGTCCGTGTCTGTTCTAGAGGGGTATGCGCGACCCGGTCATGCGCGGACTGGGTGCAGTGGAAATGTACGATCCGACTCAGCCAAAGGTCAGACGTTTTGATTACTCTACAGTGGTGGATCCTGAGTATCCAAGTTTAAGGAGGGCATGACGCTAAAACTTTTGGTAAAATTGCCTGTCAGGTGCAGCACCTTCTGTCATGCCGACGACTGAGTAAGCACATTATGCAACCTATAGAGTAGGTGCCGGCTCGCAACGAGGGGCGGATAGTCTTGGACGTAAGTGATGGACGGTTCGGTTGGGCTCATGGACACGGCTGAGTCTATGTAGACCGATTCCCCCGCTATTGTATACTTTAACTTAGCGCTATGATTGTGTTGAAGCTTATAACTCACTCCGTCACATTGCCTTCATAAGCTCTATGCCATTACCCTCTCATGAACAGGCAGCCCTTTCCGTTTGAGAAACATAGTGCCAACGGTGTGCGCGTGCAGAATTCCCTCAAAGCGCACCCTCATAGAGCGCGTCTAGTGGACTGCTGTGCGCTACGAGGCTACGATATGAACAAAATGATTGCTCTTTAACGATTGTAACGCAATAAGGAACACTGCCCCAGGCCTAAGAGCGTGCCCCAACGGGACTCGGGATTCTCATTCGGCGAGAGGGATCTTTTACTAGTGACAGACGACGACCCAGCAGAGGCACGCCGCAACTAGGGCGGAAAGACCCCGTTCCAGAAAATTAAGTGGATGGCCGCCCGGCGCTCCTGACAACAAACGCATCATACGCAAGGGACAGCCCAGAGGACTGCCCTGGAGGTAACCGTTAGGGCGCTAAACCACTATGTTATCGCACACGACTTAATAAGTTGGGAGGCTTGTCCCTACTCTGAGCAAGTGAAATGACCATCCTAAACCCCAAACCGTCGCTGGAAAGCTCGCTTATAGCGCGTGAGCATAAGGAAGTAGATTTTCCGCCATCGTGATAGGTAGGCGATTCGCCTATTAAAACGCTTGGGAGGTCTGACTCAATGCGATGTGATTTAGGCCTGAGAAATCTCATAGTGCACAGGCTGGTATCACTGCTGTCGGGGTACCGCCATAGTTTGAGTTGGATCCCGGTCGGAGCACACTGTATTTTTCGCGTCGAACATGTGAGAGCTTAGTACGAATACACGCCCCTATTCTCTGTATCTCGTTTACGGAGGATAGGAATTGCGATCTATCAGCAGGACAAAGTGTTCATCACTCCGTTATTTCCGTCTGTAATAGGTTCTTGGCGGTGGTCTGCAAGTAAGCCAGTTAACTCGACATCAGCTAACTAAGAGATTCAAATTTTATAGGGAATAACATACGCCCAGAAATGGGTTGAATGAAAGATCACGCAATCCGACCGAGAGCCTTGGCTTACAGCGGGGAGCCGCACCCTCTAAAGTTATTAAGACCAGTGTAGCGGCTTAAGAAAGTAAATTCCATGTCAATCAAGCCAGCATGAGAACTCTCCCCTGACTCTATGATCTTTAAAACGGTATAGACGCCTACAGCTCATCCTGTGGAAATAGATGCTCAATCTCGACTTAAGGCTAGAACGGGATCCCCTATTAAAAGAGGCACACTTAAAGACAGTCTTTAAGGAAAACGGATCGAGCAGAGTTATTTCACTACGGTTCTCACGACCCGACAATCGCCTAACACGGCGGGACGCTGGTAATGGGATTCTGTGTATAACTCTCGCCCGTCTAATGGTCCAAATAAAGAAAAGTGTAGTACGAGGGAGATGGGTGAGATATAAGACCATACGTGTCGAGTGGCGCGAAGAAGGCTACAGAGTGGCTCTCCAACACGCTTCGTCCCCCGCATTGTCGGGGTCTTAGAGTACGCTTGACCTCCATGATAGTGCCTATT'"
            ]
          },
          "metadata": {
            "tags": []
          },
          "execution_count": 214
        }
      ]
    },
    {
      "cell_type": "code",
      "metadata": {
        "id": "3fU8EzrkgQCw"
      },
      "source": [
        ""
      ],
      "execution_count": null,
      "outputs": []
    }
  ]
}